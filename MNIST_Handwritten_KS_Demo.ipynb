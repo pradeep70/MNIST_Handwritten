{
  "nbformat": 4,
  "nbformat_minor": 0,
  "metadata": {
    "colab": {
      "name": "MNIST_Handwritten_KS_Demo.ipynb",
      "provenance": [],
      "collapsed_sections": [],
      "include_colab_link": true
    },
    "kernelspec": {
      "name": "python3",
      "display_name": "Python 3"
    },
    "accelerator": "GPU",
    "gpuClass": "standard"
  },
  "cells": [
    {
      "cell_type": "markdown",
      "metadata": {
        "id": "view-in-github",
        "colab_type": "text"
      },
      "source": [
        "<a href=\"https://colab.research.google.com/github/pradeep70/MNIST_Handwritten/blob/main/MNIST_Handwritten_KS_Demo.ipynb\" target=\"_parent\"><img src=\"https://colab.research.google.com/assets/colab-badge.svg\" alt=\"Open In Colab\"/></a>"
      ]
    },
    {
      "cell_type": "markdown",
      "metadata": {
        "id": "PwEj36wcbsXF"
      },
      "source": [
        "####**Dataset Description**"
      ]
    },
    {
      "cell_type": "markdown",
      "metadata": {
        "id": "bbg_FbbPU2fe"
      },
      "source": [
        "\n",
        "The **[MNIST Handwritten Digit Classification Dataset](http://yann.lecun.com/exdb/mnist/)** consists of 60,000 training images and 10,000 testing images of handwritten digits.\n",
        "\n",
        "Each image is 28 pixels in height and 28 pixels in width, for a total of 784 pixels in total. Each pixel has a single pixel-value associated with it, indicating the lightness or darkness of that pixel, with higher numbers meaning darker. This pixel-value is an integer between 0 and 255, inclusive.\n",
        "\n",
        "![alt text](https://i.imgur.com/Su00XUA.png)\n",
        "\n"
      ]
    },
    {
      "cell_type": "markdown",
      "metadata": {
        "id": "yZBPiGLXYGUM"
      },
      "source": [
        "##Installing TensorFlow 2.x"
      ]
    },
    {
      "cell_type": "code",
      "metadata": {
        "id": "qSt1IGYaYe_y"
      },
      "source": [
        "# !pip install tensorflow"
      ],
      "execution_count": 1,
      "outputs": []
    },
    {
      "cell_type": "code",
      "metadata": {
        "id": "knttI4ECLnHE",
        "outputId": "f1905acc-3fdd-41b5-da3d-9f1a161ff5cc",
        "colab": {
          "base_uri": "https://localhost:8080/"
        }
      },
      "source": [
        "#verify the installation\n",
        "import tensorflow as tf\n",
        "from tensorflow import keras \n",
        "\n",
        "#Check tf.keras version\n",
        "print(tf.keras.__version__)\n"
      ],
      "execution_count": 2,
      "outputs": [
        {
          "output_type": "stream",
          "name": "stdout",
          "text": [
            "2.8.0\n"
          ]
        }
      ]
    },
    {
      "cell_type": "markdown",
      "metadata": {
        "id": "M0UnlNytbPmC"
      },
      "source": [
        "###Loading the Data"
      ]
    },
    {
      "cell_type": "markdown",
      "metadata": {
        "id": "peAAgeflZwcH"
      },
      "source": [
        "Load and prepare the [MNIST dataset](http://yann.lecun.com/exdb/mnist/) and convert the samples from integers to floating-point numbers and deal with categorical data:"
      ]
    },
    {
      "cell_type": "code",
      "metadata": {
        "id": "c8-PSPuqLn_K"
      },
      "source": [
        "# Loading MNIST dataset\n",
        "mnist = keras.datasets.mnist \n",
        "(X_train, Y_train), (X_test, Y_test) = mnist.load_data()"
      ],
      "execution_count": 3,
      "outputs": []
    },
    {
      "cell_type": "code",
      "source": [
        "Y_TRAIN = Y_train\n",
        "Y_TEST = Y_test"
      ],
      "metadata": {
        "id": "FcXQGI2XF63a"
      },
      "execution_count": 4,
      "outputs": []
    },
    {
      "cell_type": "code",
      "metadata": {
        "id": "2yi5g-DoGBY_"
      },
      "source": [
        "X_TRAIN = X_train\n",
        "X_TEST = X_test"
      ],
      "execution_count": 5,
      "outputs": []
    },
    {
      "cell_type": "code",
      "metadata": {
        "id": "t_v4WkSBLrJH",
        "outputId": "18ebe86d-efc5-496f-af6a-a96baab9b751",
        "colab": {
          "base_uri": "https://localhost:8080/"
        }
      },
      "source": [
        "# Data Exploration\n",
        "print(X_train.shape)\n",
        "print(X_test.shape)"
      ],
      "execution_count": 6,
      "outputs": [
        {
          "output_type": "stream",
          "name": "stdout",
          "text": [
            "(60000, 28, 28)\n",
            "(10000, 28, 28)\n"
          ]
        }
      ]
    },
    {
      "cell_type": "code",
      "source": [
        "X_TRAIN[1].shape"
      ],
      "metadata": {
        "colab": {
          "base_uri": "https://localhost:8080/"
        },
        "id": "5_1cc2kDFpp_",
        "outputId": "ff816991-6319-459a-f7f5-230042c8cfc1"
      },
      "execution_count": 7,
      "outputs": [
        {
          "output_type": "execute_result",
          "data": {
            "text/plain": [
              "(28, 28)"
            ]
          },
          "metadata": {},
          "execution_count": 7
        }
      ]
    },
    {
      "cell_type": "markdown",
      "metadata": {
        "id": "WQR_cGsYaWVD"
      },
      "source": [
        "###Data Preprocessing"
      ]
    },
    {
      "cell_type": "code",
      "metadata": {
        "id": "eH99QHr5Pyz0"
      },
      "source": [
        "X_train = X_train.astype('float32')\n",
        "X_test = X_test.astype('float32') "
      ],
      "execution_count": 8,
      "outputs": []
    },
    {
      "cell_type": "code",
      "metadata": {
        "id": "5uAo7yDtRhbG",
        "outputId": "e55bfb4a-aed8-4358-f397-2a074c542d71",
        "colab": {
          "base_uri": "https://localhost:8080/"
        }
      },
      "source": [
        "# X_train is 60000 rows of 28x28 values; we reshape it to # 60000 x 784. \n",
        "RESHAPED = 784 # 28x28 = 784 neurons\n",
        "X_train = X_train.reshape(60000, RESHAPED) \n",
        "X_test = X_test.reshape(10000, RESHAPED) \n",
        "\n",
        "# Data is converted into float32 to use 32-bit precision # when training a neural network \n",
        "X_train = X_train.astype('float32')\n",
        "X_test = X_test.astype('float32') \n",
        "\n",
        "# Normalizing the input to be within the range [0,1]\n",
        "X_train /= 255\n",
        "#intensity of each pixel is divided by 255, the maximum intensity value\n",
        "X_test /= 255\n",
        "print(X_train.shape[0], 'train samples') \n",
        "print(X_test.shape[0], 'test samples') \n",
        "\n",
        "# One-hot representation of the labels.\n",
        "Y_train = tf.keras.utils.to_categorical(Y_train, 10) \n",
        "Y_test = tf.keras.utils.to_categorical(Y_test, 10)\n"
      ],
      "execution_count": 9,
      "outputs": [
        {
          "output_type": "stream",
          "name": "stdout",
          "text": [
            "60000 train samples\n",
            "10000 test samples\n"
          ]
        }
      ]
    },
    {
      "cell_type": "markdown",
      "metadata": {
        "id": "8g6qsSi21x97"
      },
      "source": [
        "## Designing the Model"
      ]
    },
    {
      "cell_type": "markdown",
      "metadata": {
        "id": "ajqy56PT_pHr"
      },
      "source": [
        "###Preparing the Model 0: Single layer Perceptron"
      ]
    },
    {
      "cell_type": "markdown",
      "metadata": {
        "id": "wncYBuNkaCFf"
      },
      "source": [
        "Build the `Sequential` model with 0 hidden layers. Choose an optimizer and loss function for training:"
      ]
    },
    {
      "cell_type": "code",
      "metadata": {
        "id": "2Q5jFOQUM-c0"
      },
      "source": [
        "import tensorflow as tf\n",
        "from tensorflow.keras.layers import Dense\n",
        "from tensorflow.keras import Sequential\n",
        "model_0 = Sequential()\n",
        "# Now the model will take as input arrays of shape (*, 784)# and output arrays of shape (*, 10)\n",
        "model_0.add(Dense(10,input_shape=(784,),name='dense_layer', activation='softmax')) "
      ],
      "execution_count": 10,
      "outputs": []
    },
    {
      "cell_type": "code",
      "metadata": {
        "id": "ocCzyD2SWC9I"
      },
      "source": [
        "# Compiling the model.\n",
        "model_0.compile(optimizer='SGD', \n",
        "              loss='categorical_crossentropy',\n",
        "              metrics=['accuracy'])"
      ],
      "execution_count": 11,
      "outputs": []
    },
    {
      "cell_type": "code",
      "metadata": {
        "id": "fvAt9Atl-cnx",
        "outputId": "99b61dd3-fe0a-4094-b72d-a70750865313",
        "colab": {
          "base_uri": "https://localhost:8080/"
        }
      },
      "source": [
        "# Training the model. \n",
        "training = model_0.fit(X_train, Y_train, batch_size=64, epochs=70, validation_split=0.2) "
      ],
      "execution_count": 12,
      "outputs": [
        {
          "output_type": "stream",
          "name": "stdout",
          "text": [
            "Epoch 1/70\n",
            "750/750 [==============================] - 4s 4ms/step - loss: 1.1013 - accuracy: 0.7473 - val_loss: 0.6540 - val_accuracy: 0.8630\n",
            "Epoch 2/70\n",
            "750/750 [==============================] - 3s 4ms/step - loss: 0.6052 - accuracy: 0.8574 - val_loss: 0.5060 - val_accuracy: 0.8768\n",
            "Epoch 3/70\n",
            "750/750 [==============================] - 3s 4ms/step - loss: 0.5102 - accuracy: 0.8714 - val_loss: 0.4485 - val_accuracy: 0.8860\n",
            "Epoch 4/70\n",
            "750/750 [==============================] - 3s 4ms/step - loss: 0.4643 - accuracy: 0.8788 - val_loss: 0.4167 - val_accuracy: 0.8915\n",
            "Epoch 5/70\n",
            "750/750 [==============================] - 2s 2ms/step - loss: 0.4361 - accuracy: 0.8842 - val_loss: 0.3960 - val_accuracy: 0.8958\n",
            "Epoch 6/70\n",
            "750/750 [==============================] - 2s 3ms/step - loss: 0.4165 - accuracy: 0.8885 - val_loss: 0.3809 - val_accuracy: 0.8996\n",
            "Epoch 7/70\n",
            "750/750 [==============================] - 2s 2ms/step - loss: 0.4019 - accuracy: 0.8913 - val_loss: 0.3697 - val_accuracy: 0.9015\n",
            "Epoch 8/70\n",
            "750/750 [==============================] - 2s 3ms/step - loss: 0.3904 - accuracy: 0.8936 - val_loss: 0.3608 - val_accuracy: 0.9036\n",
            "Epoch 9/70\n",
            "750/750 [==============================] - 2s 3ms/step - loss: 0.3810 - accuracy: 0.8962 - val_loss: 0.3535 - val_accuracy: 0.9037\n",
            "Epoch 10/70\n",
            "750/750 [==============================] - 2s 3ms/step - loss: 0.3732 - accuracy: 0.8976 - val_loss: 0.3474 - val_accuracy: 0.9052\n",
            "Epoch 11/70\n",
            "750/750 [==============================] - 2s 3ms/step - loss: 0.3666 - accuracy: 0.8993 - val_loss: 0.3424 - val_accuracy: 0.9055\n",
            "Epoch 12/70\n",
            "750/750 [==============================] - 2s 2ms/step - loss: 0.3608 - accuracy: 0.9006 - val_loss: 0.3377 - val_accuracy: 0.9079\n",
            "Epoch 13/70\n",
            "750/750 [==============================] - 2s 3ms/step - loss: 0.3558 - accuracy: 0.9018 - val_loss: 0.3339 - val_accuracy: 0.9093\n",
            "Epoch 14/70\n",
            "750/750 [==============================] - 2s 3ms/step - loss: 0.3513 - accuracy: 0.9029 - val_loss: 0.3303 - val_accuracy: 0.9094\n",
            "Epoch 15/70\n",
            "750/750 [==============================] - 2s 3ms/step - loss: 0.3473 - accuracy: 0.9038 - val_loss: 0.3273 - val_accuracy: 0.9103\n",
            "Epoch 16/70\n",
            "750/750 [==============================] - 2s 3ms/step - loss: 0.3437 - accuracy: 0.9049 - val_loss: 0.3242 - val_accuracy: 0.9107\n",
            "Epoch 17/70\n",
            "750/750 [==============================] - 2s 2ms/step - loss: 0.3404 - accuracy: 0.9052 - val_loss: 0.3222 - val_accuracy: 0.9114\n",
            "Epoch 18/70\n",
            "750/750 [==============================] - 2s 3ms/step - loss: 0.3375 - accuracy: 0.9064 - val_loss: 0.3194 - val_accuracy: 0.9117\n",
            "Epoch 19/70\n",
            "750/750 [==============================] - 2s 2ms/step - loss: 0.3347 - accuracy: 0.9067 - val_loss: 0.3172 - val_accuracy: 0.9128\n",
            "Epoch 20/70\n",
            "750/750 [==============================] - 2s 3ms/step - loss: 0.3321 - accuracy: 0.9078 - val_loss: 0.3153 - val_accuracy: 0.9122\n",
            "Epoch 21/70\n",
            "750/750 [==============================] - 2s 3ms/step - loss: 0.3298 - accuracy: 0.9082 - val_loss: 0.3136 - val_accuracy: 0.9137\n",
            "Epoch 22/70\n",
            "750/750 [==============================] - 2s 3ms/step - loss: 0.3276 - accuracy: 0.9089 - val_loss: 0.3116 - val_accuracy: 0.9139\n",
            "Epoch 23/70\n",
            "750/750 [==============================] - 2s 2ms/step - loss: 0.3255 - accuracy: 0.9093 - val_loss: 0.3101 - val_accuracy: 0.9143\n",
            "Epoch 24/70\n",
            "750/750 [==============================] - 2s 2ms/step - loss: 0.3236 - accuracy: 0.9100 - val_loss: 0.3085 - val_accuracy: 0.9144\n",
            "Epoch 25/70\n",
            "750/750 [==============================] - 2s 3ms/step - loss: 0.3218 - accuracy: 0.9101 - val_loss: 0.3073 - val_accuracy: 0.9152\n",
            "Epoch 26/70\n",
            "750/750 [==============================] - 2s 2ms/step - loss: 0.3201 - accuracy: 0.9110 - val_loss: 0.3059 - val_accuracy: 0.9154\n",
            "Epoch 27/70\n",
            "750/750 [==============================] - 2s 3ms/step - loss: 0.3184 - accuracy: 0.9112 - val_loss: 0.3049 - val_accuracy: 0.9153\n",
            "Epoch 28/70\n",
            "750/750 [==============================] - 2s 3ms/step - loss: 0.3170 - accuracy: 0.9117 - val_loss: 0.3036 - val_accuracy: 0.9158\n",
            "Epoch 29/70\n",
            "750/750 [==============================] - 2s 3ms/step - loss: 0.3155 - accuracy: 0.9119 - val_loss: 0.3026 - val_accuracy: 0.9158\n",
            "Epoch 30/70\n",
            "750/750 [==============================] - 2s 2ms/step - loss: 0.3141 - accuracy: 0.9126 - val_loss: 0.3015 - val_accuracy: 0.9162\n",
            "Epoch 31/70\n",
            "750/750 [==============================] - 2s 3ms/step - loss: 0.3129 - accuracy: 0.9130 - val_loss: 0.3004 - val_accuracy: 0.9165\n",
            "Epoch 32/70\n",
            "750/750 [==============================] - 2s 3ms/step - loss: 0.3116 - accuracy: 0.9134 - val_loss: 0.2995 - val_accuracy: 0.9172\n",
            "Epoch 33/70\n",
            "750/750 [==============================] - 2s 3ms/step - loss: 0.3104 - accuracy: 0.9138 - val_loss: 0.2987 - val_accuracy: 0.9171\n",
            "Epoch 34/70\n",
            "750/750 [==============================] - 2s 3ms/step - loss: 0.3092 - accuracy: 0.9138 - val_loss: 0.2980 - val_accuracy: 0.9171\n",
            "Epoch 35/70\n",
            "750/750 [==============================] - 2s 2ms/step - loss: 0.3082 - accuracy: 0.9144 - val_loss: 0.2970 - val_accuracy: 0.9177\n",
            "Epoch 36/70\n",
            "750/750 [==============================] - 2s 3ms/step - loss: 0.3071 - accuracy: 0.9145 - val_loss: 0.2962 - val_accuracy: 0.9176\n",
            "Epoch 37/70\n",
            "750/750 [==============================] - 2s 2ms/step - loss: 0.3061 - accuracy: 0.9149 - val_loss: 0.2956 - val_accuracy: 0.9178\n",
            "Epoch 38/70\n",
            "750/750 [==============================] - 2s 3ms/step - loss: 0.3052 - accuracy: 0.9151 - val_loss: 0.2947 - val_accuracy: 0.9177\n",
            "Epoch 39/70\n",
            "750/750 [==============================] - 2s 3ms/step - loss: 0.3042 - accuracy: 0.9153 - val_loss: 0.2943 - val_accuracy: 0.9183\n",
            "Epoch 40/70\n",
            "750/750 [==============================] - 2s 2ms/step - loss: 0.3033 - accuracy: 0.9157 - val_loss: 0.2936 - val_accuracy: 0.9189\n",
            "Epoch 41/70\n",
            "750/750 [==============================] - 2s 2ms/step - loss: 0.3024 - accuracy: 0.9156 - val_loss: 0.2929 - val_accuracy: 0.9182\n",
            "Epoch 42/70\n",
            "750/750 [==============================] - 2s 2ms/step - loss: 0.3016 - accuracy: 0.9157 - val_loss: 0.2924 - val_accuracy: 0.9184\n",
            "Epoch 43/70\n",
            "750/750 [==============================] - 2s 3ms/step - loss: 0.3008 - accuracy: 0.9160 - val_loss: 0.2916 - val_accuracy: 0.9187\n",
            "Epoch 44/70\n",
            "750/750 [==============================] - 2s 3ms/step - loss: 0.2999 - accuracy: 0.9165 - val_loss: 0.2915 - val_accuracy: 0.9187\n",
            "Epoch 45/70\n",
            "750/750 [==============================] - 3s 4ms/step - loss: 0.2993 - accuracy: 0.9166 - val_loss: 0.2907 - val_accuracy: 0.9197\n",
            "Epoch 46/70\n",
            "750/750 [==============================] - 2s 3ms/step - loss: 0.2985 - accuracy: 0.9169 - val_loss: 0.2902 - val_accuracy: 0.9197\n",
            "Epoch 47/70\n",
            "750/750 [==============================] - 2s 2ms/step - loss: 0.2978 - accuracy: 0.9168 - val_loss: 0.2897 - val_accuracy: 0.9192\n",
            "Epoch 48/70\n",
            "750/750 [==============================] - 2s 2ms/step - loss: 0.2971 - accuracy: 0.9170 - val_loss: 0.2893 - val_accuracy: 0.9200\n",
            "Epoch 49/70\n",
            "750/750 [==============================] - 2s 2ms/step - loss: 0.2964 - accuracy: 0.9169 - val_loss: 0.2887 - val_accuracy: 0.9201\n",
            "Epoch 50/70\n",
            "750/750 [==============================] - 2s 2ms/step - loss: 0.2958 - accuracy: 0.9175 - val_loss: 0.2880 - val_accuracy: 0.9201\n",
            "Epoch 51/70\n",
            "750/750 [==============================] - 2s 3ms/step - loss: 0.2951 - accuracy: 0.9179 - val_loss: 0.2880 - val_accuracy: 0.9201\n",
            "Epoch 52/70\n",
            "750/750 [==============================] - 2s 2ms/step - loss: 0.2946 - accuracy: 0.9176 - val_loss: 0.2872 - val_accuracy: 0.9199\n",
            "Epoch 53/70\n",
            "750/750 [==============================] - 2s 3ms/step - loss: 0.2940 - accuracy: 0.9180 - val_loss: 0.2868 - val_accuracy: 0.9203\n",
            "Epoch 54/70\n",
            "750/750 [==============================] - 2s 2ms/step - loss: 0.2934 - accuracy: 0.9180 - val_loss: 0.2865 - val_accuracy: 0.9202\n",
            "Epoch 55/70\n",
            "750/750 [==============================] - 2s 2ms/step - loss: 0.2928 - accuracy: 0.9186 - val_loss: 0.2860 - val_accuracy: 0.9200\n",
            "Epoch 56/70\n",
            "750/750 [==============================] - 2s 3ms/step - loss: 0.2923 - accuracy: 0.9186 - val_loss: 0.2856 - val_accuracy: 0.9205\n",
            "Epoch 57/70\n",
            "750/750 [==============================] - 2s 3ms/step - loss: 0.2917 - accuracy: 0.9189 - val_loss: 0.2853 - val_accuracy: 0.9201\n",
            "Epoch 58/70\n",
            "750/750 [==============================] - 2s 3ms/step - loss: 0.2912 - accuracy: 0.9188 - val_loss: 0.2850 - val_accuracy: 0.9205\n",
            "Epoch 59/70\n",
            "750/750 [==============================] - 2s 2ms/step - loss: 0.2907 - accuracy: 0.9189 - val_loss: 0.2847 - val_accuracy: 0.9206\n",
            "Epoch 60/70\n",
            "750/750 [==============================] - 2s 2ms/step - loss: 0.2901 - accuracy: 0.9193 - val_loss: 0.2844 - val_accuracy: 0.9207\n",
            "Epoch 61/70\n",
            "750/750 [==============================] - 2s 2ms/step - loss: 0.2898 - accuracy: 0.9193 - val_loss: 0.2841 - val_accuracy: 0.9203\n",
            "Epoch 62/70\n",
            "750/750 [==============================] - 2s 3ms/step - loss: 0.2893 - accuracy: 0.9193 - val_loss: 0.2838 - val_accuracy: 0.9210\n",
            "Epoch 63/70\n",
            "750/750 [==============================] - 2s 2ms/step - loss: 0.2888 - accuracy: 0.9195 - val_loss: 0.2835 - val_accuracy: 0.9214\n",
            "Epoch 64/70\n",
            "750/750 [==============================] - 2s 2ms/step - loss: 0.2883 - accuracy: 0.9198 - val_loss: 0.2830 - val_accuracy: 0.9211\n",
            "Epoch 65/70\n",
            "750/750 [==============================] - 2s 3ms/step - loss: 0.2879 - accuracy: 0.9199 - val_loss: 0.2830 - val_accuracy: 0.9206\n",
            "Epoch 66/70\n",
            "750/750 [==============================] - 2s 3ms/step - loss: 0.2874 - accuracy: 0.9202 - val_loss: 0.2828 - val_accuracy: 0.9209\n",
            "Epoch 67/70\n",
            "750/750 [==============================] - 2s 2ms/step - loss: 0.2871 - accuracy: 0.9200 - val_loss: 0.2822 - val_accuracy: 0.9210\n",
            "Epoch 68/70\n",
            "750/750 [==============================] - 2s 2ms/step - loss: 0.2866 - accuracy: 0.9200 - val_loss: 0.2822 - val_accuracy: 0.9208\n",
            "Epoch 69/70\n",
            "750/750 [==============================] - 2s 3ms/step - loss: 0.2862 - accuracy: 0.9204 - val_loss: 0.2818 - val_accuracy: 0.9212\n",
            "Epoch 70/70\n",
            "750/750 [==============================] - 2s 2ms/step - loss: 0.2858 - accuracy: 0.9205 - val_loss: 0.2814 - val_accuracy: 0.9212\n"
          ]
        }
      ]
    },
    {
      "cell_type": "code",
      "metadata": {
        "id": "hof2yoiDBCab",
        "outputId": "766f6b40-960d-43fe-e33c-08f28b147a4e",
        "colab": {
          "base_uri": "https://localhost:8080/",
          "height": 590
        }
      },
      "source": [
        "import matplotlib.pyplot as plt\n",
        "%matplotlib inline\n",
        "# list all data in training\n",
        "print(training.history.keys())\n",
        "# summarize training for accuracy\n",
        "plt.plot(training.history['accuracy'])\n",
        "plt.plot(training.history['val_accuracy'])\n",
        "plt.title('model accuracy')\n",
        "plt.ylabel('accuracy')\n",
        "plt.xlabel('epoch')\n",
        "plt.legend(['train', 'test'], loc='upper left')\n",
        "plt.show()\n",
        "# summarize traning for loss\n",
        "plt.plot(training.history['loss'])\n",
        "plt.plot(training.history['val_loss'])\n",
        "plt.title('model loss')\n",
        "plt.ylabel('loss')\n",
        "plt.xlabel('epoch')\n",
        "plt.legend(['train', 'test'], loc='upper left')\n",
        "plt.show()"
      ],
      "execution_count": 13,
      "outputs": [
        {
          "output_type": "stream",
          "name": "stdout",
          "text": [
            "dict_keys(['loss', 'accuracy', 'val_loss', 'val_accuracy'])\n"
          ]
        },
        {
          "output_type": "display_data",
          "data": {
            "text/plain": [
              "<Figure size 432x288 with 1 Axes>"
            ],
            "image/png": "[encoded data removed]"
          },
          "metadata": {
            "needs_background": "light"
          }
        },
        {
          "output_type": "display_data",
          "data": {
            "text/plain": [
              "<Figure size 432x288 with 1 Axes>"
            ],
            "image/png": "[encoded data removed]"
          },
          "metadata": {
            "needs_background": "light"
          }
        }
      ]
    },
    {
      "cell_type": "code",
      "metadata": {
        "id": "SzP_B7w7_1tj",
        "outputId": "71080e47-d95b-422b-b48d-437a25a93a09",
        "colab": {
          "base_uri": "https://localhost:8080/"
        }
      },
      "source": [
        "#evaluate the model\n",
        "test_loss, test_acc = model_0.evaluate(X_test, Y_test)\n",
        "print('Test accuracy:', test_acc)"
      ],
      "execution_count": 14,
      "outputs": [
        {
          "output_type": "stream",
          "name": "stdout",
          "text": [
            "313/313 [==============================] - 1s 2ms/step - loss: 0.2827 - accuracy: 0.9210\n",
            "Test accuracy: 0.9210000038146973\n"
          ]
        }
      ]
    },
    {
      "cell_type": "code",
      "metadata": {
        "id": "ZrHaOTYTaukM",
        "outputId": "a9ede961-e0bd-4a8c-8566-7d8178b70f4c",
        "colab": {
          "base_uri": "https://localhost:8080/"
        }
      },
      "source": [
        "model_0.summary()"
      ],
      "execution_count": 15,
      "outputs": [
        {
          "output_type": "stream",
          "name": "stdout",
          "text": [
            "Model: \"sequential\"\n",
            "_________________________________________________________________\n",
            " Layer (type)                Output Shape              Param #   \n",
            "=================================================================\n",
            " dense_layer (Dense)         (None, 10)                7850      \n",
            "                                                                 \n",
            "=================================================================\n",
            "Total params: 7,850\n",
            "Trainable params: 7,850\n",
            "Non-trainable params: 0\n",
            "_________________________________________________________________\n"
          ]
        }
      ]
    },
    {
      "cell_type": "code",
      "metadata": {
        "id": "SsL3O8UfartE",
        "outputId": "9b17c587-0496-41c0-dbf3-f70d497fd49c",
        "colab": {
          "base_uri": "https://localhost:8080/"
        }
      },
      "source": [
        "model_0.get_config()"
      ],
      "execution_count": 16,
      "outputs": [
        {
          "output_type": "execute_result",
          "data": {
            "text/plain": [
              "{'layers': [{'class_name': 'InputLayer',\n",
              "   'config': {'batch_input_shape': (None, 784),\n",
              "    'dtype': 'float32',\n",
              "    'name': 'dense_layer_input',\n",
              "    'ragged': False,\n",
              "    'sparse': False}},\n",
              "  {'class_name': 'Dense',\n",
              "   'config': {'activation': 'softmax',\n",
              "    'activity_regularizer': None,\n",
              "    'batch_input_shape': (None, 784),\n",
              "    'bias_constraint': None,\n",
              "    'bias_initializer': {'class_name': 'Zeros', 'config': {}},\n",
              "    'bias_regularizer': None,\n",
              "    'dtype': 'float32',\n",
              "    'kernel_constraint': None,\n",
              "    'kernel_initializer': {'class_name': 'GlorotUniform',\n",
              "     'config': {'seed': None}},\n",
              "    'kernel_regularizer': None,\n",
              "    'name': 'dense_layer',\n",
              "    'trainable': True,\n",
              "    'units': 10,\n",
              "    'use_bias': True}}],\n",
              " 'name': 'sequential'}"
            ]
          },
          "metadata": {},
          "execution_count": 16
        }
      ]
    },
    {
      "cell_type": "markdown",
      "metadata": {
        "id": "n8iGAu5OAO5Y"
      },
      "source": [
        "###Improved Model 1: Adding Hidden Layer - Multi Layer Perceptron "
      ]
    },
    {
      "cell_type": "code",
      "metadata": {
        "id": "VVkZL5uiAhJB"
      },
      "source": [
        "#Most common type of model is a stack of layers\n",
        "model_1 = tf.keras.Sequential()\n",
        "N_hidden = 64\n",
        "# Adds a densely-connected layer with 64 units to the model:\n",
        "model_1.add(Dense(N_hidden, name='dense_layer', input_shape=(784,), activation = 'relu'))\n",
        "# Now the model will take as input arrays of shape (*, 784)# and output arrays of shape (*, 64)\n",
        "\n",
        "# Adding another dense layer:\n",
        "model_1.add(Dense(N_hidden, name='dense_layer_2', activation='relu'))\n",
        "# After the first layer, you don't need to specify\u000b# the size of the input anymore:\n",
        "# Add an output layer with 10 output units (10 different classes):\n",
        "model_1.add(Dense(10, name='dense_layer_3', activation = 'softmax'))"
      ],
      "execution_count": 17,
      "outputs": []
    },
    {
      "cell_type": "code",
      "metadata": {
        "id": "MiYit8ATfCXw"
      },
      "source": [
        "# Compiling the model.\n",
        "model_1.compile(optimizer='SGD', \n",
        "              loss='categorical_crossentropy',\n",
        "              metrics=['accuracy'])"
      ],
      "execution_count": 18,
      "outputs": []
    },
    {
      "cell_type": "code",
      "metadata": {
        "outputId": "e5652b2a-b178-480e-cf5a-bed3a75b1556",
        "id": "qeWrSoxzfCYE",
        "colab": {
          "base_uri": "https://localhost:8080/"
        }
      },
      "source": [
        "# Training the model. \n",
        "training = model_1.fit(X_train, Y_train, batch_size=64, epochs=100, validation_split=0.2) "
      ],
      "execution_count": 19,
      "outputs": [
        {
          "output_type": "stream",
          "name": "stdout",
          "text": [
            "Epoch 1/100\n",
            "750/750 [==============================] - 3s 3ms/step - loss: 1.0748 - accuracy: 0.7190 - val_loss: 0.4722 - val_accuracy: 0.8794\n",
            "Epoch 2/100\n",
            "750/750 [==============================] - 2s 3ms/step - loss: 0.4263 - accuracy: 0.8830 - val_loss: 0.3479 - val_accuracy: 0.9033\n",
            "Epoch 3/100\n",
            "750/750 [==============================] - 2s 3ms/step - loss: 0.3501 - accuracy: 0.9016 - val_loss: 0.3096 - val_accuracy: 0.9113\n",
            "Epoch 4/100\n",
            "750/750 [==============================] - 2s 3ms/step - loss: 0.3142 - accuracy: 0.9121 - val_loss: 0.2813 - val_accuracy: 0.9187\n",
            "Epoch 5/100\n",
            "750/750 [==============================] - 2s 3ms/step - loss: 0.2893 - accuracy: 0.9183 - val_loss: 0.2634 - val_accuracy: 0.9258\n",
            "Epoch 6/100\n",
            "750/750 [==============================] - 2s 3ms/step - loss: 0.2690 - accuracy: 0.9239 - val_loss: 0.2487 - val_accuracy: 0.9295\n",
            "Epoch 7/100\n",
            "750/750 [==============================] - 2s 3ms/step - loss: 0.2527 - accuracy: 0.9289 - val_loss: 0.2332 - val_accuracy: 0.9348\n",
            "Epoch 8/100\n",
            "750/750 [==============================] - 2s 3ms/step - loss: 0.2376 - accuracy: 0.9331 - val_loss: 0.2223 - val_accuracy: 0.9374\n",
            "Epoch 9/100\n",
            "750/750 [==============================] - 2s 3ms/step - loss: 0.2246 - accuracy: 0.9363 - val_loss: 0.2121 - val_accuracy: 0.9412\n",
            "Epoch 10/100\n",
            "750/750 [==============================] - 2s 3ms/step - loss: 0.2127 - accuracy: 0.9393 - val_loss: 0.2027 - val_accuracy: 0.9440\n",
            "Epoch 11/100\n",
            "750/750 [==============================] - 2s 3ms/step - loss: 0.2017 - accuracy: 0.9423 - val_loss: 0.1943 - val_accuracy: 0.9461\n",
            "Epoch 12/100\n",
            "750/750 [==============================] - 2s 3ms/step - loss: 0.1920 - accuracy: 0.9449 - val_loss: 0.1860 - val_accuracy: 0.9492\n",
            "Epoch 13/100\n",
            "750/750 [==============================] - 2s 3ms/step - loss: 0.1829 - accuracy: 0.9477 - val_loss: 0.1799 - val_accuracy: 0.9500\n",
            "Epoch 14/100\n",
            "750/750 [==============================] - 2s 3ms/step - loss: 0.1747 - accuracy: 0.9499 - val_loss: 0.1727 - val_accuracy: 0.9524\n",
            "Epoch 15/100\n",
            "750/750 [==============================] - 2s 3ms/step - loss: 0.1668 - accuracy: 0.9523 - val_loss: 0.1691 - val_accuracy: 0.9528\n",
            "Epoch 16/100\n",
            "750/750 [==============================] - 2s 3ms/step - loss: 0.1602 - accuracy: 0.9545 - val_loss: 0.1640 - val_accuracy: 0.9542\n",
            "Epoch 17/100\n",
            "750/750 [==============================] - 2s 3ms/step - loss: 0.1534 - accuracy: 0.9563 - val_loss: 0.1587 - val_accuracy: 0.9557\n",
            "Epoch 18/100\n",
            "750/750 [==============================] - 2s 3ms/step - loss: 0.1475 - accuracy: 0.9580 - val_loss: 0.1555 - val_accuracy: 0.9571\n",
            "Epoch 19/100\n",
            "750/750 [==============================] - 2s 3ms/step - loss: 0.1418 - accuracy: 0.9599 - val_loss: 0.1501 - val_accuracy: 0.9579\n",
            "Epoch 20/100\n",
            "750/750 [==============================] - 2s 3ms/step - loss: 0.1367 - accuracy: 0.9611 - val_loss: 0.1465 - val_accuracy: 0.9585\n",
            "Epoch 21/100\n",
            "750/750 [==============================] - 2s 3ms/step - loss: 0.1319 - accuracy: 0.9626 - val_loss: 0.1424 - val_accuracy: 0.9600\n",
            "Epoch 22/100\n",
            "750/750 [==============================] - 2s 3ms/step - loss: 0.1270 - accuracy: 0.9642 - val_loss: 0.1415 - val_accuracy: 0.9607\n",
            "Epoch 23/100\n",
            "750/750 [==============================] - 2s 3ms/step - loss: 0.1226 - accuracy: 0.9653 - val_loss: 0.1380 - val_accuracy: 0.9603\n",
            "Epoch 24/100\n",
            "750/750 [==============================] - 2s 3ms/step - loss: 0.1185 - accuracy: 0.9662 - val_loss: 0.1357 - val_accuracy: 0.9607\n",
            "Epoch 25/100\n",
            "750/750 [==============================] - 2s 3ms/step - loss: 0.1149 - accuracy: 0.9673 - val_loss: 0.1322 - val_accuracy: 0.9624\n",
            "Epoch 26/100\n",
            "750/750 [==============================] - 2s 3ms/step - loss: 0.1112 - accuracy: 0.9686 - val_loss: 0.1294 - val_accuracy: 0.9621\n",
            "Epoch 27/100\n",
            "750/750 [==============================] - 2s 3ms/step - loss: 0.1078 - accuracy: 0.9694 - val_loss: 0.1291 - val_accuracy: 0.9629\n",
            "Epoch 28/100\n",
            "750/750 [==============================] - 2s 3ms/step - loss: 0.1045 - accuracy: 0.9702 - val_loss: 0.1272 - val_accuracy: 0.9630\n",
            "Epoch 29/100\n",
            "750/750 [==============================] - 2s 3ms/step - loss: 0.1015 - accuracy: 0.9711 - val_loss: 0.1245 - val_accuracy: 0.9635\n",
            "Epoch 30/100\n",
            "750/750 [==============================] - 2s 3ms/step - loss: 0.0983 - accuracy: 0.9721 - val_loss: 0.1235 - val_accuracy: 0.9641\n",
            "Epoch 31/100\n",
            "750/750 [==============================] - 2s 3ms/step - loss: 0.0958 - accuracy: 0.9726 - val_loss: 0.1232 - val_accuracy: 0.9643\n",
            "Epoch 32/100\n",
            "750/750 [==============================] - 2s 3ms/step - loss: 0.0931 - accuracy: 0.9735 - val_loss: 0.1197 - val_accuracy: 0.9653\n",
            "Epoch 33/100\n",
            "750/750 [==============================] - 2s 3ms/step - loss: 0.0907 - accuracy: 0.9738 - val_loss: 0.1184 - val_accuracy: 0.9657\n",
            "Epoch 34/100\n",
            "750/750 [==============================] - 2s 3ms/step - loss: 0.0884 - accuracy: 0.9746 - val_loss: 0.1164 - val_accuracy: 0.9666\n",
            "Epoch 35/100\n",
            "750/750 [==============================] - 2s 3ms/step - loss: 0.0858 - accuracy: 0.9756 - val_loss: 0.1155 - val_accuracy: 0.9665\n",
            "Epoch 36/100\n",
            "750/750 [==============================] - 2s 3ms/step - loss: 0.0837 - accuracy: 0.9762 - val_loss: 0.1156 - val_accuracy: 0.9672\n",
            "Epoch 37/100\n",
            "750/750 [==============================] - 2s 3ms/step - loss: 0.0816 - accuracy: 0.9770 - val_loss: 0.1130 - val_accuracy: 0.9682\n",
            "Epoch 38/100\n",
            "750/750 [==============================] - 2s 3ms/step - loss: 0.0796 - accuracy: 0.9772 - val_loss: 0.1124 - val_accuracy: 0.9679\n",
            "Epoch 39/100\n",
            "750/750 [==============================] - 3s 4ms/step - loss: 0.0775 - accuracy: 0.9780 - val_loss: 0.1109 - val_accuracy: 0.9685\n",
            "Epoch 40/100\n",
            "750/750 [==============================] - 2s 3ms/step - loss: 0.0757 - accuracy: 0.9782 - val_loss: 0.1097 - val_accuracy: 0.9688\n",
            "Epoch 41/100\n",
            "750/750 [==============================] - 2s 3ms/step - loss: 0.0740 - accuracy: 0.9786 - val_loss: 0.1106 - val_accuracy: 0.9686\n",
            "Epoch 42/100\n",
            "750/750 [==============================] - 2s 3ms/step - loss: 0.0720 - accuracy: 0.9796 - val_loss: 0.1099 - val_accuracy: 0.9694\n",
            "Epoch 43/100\n",
            "750/750 [==============================] - 2s 3ms/step - loss: 0.0706 - accuracy: 0.9802 - val_loss: 0.1081 - val_accuracy: 0.9687\n",
            "Epoch 44/100\n",
            "750/750 [==============================] - 2s 3ms/step - loss: 0.0689 - accuracy: 0.9802 - val_loss: 0.1107 - val_accuracy: 0.9680\n",
            "Epoch 45/100\n",
            "750/750 [==============================] - 2s 3ms/step - loss: 0.0674 - accuracy: 0.9809 - val_loss: 0.1067 - val_accuracy: 0.9693\n",
            "Epoch 46/100\n",
            "750/750 [==============================] - 2s 3ms/step - loss: 0.0657 - accuracy: 0.9814 - val_loss: 0.1075 - val_accuracy: 0.9701\n",
            "Epoch 47/100\n",
            "750/750 [==============================] - 2s 3ms/step - loss: 0.0641 - accuracy: 0.9818 - val_loss: 0.1046 - val_accuracy: 0.9713\n",
            "Epoch 48/100\n",
            "750/750 [==============================] - 2s 3ms/step - loss: 0.0630 - accuracy: 0.9824 - val_loss: 0.1050 - val_accuracy: 0.9700\n",
            "Epoch 49/100\n",
            "750/750 [==============================] - 2s 3ms/step - loss: 0.0614 - accuracy: 0.9829 - val_loss: 0.1055 - val_accuracy: 0.9694\n",
            "Epoch 50/100\n",
            "750/750 [==============================] - 2s 3ms/step - loss: 0.0600 - accuracy: 0.9833 - val_loss: 0.1048 - val_accuracy: 0.9697\n",
            "Epoch 51/100\n",
            "750/750 [==============================] - 2s 3ms/step - loss: 0.0588 - accuracy: 0.9834 - val_loss: 0.1055 - val_accuracy: 0.9693\n",
            "Epoch 52/100\n",
            "750/750 [==============================] - 2s 3ms/step - loss: 0.0576 - accuracy: 0.9842 - val_loss: 0.1028 - val_accuracy: 0.9705\n",
            "Epoch 53/100\n",
            "750/750 [==============================] - 2s 3ms/step - loss: 0.0563 - accuracy: 0.9844 - val_loss: 0.1028 - val_accuracy: 0.9707\n",
            "Epoch 54/100\n",
            "750/750 [==============================] - 2s 3ms/step - loss: 0.0550 - accuracy: 0.9846 - val_loss: 0.1020 - val_accuracy: 0.9716\n",
            "Epoch 55/100\n",
            "750/750 [==============================] - 2s 3ms/step - loss: 0.0541 - accuracy: 0.9852 - val_loss: 0.1013 - val_accuracy: 0.9712\n",
            "Epoch 56/100\n",
            "750/750 [==============================] - 2s 3ms/step - loss: 0.0527 - accuracy: 0.9855 - val_loss: 0.1019 - val_accuracy: 0.9713\n",
            "Epoch 57/100\n",
            "750/750 [==============================] - 2s 3ms/step - loss: 0.0516 - accuracy: 0.9862 - val_loss: 0.1022 - val_accuracy: 0.9714\n",
            "Epoch 58/100\n",
            "750/750 [==============================] - 2s 3ms/step - loss: 0.0508 - accuracy: 0.9864 - val_loss: 0.1016 - val_accuracy: 0.9710\n",
            "Epoch 59/100\n",
            "750/750 [==============================] - 2s 3ms/step - loss: 0.0496 - accuracy: 0.9864 - val_loss: 0.1009 - val_accuracy: 0.9716\n",
            "Epoch 60/100\n",
            "750/750 [==============================] - 2s 3ms/step - loss: 0.0485 - accuracy: 0.9870 - val_loss: 0.1006 - val_accuracy: 0.9710\n",
            "Epoch 61/100\n",
            "750/750 [==============================] - 2s 3ms/step - loss: 0.0475 - accuracy: 0.9871 - val_loss: 0.1004 - val_accuracy: 0.9709\n",
            "Epoch 62/100\n",
            "750/750 [==============================] - 2s 3ms/step - loss: 0.0467 - accuracy: 0.9874 - val_loss: 0.1010 - val_accuracy: 0.9713\n",
            "Epoch 63/100\n",
            "750/750 [==============================] - 2s 3ms/step - loss: 0.0457 - accuracy: 0.9878 - val_loss: 0.0995 - val_accuracy: 0.9716\n",
            "Epoch 64/100\n",
            "750/750 [==============================] - 2s 3ms/step - loss: 0.0447 - accuracy: 0.9878 - val_loss: 0.0989 - val_accuracy: 0.9717\n",
            "Epoch 65/100\n",
            "750/750 [==============================] - 2s 3ms/step - loss: 0.0437 - accuracy: 0.9889 - val_loss: 0.1003 - val_accuracy: 0.9722\n",
            "Epoch 66/100\n",
            "750/750 [==============================] - 2s 3ms/step - loss: 0.0430 - accuracy: 0.9887 - val_loss: 0.0997 - val_accuracy: 0.9712\n",
            "Epoch 67/100\n",
            "750/750 [==============================] - 2s 3ms/step - loss: 0.0423 - accuracy: 0.9891 - val_loss: 0.0991 - val_accuracy: 0.9721\n",
            "Epoch 68/100\n",
            "750/750 [==============================] - 2s 3ms/step - loss: 0.0412 - accuracy: 0.9894 - val_loss: 0.0990 - val_accuracy: 0.9722\n",
            "Epoch 69/100\n",
            "750/750 [==============================] - 2s 3ms/step - loss: 0.0405 - accuracy: 0.9894 - val_loss: 0.0989 - val_accuracy: 0.9714\n",
            "Epoch 70/100\n",
            "750/750 [==============================] - 2s 3ms/step - loss: 0.0396 - accuracy: 0.9900 - val_loss: 0.1001 - val_accuracy: 0.9713\n",
            "Epoch 71/100\n",
            "750/750 [==============================] - 2s 3ms/step - loss: 0.0388 - accuracy: 0.9902 - val_loss: 0.0986 - val_accuracy: 0.9721\n",
            "Epoch 72/100\n",
            "750/750 [==============================] - 2s 3ms/step - loss: 0.0382 - accuracy: 0.9902 - val_loss: 0.0983 - val_accuracy: 0.9714\n",
            "Epoch 73/100\n",
            "750/750 [==============================] - 2s 3ms/step - loss: 0.0374 - accuracy: 0.9909 - val_loss: 0.0990 - val_accuracy: 0.9718\n",
            "Epoch 74/100\n",
            "750/750 [==============================] - 2s 3ms/step - loss: 0.0366 - accuracy: 0.9910 - val_loss: 0.0991 - val_accuracy: 0.9716\n",
            "Epoch 75/100\n",
            "750/750 [==============================] - 2s 3ms/step - loss: 0.0361 - accuracy: 0.9909 - val_loss: 0.0993 - val_accuracy: 0.9715\n",
            "Epoch 76/100\n",
            "750/750 [==============================] - 2s 3ms/step - loss: 0.0353 - accuracy: 0.9915 - val_loss: 0.0985 - val_accuracy: 0.9715\n",
            "Epoch 77/100\n",
            "750/750 [==============================] - 2s 3ms/step - loss: 0.0345 - accuracy: 0.9918 - val_loss: 0.0984 - val_accuracy: 0.9718\n",
            "Epoch 78/100\n",
            "750/750 [==============================] - 2s 3ms/step - loss: 0.0338 - accuracy: 0.9920 - val_loss: 0.0985 - val_accuracy: 0.9719\n",
            "Epoch 79/100\n",
            "750/750 [==============================] - 2s 3ms/step - loss: 0.0333 - accuracy: 0.9919 - val_loss: 0.0987 - val_accuracy: 0.9718\n",
            "Epoch 80/100\n",
            "750/750 [==============================] - 2s 3ms/step - loss: 0.0325 - accuracy: 0.9925 - val_loss: 0.1001 - val_accuracy: 0.9710\n",
            "Epoch 81/100\n",
            "750/750 [==============================] - 2s 3ms/step - loss: 0.0319 - accuracy: 0.9926 - val_loss: 0.0998 - val_accuracy: 0.9726\n",
            "Epoch 82/100\n",
            "750/750 [==============================] - 2s 3ms/step - loss: 0.0314 - accuracy: 0.9924 - val_loss: 0.0997 - val_accuracy: 0.9718\n",
            "Epoch 83/100\n",
            "750/750 [==============================] - 2s 3ms/step - loss: 0.0308 - accuracy: 0.9927 - val_loss: 0.0994 - val_accuracy: 0.9725\n",
            "Epoch 84/100\n",
            "750/750 [==============================] - 2s 3ms/step - loss: 0.0301 - accuracy: 0.9931 - val_loss: 0.1003 - val_accuracy: 0.9715\n",
            "Epoch 85/100\n",
            "750/750 [==============================] - 2s 3ms/step - loss: 0.0294 - accuracy: 0.9936 - val_loss: 0.1010 - val_accuracy: 0.9721\n",
            "Epoch 86/100\n",
            "750/750 [==============================] - 2s 3ms/step - loss: 0.0291 - accuracy: 0.9935 - val_loss: 0.0999 - val_accuracy: 0.9721\n",
            "Epoch 87/100\n",
            "750/750 [==============================] - 2s 3ms/step - loss: 0.0283 - accuracy: 0.9938 - val_loss: 0.0996 - val_accuracy: 0.9720\n",
            "Epoch 88/100\n",
            "750/750 [==============================] - 2s 3ms/step - loss: 0.0279 - accuracy: 0.9941 - val_loss: 0.1002 - val_accuracy: 0.9719\n",
            "Epoch 89/100\n",
            "750/750 [==============================] - 2s 3ms/step - loss: 0.0274 - accuracy: 0.9942 - val_loss: 0.0997 - val_accuracy: 0.9712\n",
            "Epoch 90/100\n",
            "750/750 [==============================] - 2s 3ms/step - loss: 0.0268 - accuracy: 0.9939 - val_loss: 0.0997 - val_accuracy: 0.9719\n",
            "Epoch 91/100\n",
            "750/750 [==============================] - 2s 3ms/step - loss: 0.0263 - accuracy: 0.9941 - val_loss: 0.1001 - val_accuracy: 0.9718\n",
            "Epoch 92/100\n",
            "750/750 [==============================] - 2s 3ms/step - loss: 0.0259 - accuracy: 0.9945 - val_loss: 0.1001 - val_accuracy: 0.9712\n",
            "Epoch 93/100\n",
            "750/750 [==============================] - 2s 3ms/step - loss: 0.0254 - accuracy: 0.9947 - val_loss: 0.1001 - val_accuracy: 0.9717\n",
            "Epoch 94/100\n",
            "750/750 [==============================] - 2s 3ms/step - loss: 0.0248 - accuracy: 0.9948 - val_loss: 0.0998 - val_accuracy: 0.9715\n",
            "Epoch 95/100\n",
            "750/750 [==============================] - 2s 3ms/step - loss: 0.0244 - accuracy: 0.9952 - val_loss: 0.1011 - val_accuracy: 0.9713\n",
            "Epoch 96/100\n",
            "750/750 [==============================] - 2s 3ms/step - loss: 0.0239 - accuracy: 0.9952 - val_loss: 0.1010 - val_accuracy: 0.9718\n",
            "Epoch 97/100\n",
            "750/750 [==============================] - 2s 3ms/step - loss: 0.0235 - accuracy: 0.9955 - val_loss: 0.1012 - val_accuracy: 0.9720\n",
            "Epoch 98/100\n",
            "750/750 [==============================] - 2s 3ms/step - loss: 0.0231 - accuracy: 0.9955 - val_loss: 0.1007 - val_accuracy: 0.9709\n",
            "Epoch 99/100\n",
            "750/750 [==============================] - 2s 3ms/step - loss: 0.0226 - accuracy: 0.9956 - val_loss: 0.1017 - val_accuracy: 0.9721\n",
            "Epoch 100/100\n",
            "750/750 [==============================] - 2s 3ms/step - loss: 0.0223 - accuracy: 0.9959 - val_loss: 0.1016 - val_accuracy: 0.9713\n"
          ]
        }
      ]
    },
    {
      "cell_type": "code",
      "metadata": {
        "outputId": "4fc26098-06a5-4ce5-bc87-8f9a662e3e46",
        "id": "0W6J4tagfCYR",
        "colab": {
          "base_uri": "https://localhost:8080/",
          "height": 590
        }
      },
      "source": [
        "import matplotlib.pyplot as plt\n",
        "%matplotlib inline\n",
        "# list all data in training\n",
        "print(training.history.keys())\n",
        "# summarize training for accuracy\n",
        "plt.plot(training.history['accuracy'])\n",
        "plt.plot(training.history['val_accuracy'])\n",
        "plt.title('model accuracy')\n",
        "plt.ylabel('accuracy')\n",
        "plt.xlabel('epoch')\n",
        "plt.legend(['train', 'test'], loc='upper left')\n",
        "plt.show()\n",
        "# summarize traning for loss\n",
        "plt.plot(training.history['loss'])\n",
        "plt.plot(training.history['val_loss'])\n",
        "plt.title('model loss')\n",
        "plt.ylabel('loss')\n",
        "plt.xlabel('epoch')\n",
        "plt.legend(['train', 'test'], loc='upper left')\n",
        "plt.show()"
      ],
      "execution_count": 20,
      "outputs": [
        {
          "output_type": "stream",
          "name": "stdout",
          "text": [
            "dict_keys(['loss', 'accuracy', 'val_loss', 'val_accuracy'])\n"
          ]
        },
        {
          "output_type": "display_data",
          "data": {
            "text/plain": [
              "<Figure size 432x288 with 1 Axes>"
            ],
            "image/png": "[encoded data removed]"
          },
          "metadata": {
            "needs_background": "light"
          }
        },
        {
          "output_type": "display_data",
          "data": {
            "text/plain": [
              "<Figure size 432x288 with 1 Axes>"
            ],
            "image/png": "[encoded data removed]"
          },
          "metadata": {
            "needs_background": "light"
          }
        }
      ]
    },
    {
      "cell_type": "code",
      "metadata": {
        "outputId": "be9bd497-2079-4551-92fb-72a98894a654",
        "id": "LG8UWh68fCYe",
        "colab": {
          "base_uri": "https://localhost:8080/"
        }
      },
      "source": [
        "#evaluate the model\n",
        "test_loss, test_acc = model_1.evaluate(X_test, Y_test)\n",
        "print('Test accuracy:', test_acc)"
      ],
      "execution_count": 21,
      "outputs": [
        {
          "output_type": "stream",
          "name": "stdout",
          "text": [
            "313/313 [==============================] - 1s 2ms/step - loss: 0.0923 - accuracy: 0.9760\n",
            "Test accuracy: 0.9760000109672546\n"
          ]
        }
      ]
    },
    {
      "cell_type": "code",
      "metadata": {
        "outputId": "4f869fd2-a06d-41e2-d128-e8fe9e279e39",
        "id": "iE5uSPRvfCYq",
        "colab": {
          "base_uri": "https://localhost:8080/"
        }
      },
      "source": [
        "model_1.summary()"
      ],
      "execution_count": 22,
      "outputs": [
        {
          "output_type": "stream",
          "name": "stdout",
          "text": [
            "Model: \"sequential_1\"\n",
            "_________________________________________________________________\n",
            " Layer (type)                Output Shape              Param #   \n",
            "=================================================================\n",
            " dense_layer (Dense)         (None, 64)                50240     \n",
            "                                                                 \n",
            " dense_layer_2 (Dense)       (None, 64)                4160      \n",
            "                                                                 \n",
            " dense_layer_3 (Dense)       (None, 10)                650       \n",
            "                                                                 \n",
            "=================================================================\n",
            "Total params: 55,050\n",
            "Trainable params: 55,050\n",
            "Non-trainable params: 0\n",
            "_________________________________________________________________\n"
          ]
        }
      ]
    },
    {
      "cell_type": "code",
      "metadata": {
        "id": "p3TehZJnAlD6",
        "outputId": "5dcb03a6-676a-4ca9-96b1-3bdcfbdb8ee1",
        "colab": {
          "base_uri": "https://localhost:8080/"
        }
      },
      "source": [
        "model_1.weights"
      ],
      "execution_count": 23,
      "outputs": [
        {
          "output_type": "execute_result",
          "data": {
            "text/plain": [
              "[<tf.Variable 'dense_layer/kernel:0' shape=(784, 64) dtype=float32, numpy=\n",
              " array([[ 0.0439366 , -0.01358505,  0.02604012, ...,  0.05257574,\n",
              "          0.07178924, -0.06771435],\n",
              "        [ 0.07615042,  0.05519675,  0.05633361, ..., -0.06396294,\n",
              "         -0.00232749,  0.02000649],\n",
              "        [-0.08300593,  0.07416897,  0.00012821, ..., -0.01762354,\n",
              "          0.01365741, -0.04900998],\n",
              "        ...,\n",
              "        [ 0.02928962,  0.02548214, -0.02011524, ...,  0.0680365 ,\n",
              "          0.01545411,  0.0730627 ],\n",
              "        [ 0.02099861,  0.0655308 ,  0.0824902 , ..., -0.03715171,\n",
              "         -0.03460784, -0.06306892],\n",
              "        [-0.00831614,  0.06800667, -0.00603552, ..., -0.0424686 ,\n",
              "         -0.05044584,  0.0282947 ]], dtype=float32)>,\n",
              " <tf.Variable 'dense_layer/bias:0' shape=(64,) dtype=float32, numpy=\n",
              " array([ 0.11290894, -0.00061504,  0.10314268, -0.07086683,  0.0335181 ,\n",
              "         0.00277734,  0.04646972, -0.11670629,  0.17437561,  0.1428461 ,\n",
              "         0.00433892,  0.06861804,  0.00218816,  0.03524669,  0.03770583,\n",
              "        -0.08422294,  0.18000175,  0.01109584, -0.02208102,  0.19869211,\n",
              "         0.0815036 ,  0.0990767 ,  0.10865895, -0.05382707, -0.04015426,\n",
              "         0.0206821 , -0.00485979, -0.01172137, -0.03030595,  0.19405895,\n",
              "         0.09604579,  0.03063141,  0.00477465,  0.0722615 ,  0.11680765,\n",
              "         0.02473606, -0.10946641,  0.04046578,  0.08729057,  0.093193  ,\n",
              "         0.07790814,  0.05563147,  0.0315864 ,  0.05233005, -0.0489648 ,\n",
              "         0.06770816, -0.03167894, -0.01363916, -0.01184956,  0.00403417,\n",
              "        -0.15852952,  0.07318973,  0.01342171,  0.11900052,  0.00857528,\n",
              "         0.10132089, -0.09896972,  0.04839708,  0.09671075, -0.01721665,\n",
              "         0.03416265,  0.08052628, -0.02881313,  0.02697381], dtype=float32)>,\n",
              " <tf.Variable 'dense_layer_2/kernel:0' shape=(64, 64) dtype=float32, numpy=\n",
              " array([[-0.27535453,  0.51927483, -0.01809595, ..., -0.15731551,\n",
              "          0.18330875,  0.06100322],\n",
              "        [ 0.23925874,  0.14661282,  0.02348016, ...,  0.06006891,\n",
              "          0.12663029,  0.10326747],\n",
              "        [-0.21739586, -0.02058558,  0.22584358, ..., -0.05748541,\n",
              "          0.26978105,  0.34306636],\n",
              "        ...,\n",
              "        [-0.10117314, -0.2821941 ,  0.13722317, ..., -0.12565021,\n",
              "          0.36119527, -0.16360737],\n",
              "        [-0.01414609, -0.19335523, -0.13018462, ...,  0.08496965,\n",
              "          0.02740036, -0.08872016],\n",
              "        [-0.13250887, -0.08444568,  0.29753   , ..., -0.09038708,\n",
              "          0.15413965, -0.14962618]], dtype=float32)>,\n",
              " <tf.Variable 'dense_layer_2/bias:0' shape=(64,) dtype=float32, numpy=\n",
              " array([ 0.01584633,  0.07422467, -0.00852341,  0.08903049,  0.08332546,\n",
              "        -0.01041113, -0.03623711,  0.15980485,  0.06233232,  0.02538362,\n",
              "        -0.01613241, -0.01436496,  0.03719592,  0.01418588,  0.04073796,\n",
              "         0.03831481,  0.00383762,  0.13740698, -0.01230288, -0.06701446,\n",
              "        -0.01158249,  0.03047709,  0.06012059,  0.02104058,  0.11338596,\n",
              "         0.06997604,  0.03657221,  0.05172556,  0.05421519,  0.03226488,\n",
              "         0.08491799, -0.00847778,  0.01889482,  0.04489011, -0.01661628,\n",
              "         0.05583337, -0.00773184,  0.00915581,  0.01494973,  0.0488156 ,\n",
              "         0.11699092,  0.00921092, -0.00671504, -0.00531969,  0.04435332,\n",
              "         0.02988356,  0.05395765, -0.00456059,  0.01088012,  0.00049528,\n",
              "         0.05622919, -0.02459996,  0.01016859,  0.04306704,  0.02289663,\n",
              "         0.04637922,  0.04735503,  0.07924607,  0.06198595,  0.01135397,\n",
              "         0.08399316,  0.03795708,  0.07925458,  0.06444403], dtype=float32)>,\n",
              " <tf.Variable 'dense_layer_3/kernel:0' shape=(64, 10) dtype=float32, numpy=\n",
              " array([[ 0.57880646, -0.40064687, -0.069872  ,  0.48862496, -0.36729833,\n",
              "          0.02974188,  0.09417652, -0.43039623, -0.3174035 ,  0.3582514 ],\n",
              "        [-0.03617585,  0.66678274, -0.3731003 , -0.5045424 ,  0.70972514,\n",
              "         -0.57756686, -0.18583451, -0.16595925, -0.6182567 ,  0.3039992 ],\n",
              "        [ 0.06489648,  0.24241103, -0.31465277,  0.0892964 , -0.5381917 ,\n",
              "          0.08618182,  0.4043693 , -0.14650792,  0.16841513, -0.10170753],\n",
              "        [-0.12452858, -0.40800068,  0.04910556,  0.70449805, -0.04100119,\n",
              "         -0.12141124, -0.72566086, -0.17603345, -0.1461239 ,  0.9963785 ],\n",
              "        [ 0.11139826, -0.01072545,  0.07243501, -0.33934018,  0.37467274,\n",
              "         -0.3188624 , -0.35524938,  0.15081833, -0.38771495, -0.68879795],\n",
              "        [-0.06303862, -0.24200635, -0.08392859, -0.2774597 , -0.16253568,\n",
              "          0.09147031,  0.03482055, -0.10705197, -0.30467415,  0.13807474],\n",
              "        [ 0.39559704,  0.18895665,  0.07270329,  0.11286259,  0.13323247,\n",
              "         -0.6027494 ,  0.39977902, -0.592782  , -0.2587933 ,  0.05033436],\n",
              "        [-0.27356908, -0.38830662, -0.6478637 , -0.7826125 ,  0.8077894 ,\n",
              "          0.39182338,  0.3520299 , -0.5992515 ,  0.54660535, -0.14105487],\n",
              "        [ 0.36607993,  0.04350301, -0.17836654, -0.35886598,  0.3540991 ,\n",
              "         -0.88214713,  0.06095054,  0.33979937,  0.0714652 ,  0.0860792 ],\n",
              "        [-0.11361466, -0.42517483,  0.01993938,  0.2413467 , -0.34118506,\n",
              "          0.09837678, -0.16881251,  0.3674895 ,  0.4727436 , -0.46557638],\n",
              "        [-0.1705973 , -0.24371046,  0.18850185, -0.11668029, -0.00566776,\n",
              "         -0.16589399, -0.28704843, -0.06360142,  0.09918793, -0.16299333],\n",
              "        [-0.25223023,  0.23585112,  0.6150844 ,  0.0043883 ,  0.40741572,\n",
              "         -0.2847817 ,  0.2168377 , -0.06193502, -0.4113997 , -0.6493299 ],\n",
              "        [-0.27443096,  0.6049281 , -0.15348502,  0.23120181,  0.45828104,\n",
              "         -0.70346516,  0.17046858,  0.19202335,  0.04021601, -0.8700382 ],\n",
              "        [-0.38219362,  0.29247415,  0.4871074 ,  0.5536847 , -0.5881499 ,\n",
              "          0.73571676, -0.35981613, -0.08044957,  0.01353868, -0.56103927],\n",
              "        [-0.16163832,  0.603949  , -0.3212287 , -0.56574166,  0.1449572 ,\n",
              "          0.30960667, -0.47696596,  0.7139902 , -0.7014028 ,  0.22653668],\n",
              "        [ 0.5897429 ,  0.3336382 , -0.1574749 ,  0.273278  , -0.5808926 ,\n",
              "         -0.08469675,  0.4290484 , -0.41513506,  0.19818209, -0.22264618],\n",
              "        [ 0.278211  ,  0.30543825,  0.3155764 , -0.60076594, -0.01628741,\n",
              "          0.25336042,  0.00864897, -0.28802562, -0.43249512, -0.20892666],\n",
              "        [-0.17151058,  0.05276874,  0.28512192, -0.6082779 ,  0.2540414 ,\n",
              "          0.14332326,  0.14124997, -0.43940377,  0.31105047,  0.49232167],\n",
              "        [-0.10998725,  0.02592983,  0.22421615,  0.23646401, -0.13417234,\n",
              "         -0.08947442,  0.27574492, -0.04197358, -0.0051043 ,  0.02153372],\n",
              "        [-0.15800571, -0.1349466 , -0.57138467,  0.07733126, -0.49521518,\n",
              "          0.86507636,  0.6688588 , -0.21452592, -0.1938869 , -0.07638608],\n",
              "        [-0.3284015 , -0.04345   ,  0.40625387,  0.03253745, -0.41261214,\n",
              "          0.1440861 ,  0.31723228,  0.29855657,  0.3531985 , -0.36006546],\n",
              "        [-0.5223763 , -0.23221019, -0.13771866, -0.27193797,  0.00849266,\n",
              "         -0.21460105, -0.37530175,  0.46320492,  0.50765353,  0.39289513],\n",
              "        [-0.00971112,  0.33070788,  0.5521612 , -0.26881132,  0.2567498 ,\n",
              "          0.00436696, -0.4953126 ,  0.42929217, -0.21878593,  0.357747  ],\n",
              "        [-0.02386623,  0.21132079, -0.34307337, -0.2899486 ,  0.10384709,\n",
              "         -0.02423733,  0.11965991, -0.0187727 , -0.20815195, -0.0632453 ],\n",
              "        [-0.36294132,  0.57527345,  0.19667049, -0.41613334,  0.6016415 ,\n",
              "         -0.277187  ,  0.07907411,  0.11491328,  0.45261893, -0.24661441],\n",
              "        [ 0.3430295 , -0.45149565, -0.5713996 ,  0.39679074, -0.01347714,\n",
              "          0.08147398, -0.6794683 , -0.32601717, -0.05119321,  0.7816676 ],\n",
              "        [-0.0439448 ,  0.06387077,  0.22228828,  0.3627113 , -0.32965   ,\n",
              "          0.22680256,  0.10583565,  0.31067586, -0.81334937, -0.5211908 ],\n",
              "        [ 0.0173835 ,  0.06133489,  0.25741252, -0.07051098, -0.24247056,\n",
              "          0.01538705,  0.07698654,  0.6430091 ,  0.2458332 , -0.39278492],\n",
              "        [-0.22911389, -0.08569575,  0.12314685, -0.2837161 , -0.37712294,\n",
              "         -0.29090008, -0.19540583,  0.01514675,  0.49608904, -0.33604744],\n",
              "        [-0.1073391 ,  0.20653187,  0.0283903 , -0.16893005,  0.25952423,\n",
              "         -0.09714632, -0.29336867, -0.06771974, -0.61656785,  0.10622056],\n",
              "        [ 0.5043672 , -0.37055767, -0.53514415, -0.30631694, -0.45752755,\n",
              "         -0.0082082 , -0.2120298 ,  0.58469963,  0.5709766 , -0.07089462],\n",
              "        [-0.12919757, -0.37314555, -0.05820185,  0.7838    , -0.14379257,\n",
              "          0.0325413 , -0.01606269, -0.70010966, -0.22378217,  0.20371865],\n",
              "        [ 0.24643952, -0.15697469,  0.17677805, -0.06485369,  0.10294482,\n",
              "          0.19682346,  0.18158634, -0.24123576, -0.17585014, -0.07782391],\n",
              "        [ 0.414899  , -0.06317577,  0.32624537, -0.21988037, -0.46318343,\n",
              "          0.25742438, -0.5463545 , -0.36910927,  0.50659865,  0.5381472 ],\n",
              "        [-0.30333462, -0.2710959 ,  0.22158945,  0.10128593, -0.0033982 ,\n",
              "          0.4665811 ,  0.18471244,  0.72922224, -0.21536048, -0.6634063 ],\n",
              "        [-0.10812936, -0.35807696, -0.46751717, -0.29044917,  0.71409047,\n",
              "          0.47865793, -0.3676591 , -0.44722882, -0.06858071, -0.11729977],\n",
              "        [ 0.3051916 , -0.46290338, -0.3398519 , -0.20013449,  0.00246643,\n",
              "         -0.50726795,  0.6240936 , -0.41604254, -0.26330042, -0.18816079],\n",
              "        [-0.18730916, -0.19824088,  0.06590386, -0.14797667, -0.22760352,\n",
              "          0.286455  , -0.06598401, -0.3039059 , -0.25480816, -0.14693557],\n",
              "        [ 0.3268917 ,  0.46093827,  0.20291166, -0.39767644, -0.63439953,\n",
              "         -0.00432734, -0.06486291, -0.21292211, -0.23120606,  0.3724357 ],\n",
              "        [-0.37567592,  0.5964866 ,  0.37000522,  0.12337922,  0.03121166,\n",
              "          0.28280306, -0.39027256, -0.29165727, -0.6010618 , -0.22939835],\n",
              "        [-0.388903  ,  0.4227989 , -0.65612185, -0.6547868 ,  0.05007794,\n",
              "          0.59334266,  0.12586308, -0.47205883,  0.73538476, -0.11769195],\n",
              "        [ 0.16246137, -0.28422895,  0.22138138, -0.7110602 ,  0.4210668 ,\n",
              "          0.32917452,  0.43313098,  0.08826122, -0.503413  , -0.5145343 ],\n",
              "        [-0.5741585 , -0.06774282,  0.5021711 ,  0.51075417, -0.5750712 ,\n",
              "         -0.15641393,  0.20608404,  0.21179524, -0.15334599,  0.06160655],\n",
              "        [-0.3805506 , -0.449982  , -0.41754958,  0.5382414 , -0.3476897 ,\n",
              "          0.4667942 ,  0.1601954 , -0.14929703,  0.5285138 , -0.53609586],\n",
              "        [-0.09058632,  0.4994509 , -0.54612166,  0.58816975,  0.63418937,\n",
              "         -0.6683205 ,  0.18032984,  0.4103403 ,  0.15589234, -0.50384104],\n",
              "        [-0.02039518,  0.01157683, -0.19026783, -0.37330693, -0.5585117 ,\n",
              "          0.49040762,  0.30418476, -0.27166826,  0.32413837,  0.14676926],\n",
              "        [-0.35434222, -0.5031597 , -0.7380025 ,  0.9311832 , -0.6498372 ,\n",
              "          0.4301894 , -0.37487406,  0.5152173 , -0.12032647,  0.20253329],\n",
              "        [ 0.49815354, -0.26725164,  1.2549175 ,  0.3918906 ,  0.06823875,\n",
              "         -0.6169618 , -0.38813522, -0.57477057,  0.20436673, -0.54011023],\n",
              "        [ 0.03326859,  0.17759778,  0.21604456,  0.08455509, -0.23678057,\n",
              "         -0.53312886, -0.28350425,  0.21726987,  0.3404707 , -0.25592017],\n",
              "        [ 0.03106409,  0.06072163,  0.17786448, -0.08528754, -0.28320876,\n",
              "         -0.00663342,  0.20651492, -0.15199105, -0.06146676, -0.23425987],\n",
              "        [-0.55420065, -0.31280625, -0.24577136,  0.18542023,  0.19430125,\n",
              "          0.5959892 ,  0.11288199, -0.16247533, -0.07443532, -0.19566752],\n",
              "        [-0.05309111, -0.2076775 , -0.286543  ,  0.27296707,  0.2531505 ,\n",
              "          0.14451623, -0.26403192, -0.06733538, -0.24901117,  0.17947371],\n",
              "        [-0.08807675, -0.14296834,  0.21671493, -0.07173993, -0.04924057,\n",
              "         -0.09054183, -0.00485212, -0.15546791,  0.22329424, -0.17453633],\n",
              "        [ 0.01188383,  0.04020277,  0.02232475,  0.44818363,  0.22779123,\n",
              "         -0.41632295,  0.15919304, -0.0534556 ,  0.22405665, -0.2695362 ],\n",
              "        [ 0.496474  ,  0.6712757 ,  0.1939377 , -0.06968845, -0.31987184,\n",
              "         -0.28504804,  0.21465994,  0.38681602, -0.27502692, -0.81531954],\n",
              "        [-0.34282792, -0.43352973,  0.20178542, -0.16071647, -0.01335472,\n",
              "         -0.71793413,  0.05965032,  0.2800612 ,  0.11261411,  0.873926  ],\n",
              "        [ 0.23115692, -0.44037715,  0.3838691 , -0.22880474, -0.5305879 ,\n",
              "          0.33808085,  0.2721386 , -0.10138076,  0.12561792, -0.17997138],\n",
              "        [ 0.2903848 , -0.4594422 ,  0.62998927, -0.5182941 ,  0.10506534,\n",
              "         -0.47531328,  0.51131016,  0.34232584, -0.22547393, -0.27070552],\n",
              "        [ 0.21942815,  0.23359273, -0.22511274, -0.03809578, -0.4061849 ,\n",
              "          0.07246428, -0.02603621, -0.50922054,  0.65692085, -0.45151067],\n",
              "        [-0.27305242,  0.65689707, -0.73347336, -0.0152585 , -0.11029156,\n",
              "          0.68613845,  0.04721109,  0.40239385, -0.5240034 ,  0.35699734],\n",
              "        [-0.30384195,  0.1600741 , -0.42329222,  0.10573928, -0.3424623 ,\n",
              "          0.5170073 ,  0.4239906 , -0.34630942, -0.2239428 , -0.19275819],\n",
              "        [-0.29474398,  0.01953329,  0.362399  ,  0.192201  , -0.44600865,\n",
              "         -0.1636629 ,  0.27839836,  0.5302648 , -0.34368786, -0.08558192],\n",
              "        [-0.41550845, -0.25364226,  0.14402857, -0.45957214, -0.02240373,\n",
              "          0.53860533,  0.02000911,  0.17530896,  0.7371482 ,  0.03280621],\n",
              "        [-0.1465822 ,  0.40295166,  0.3030299 , -0.10181995,  0.08232884,\n",
              "         -0.5107955 , -0.32574955, -0.1306081 ,  0.23211953,  0.4208448 ]],\n",
              "       dtype=float32)>,\n",
              " <tf.Variable 'dense_layer_3/bias:0' shape=(10,) dtype=float32, numpy=\n",
              " array([-0.04039392,  0.05003744, -0.00946195, -0.00564597,  0.12697552,\n",
              "         0.01317655, -0.1000673 ,  0.02520988, -0.11553692,  0.05570316],\n",
              "       dtype=float32)>]"
            ]
          },
          "metadata": {},
          "execution_count": 23
        }
      ]
    },
    {
      "cell_type": "code",
      "metadata": {
        "outputId": "e70c5e28-b3ba-4da9-a335-d99ac1498cc1",
        "id": "x_no8rMBfCY6",
        "colab": {
          "base_uri": "https://localhost:8080/"
        }
      },
      "source": [
        "model_1.get_config()"
      ],
      "execution_count": 24,
      "outputs": [
        {
          "output_type": "execute_result",
          "data": {
            "text/plain": [
              "{'layers': [{'class_name': 'InputLayer',\n",
              "   'config': {'batch_input_shape': (None, 784),\n",
              "    'dtype': 'float32',\n",
              "    'name': 'dense_layer_input',\n",
              "    'ragged': False,\n",
              "    'sparse': False}},\n",
              "  {'class_name': 'Dense',\n",
              "   'config': {'activation': 'relu',\n",
              "    'activity_regularizer': None,\n",
              "    'batch_input_shape': (None, 784),\n",
              "    'bias_constraint': None,\n",
              "    'bias_initializer': {'class_name': 'Zeros', 'config': {}},\n",
              "    'bias_regularizer': None,\n",
              "    'dtype': 'float32',\n",
              "    'kernel_constraint': None,\n",
              "    'kernel_initializer': {'class_name': 'GlorotUniform',\n",
              "     'config': {'seed': None}},\n",
              "    'kernel_regularizer': None,\n",
              "    'name': 'dense_layer',\n",
              "    'trainable': True,\n",
              "    'units': 64,\n",
              "    'use_bias': True}},\n",
              "  {'class_name': 'Dense',\n",
              "   'config': {'activation': 'relu',\n",
              "    'activity_regularizer': None,\n",
              "    'bias_constraint': None,\n",
              "    'bias_initializer': {'class_name': 'Zeros', 'config': {}},\n",
              "    'bias_regularizer': None,\n",
              "    'dtype': 'float32',\n",
              "    'kernel_constraint': None,\n",
              "    'kernel_initializer': {'class_name': 'GlorotUniform',\n",
              "     'config': {'seed': None}},\n",
              "    'kernel_regularizer': None,\n",
              "    'name': 'dense_layer_2',\n",
              "    'trainable': True,\n",
              "    'units': 64,\n",
              "    'use_bias': True}},\n",
              "  {'class_name': 'Dense',\n",
              "   'config': {'activation': 'softmax',\n",
              "    'activity_regularizer': None,\n",
              "    'bias_constraint': None,\n",
              "    'bias_initializer': {'class_name': 'Zeros', 'config': {}},\n",
              "    'bias_regularizer': None,\n",
              "    'dtype': 'float32',\n",
              "    'kernel_constraint': None,\n",
              "    'kernel_initializer': {'class_name': 'GlorotUniform',\n",
              "     'config': {'seed': None}},\n",
              "    'kernel_regularizer': None,\n",
              "    'name': 'dense_layer_3',\n",
              "    'trainable': True,\n",
              "    'units': 10,\n",
              "    'use_bias': True}}],\n",
              " 'name': 'sequential_1'}"
            ]
          },
          "metadata": {},
          "execution_count": 24
        }
      ]
    },
    {
      "cell_type": "markdown",
      "metadata": {
        "id": "Nw7DXcLYfZzp"
      },
      "source": [
        "###Improved Model 2 - Adding Dropout to Avoid Overfitting"
      ]
    },
    {
      "cell_type": "code",
      "metadata": {
        "id": "AXUf6nhvBHnc"
      },
      "source": [
        "from tensorflow.keras.layers import Dropout\n",
        "\n",
        "#Most common type of model is a stack of layers\n",
        "model_2 = tf.keras.Sequential()\n",
        "N_hidden = 128\n",
        "# Adds a densely-connected layer with 64 units to the model:\n",
        "model_2.add(Dense(N_hidden, name='dense_layer', input_shape=(784,), activation = 'relu'))\n",
        "# Now the model will take as input arrays of shape (*, 784)# and output arrays of shape (*, 64)\n",
        "model_2.add(Dropout(0.3))\n",
        "# Adding another dense layer:\n",
        "model_2.add(Dense(N_hidden, name='dense_layer_2', activation='relu'))\n",
        "model_2.add(Dropout(0.3))\n",
        "\n",
        "# Add an output layer with 10 output units (10 different classes):\n",
        "model_2.add(Dense(10, name='dense_layer_3', activation = 'softmax'))\n"
      ],
      "execution_count": 25,
      "outputs": []
    },
    {
      "cell_type": "code",
      "metadata": {
        "id": "wo95PYlPgBe4"
      },
      "source": [
        "# Compiling the model.\n",
        "model_2.compile(optimizer='SGD', \n",
        "              loss='categorical_crossentropy',\n",
        "              metrics=['accuracy'])"
      ],
      "execution_count": 26,
      "outputs": []
    },
    {
      "cell_type": "code",
      "metadata": {
        "outputId": "193fe663-6161-4e12-ba8a-651d848512e1",
        "id": "VfargzxGgBfI",
        "colab": {
          "base_uri": "https://localhost:8080/"
        }
      },
      "source": [
        "# Training the model. \n",
        "training = model_2.fit(X_train, Y_train, batch_size=64, epochs=50, validation_split=0.2) "
      ],
      "execution_count": 27,
      "outputs": [
        {
          "output_type": "stream",
          "name": "stdout",
          "text": [
            "Epoch 1/50\n",
            "750/750 [==============================] - 3s 3ms/step - loss: 1.3193 - accuracy: 0.5820 - val_loss: 0.5216 - val_accuracy: 0.8719\n",
            "Epoch 2/50\n",
            "750/750 [==============================] - 2s 3ms/step - loss: 0.6434 - accuracy: 0.8026 - val_loss: 0.3709 - val_accuracy: 0.9003\n",
            "Epoch 3/50\n",
            "750/750 [==============================] - 2s 3ms/step - loss: 0.5165 - accuracy: 0.8452 - val_loss: 0.3168 - val_accuracy: 0.9113\n",
            "Epoch 4/50\n",
            "750/750 [==============================] - 2s 3ms/step - loss: 0.4495 - accuracy: 0.8638 - val_loss: 0.2844 - val_accuracy: 0.9187\n",
            "Epoch 5/50\n",
            "750/750 [==============================] - 2s 3ms/step - loss: 0.4084 - accuracy: 0.8802 - val_loss: 0.2617 - val_accuracy: 0.9252\n",
            "Epoch 6/50\n",
            "750/750 [==============================] - 2s 3ms/step - loss: 0.3737 - accuracy: 0.8887 - val_loss: 0.2441 - val_accuracy: 0.9295\n",
            "Epoch 7/50\n",
            "750/750 [==============================] - 2s 3ms/step - loss: 0.3480 - accuracy: 0.8969 - val_loss: 0.2292 - val_accuracy: 0.9333\n",
            "Epoch 8/50\n",
            "750/750 [==============================] - 2s 3ms/step - loss: 0.3290 - accuracy: 0.9018 - val_loss: 0.2160 - val_accuracy: 0.9376\n",
            "Epoch 9/50\n",
            "750/750 [==============================] - 2s 3ms/step - loss: 0.3097 - accuracy: 0.9087 - val_loss: 0.2052 - val_accuracy: 0.9402\n",
            "Epoch 10/50\n",
            "750/750 [==============================] - 2s 3ms/step - loss: 0.2953 - accuracy: 0.9134 - val_loss: 0.1956 - val_accuracy: 0.9427\n",
            "Epoch 11/50\n",
            "750/750 [==============================] - 2s 3ms/step - loss: 0.2820 - accuracy: 0.9163 - val_loss: 0.1860 - val_accuracy: 0.9462\n",
            "Epoch 12/50\n",
            "750/750 [==============================] - 2s 3ms/step - loss: 0.2698 - accuracy: 0.9200 - val_loss: 0.1791 - val_accuracy: 0.9476\n",
            "Epoch 13/50\n",
            "750/750 [==============================] - 2s 3ms/step - loss: 0.2624 - accuracy: 0.9235 - val_loss: 0.1725 - val_accuracy: 0.9503\n",
            "Epoch 14/50\n",
            "750/750 [==============================] - 2s 3ms/step - loss: 0.2502 - accuracy: 0.9268 - val_loss: 0.1658 - val_accuracy: 0.9520\n",
            "Epoch 15/50\n",
            "750/750 [==============================] - 2s 3ms/step - loss: 0.2401 - accuracy: 0.9291 - val_loss: 0.1602 - val_accuracy: 0.9533\n",
            "Epoch 16/50\n",
            "750/750 [==============================] - 2s 3ms/step - loss: 0.2334 - accuracy: 0.9315 - val_loss: 0.1561 - val_accuracy: 0.9553\n",
            "Epoch 17/50\n",
            "750/750 [==============================] - 2s 3ms/step - loss: 0.2284 - accuracy: 0.9335 - val_loss: 0.1505 - val_accuracy: 0.9568\n",
            "Epoch 18/50\n",
            "750/750 [==============================] - 2s 3ms/step - loss: 0.2201 - accuracy: 0.9349 - val_loss: 0.1470 - val_accuracy: 0.9570\n",
            "Epoch 19/50\n",
            "750/750 [==============================] - 2s 3ms/step - loss: 0.2125 - accuracy: 0.9372 - val_loss: 0.1432 - val_accuracy: 0.9581\n",
            "Epoch 20/50\n",
            "750/750 [==============================] - 2s 3ms/step - loss: 0.2108 - accuracy: 0.9383 - val_loss: 0.1395 - val_accuracy: 0.9596\n",
            "Epoch 21/50\n",
            "750/750 [==============================] - 2s 3ms/step - loss: 0.2021 - accuracy: 0.9395 - val_loss: 0.1366 - val_accuracy: 0.9606\n",
            "Epoch 22/50\n",
            "750/750 [==============================] - 2s 3ms/step - loss: 0.1995 - accuracy: 0.9404 - val_loss: 0.1334 - val_accuracy: 0.9617\n",
            "Epoch 23/50\n",
            "750/750 [==============================] - 2s 3ms/step - loss: 0.1921 - accuracy: 0.9435 - val_loss: 0.1298 - val_accuracy: 0.9616\n",
            "Epoch 24/50\n",
            "750/750 [==============================] - 2s 3ms/step - loss: 0.1856 - accuracy: 0.9452 - val_loss: 0.1281 - val_accuracy: 0.9617\n",
            "Epoch 25/50\n",
            "750/750 [==============================] - 2s 3ms/step - loss: 0.1819 - accuracy: 0.9452 - val_loss: 0.1244 - val_accuracy: 0.9629\n",
            "Epoch 26/50\n",
            "750/750 [==============================] - 2s 3ms/step - loss: 0.1795 - accuracy: 0.9451 - val_loss: 0.1227 - val_accuracy: 0.9641\n",
            "Epoch 27/50\n",
            "750/750 [==============================] - 2s 3ms/step - loss: 0.1772 - accuracy: 0.9475 - val_loss: 0.1205 - val_accuracy: 0.9634\n",
            "Epoch 28/50\n",
            "750/750 [==============================] - 2s 3ms/step - loss: 0.1710 - accuracy: 0.9504 - val_loss: 0.1188 - val_accuracy: 0.9644\n",
            "Epoch 29/50\n",
            "750/750 [==============================] - 2s 3ms/step - loss: 0.1695 - accuracy: 0.9495 - val_loss: 0.1162 - val_accuracy: 0.9653\n",
            "Epoch 30/50\n",
            "750/750 [==============================] - 2s 3ms/step - loss: 0.1624 - accuracy: 0.9514 - val_loss: 0.1146 - val_accuracy: 0.9662\n",
            "Epoch 31/50\n",
            "750/750 [==============================] - 2s 3ms/step - loss: 0.1627 - accuracy: 0.9511 - val_loss: 0.1141 - val_accuracy: 0.9660\n",
            "Epoch 32/50\n",
            "750/750 [==============================] - 3s 3ms/step - loss: 0.1573 - accuracy: 0.9528 - val_loss: 0.1128 - val_accuracy: 0.9661\n",
            "Epoch 33/50\n",
            "750/750 [==============================] - 2s 3ms/step - loss: 0.1577 - accuracy: 0.9526 - val_loss: 0.1111 - val_accuracy: 0.9668\n",
            "Epoch 34/50\n",
            "750/750 [==============================] - 2s 3ms/step - loss: 0.1557 - accuracy: 0.9538 - val_loss: 0.1090 - val_accuracy: 0.9675\n",
            "Epoch 35/50\n",
            "750/750 [==============================] - 2s 3ms/step - loss: 0.1514 - accuracy: 0.9551 - val_loss: 0.1077 - val_accuracy: 0.9681\n",
            "Epoch 36/50\n",
            "750/750 [==============================] - 2s 3ms/step - loss: 0.1484 - accuracy: 0.9562 - val_loss: 0.1071 - val_accuracy: 0.9675\n",
            "Epoch 37/50\n",
            "750/750 [==============================] - 2s 3ms/step - loss: 0.1452 - accuracy: 0.9564 - val_loss: 0.1070 - val_accuracy: 0.9674\n",
            "Epoch 38/50\n",
            "750/750 [==============================] - 2s 3ms/step - loss: 0.1440 - accuracy: 0.9561 - val_loss: 0.1035 - val_accuracy: 0.9695\n",
            "Epoch 39/50\n",
            "750/750 [==============================] - 2s 3ms/step - loss: 0.1419 - accuracy: 0.9586 - val_loss: 0.1030 - val_accuracy: 0.9692\n",
            "Epoch 40/50\n",
            "750/750 [==============================] - 2s 3ms/step - loss: 0.1400 - accuracy: 0.9589 - val_loss: 0.1017 - val_accuracy: 0.9695\n",
            "Epoch 41/50\n",
            "750/750 [==============================] - 2s 3ms/step - loss: 0.1370 - accuracy: 0.9591 - val_loss: 0.1005 - val_accuracy: 0.9693\n",
            "Epoch 42/50\n",
            "750/750 [==============================] - 3s 3ms/step - loss: 0.1371 - accuracy: 0.9592 - val_loss: 0.0993 - val_accuracy: 0.9698\n",
            "Epoch 43/50\n",
            "750/750 [==============================] - 2s 3ms/step - loss: 0.1324 - accuracy: 0.9608 - val_loss: 0.0983 - val_accuracy: 0.9706\n",
            "Epoch 44/50\n",
            "750/750 [==============================] - 2s 3ms/step - loss: 0.1318 - accuracy: 0.9603 - val_loss: 0.0985 - val_accuracy: 0.9710\n",
            "Epoch 45/50\n",
            "750/750 [==============================] - 2s 3ms/step - loss: 0.1304 - accuracy: 0.9596 - val_loss: 0.0969 - val_accuracy: 0.9708\n",
            "Epoch 46/50\n",
            "750/750 [==============================] - 2s 3ms/step - loss: 0.1290 - accuracy: 0.9606 - val_loss: 0.0964 - val_accuracy: 0.9708\n",
            "Epoch 47/50\n",
            "750/750 [==============================] - 2s 3ms/step - loss: 0.1277 - accuracy: 0.9614 - val_loss: 0.0948 - val_accuracy: 0.9708\n",
            "Epoch 48/50\n",
            "750/750 [==============================] - 2s 3ms/step - loss: 0.1257 - accuracy: 0.9632 - val_loss: 0.0948 - val_accuracy: 0.9707\n",
            "Epoch 49/50\n",
            "750/750 [==============================] - 2s 3ms/step - loss: 0.1239 - accuracy: 0.9633 - val_loss: 0.0939 - val_accuracy: 0.9719\n",
            "Epoch 50/50\n",
            "750/750 [==============================] - 2s 3ms/step - loss: 0.1214 - accuracy: 0.9637 - val_loss: 0.0934 - val_accuracy: 0.9723\n"
          ]
        }
      ]
    },
    {
      "cell_type": "code",
      "metadata": {
        "outputId": "4faefd69-b995-485b-d942-ad6c87703700",
        "id": "9QfbwIhAgBfX",
        "colab": {
          "base_uri": "https://localhost:8080/",
          "height": 590
        }
      },
      "source": [
        "import matplotlib.pyplot as plt\n",
        "%matplotlib inline\n",
        "# list all data in training\n",
        "print(training.history.keys())\n",
        "# summarize training for accuracy\n",
        "plt.plot(training.history['accuracy'])\n",
        "plt.plot(training.history['val_accuracy'])\n",
        "plt.title('model accuracy')\n",
        "plt.ylabel('accuracy')\n",
        "plt.xlabel('epoch')\n",
        "plt.legend(['train', 'test'], loc='upper left')\n",
        "plt.show()\n",
        "# summarize traning for loss\n",
        "plt.plot(training.history['loss'])\n",
        "plt.plot(training.history['val_loss'])\n",
        "plt.title('model loss')\n",
        "plt.ylabel('loss')\n",
        "plt.xlabel('epoch')\n",
        "plt.legend(['train', 'test'], loc='upper left')\n",
        "plt.show()"
      ],
      "execution_count": 28,
      "outputs": [
        {
          "output_type": "stream",
          "name": "stdout",
          "text": [
            "dict_keys(['loss', 'accuracy', 'val_loss', 'val_accuracy'])\n"
          ]
        },
        {
          "output_type": "display_data",
          "data": {
            "text/plain": [
              "<Figure size 432x288 with 1 Axes>"
            ],
            "image/png": "[encoded data removed]"
          },
          "metadata": {
            "needs_background": "light"
          }
        },
        {
          "output_type": "display_data",
          "data": {
            "text/plain": [
              "<Figure size 432x288 with 1 Axes>"
            ],
            "image/png": "[encoded data removed]"
          },
          "metadata": {
            "needs_background": "light"
          }
        }
      ]
    },
    {
      "cell_type": "code",
      "metadata": {
        "outputId": "3fd47ba7-d59a-4085-fd0f-2ef3eab3face",
        "id": "yT7LK87agBfq",
        "colab": {
          "base_uri": "https://localhost:8080/"
        }
      },
      "source": [
        "#evaluate the model\n",
        "test_loss, test_acc = model_2.evaluate(X_test, Y_test)\n",
        "print('Test accuracy:', test_acc)"
      ],
      "execution_count": 29,
      "outputs": [
        {
          "output_type": "stream",
          "name": "stdout",
          "text": [
            "313/313 [==============================] - 1s 2ms/step - loss: 0.0895 - accuracy: 0.9724\n",
            "Test accuracy: 0.9724000096321106\n"
          ]
        }
      ]
    },
    {
      "cell_type": "code",
      "metadata": {
        "outputId": "19472354-df5e-4053-ca49-d51df1b8dc06",
        "id": "jdOVuO0AgBf0",
        "colab": {
          "base_uri": "https://localhost:8080/"
        }
      },
      "source": [
        "model_2.summary()"
      ],
      "execution_count": 30,
      "outputs": [
        {
          "output_type": "stream",
          "name": "stdout",
          "text": [
            "Model: \"sequential_2\"\n",
            "_________________________________________________________________\n",
            " Layer (type)                Output Shape              Param #   \n",
            "=================================================================\n",
            " dense_layer (Dense)         (None, 128)               100480    \n",
            "                                                                 \n",
            " dropout (Dropout)           (None, 128)               0         \n",
            "                                                                 \n",
            " dense_layer_2 (Dense)       (None, 128)               16512     \n",
            "                                                                 \n",
            " dropout_1 (Dropout)         (None, 128)               0         \n",
            "                                                                 \n",
            " dense_layer_3 (Dense)       (None, 10)                1290      \n",
            "                                                                 \n",
            "=================================================================\n",
            "Total params: 118,282\n",
            "Trainable params: 118,282\n",
            "Non-trainable params: 0\n",
            "_________________________________________________________________\n"
          ]
        }
      ]
    },
    {
      "cell_type": "code",
      "metadata": {
        "outputId": "975ce5c8-8898-43aa-f707-c5a74ad4554b",
        "id": "oykr_QswgBf_",
        "colab": {
          "base_uri": "https://localhost:8080/"
        }
      },
      "source": [
        "model_2.weights"
      ],
      "execution_count": 31,
      "outputs": [
        {
          "output_type": "execute_result",
          "data": {
            "text/plain": [
              "[<tf.Variable 'dense_layer/kernel:0' shape=(784, 128) dtype=float32, numpy=\n",
              " array([[ 0.05491399,  0.00835142, -0.05553565, ...,  0.01808607,\n",
              "         -0.0335645 , -0.07739384],\n",
              "        [-0.0571605 , -0.0234894 , -0.04046822, ...,  0.01382136,\n",
              "          0.05327705, -0.01990878],\n",
              "        [ 0.05546544, -0.04489479,  0.02129427, ..., -0.00508568,\n",
              "         -0.030331  ,  0.02494337],\n",
              "        ...,\n",
              "        [ 0.00433352, -0.04696563, -0.03598544, ..., -0.04279574,\n",
              "         -0.00895362,  0.02079724],\n",
              "        [-0.00690822,  0.07212742,  0.03941049, ..., -0.02203911,\n",
              "         -0.02489011, -0.06437329],\n",
              "        [-0.05766602,  0.04314844, -0.05966803, ..., -0.07419595,\n",
              "          0.03125278,  0.00805564]], dtype=float32)>,\n",
              " <tf.Variable 'dense_layer/bias:0' shape=(128,) dtype=float32, numpy=\n",
              " array([-0.0401701 , -0.03466801, -0.13738944,  0.13126257, -0.01282593,\n",
              "         0.05392066,  0.03925904,  0.01476808,  0.07766918, -0.05324611,\n",
              "         0.01714044, -0.08424466, -0.00122497,  0.08469204, -0.01036989,\n",
              "         0.1308528 ,  0.09923891, -0.02236853, -0.05698237, -0.02999851,\n",
              "        -0.06181549, -0.00972548,  0.01062762,  0.06455523,  0.0406208 ,\n",
              "         0.08953919,  0.07769371,  0.04376531,  0.09903479,  0.06728368,\n",
              "        -0.0190915 , -0.03823125,  0.0002096 , -0.03752636, -0.10330689,\n",
              "        -0.1138128 , -0.06656429, -0.00201017, -0.08676079, -0.02478684,\n",
              "        -0.06819711, -0.01631956,  0.16001892, -0.01285009, -0.07737949,\n",
              "         0.03510207,  0.13812277, -0.01352411,  0.03767496,  0.03017816,\n",
              "         0.07024615,  0.00108143,  0.01110896,  0.06173808,  0.01372318,\n",
              "         0.07586301,  0.02801955, -0.00139579, -0.0587858 ,  0.10152716,\n",
              "         0.02828317, -0.01529723,  0.03317728,  0.19589522, -0.09738082,\n",
              "        -0.07143246, -0.17886682,  0.04499225, -0.20666645, -0.02751101,\n",
              "        -0.03519829,  0.01076927, -0.01040965,  0.0190156 ,  0.01770203,\n",
              "         0.07678137,  0.04906318,  0.02691029, -0.00724957, -0.09845167,\n",
              "         0.02447865, -0.02411347,  0.0381682 ,  0.02399292,  0.00935323,\n",
              "        -0.08801201, -0.00875228,  0.04962764, -0.01017334, -0.03562554,\n",
              "        -0.0481406 ,  0.01717715,  0.10912629,  0.083079  ,  0.02031248,\n",
              "         0.04880131,  0.05356111,  0.06628915,  0.1648613 ,  0.04492838,\n",
              "        -0.00249546,  0.04699128,  0.033111  , -0.11530835,  0.01099381,\n",
              "         0.00158818,  0.01330457,  0.12472185, -0.01553285,  0.0287972 ,\n",
              "        -0.07841152,  0.03417683,  0.0725913 , -0.01497538,  0.01006659,\n",
              "         0.14821506,  0.00362779,  0.1605322 ,  0.05412446, -0.09004677,\n",
              "         0.04085436, -0.06946838,  0.11534628, -0.08365416, -0.08872696,\n",
              "         0.04862285,  0.1072595 ,  0.0054622 ], dtype=float32)>,\n",
              " <tf.Variable 'dense_layer_2/kernel:0' shape=(128, 128) dtype=float32, numpy=\n",
              " array([[ 0.136207  ,  0.08511376, -0.09526952, ...,  0.19912046,\n",
              "          0.0334474 , -0.10917515],\n",
              "        [-0.10532527,  0.05239393,  0.07362303, ..., -0.13775797,\n",
              "         -0.12952693,  0.04042524],\n",
              "        [ 0.03699401,  0.17428179,  0.11011443, ..., -0.03522698,\n",
              "          0.03072544,  0.167466  ],\n",
              "        ...,\n",
              "        [ 0.05164937, -0.10370936,  0.1053189 , ..., -0.0155241 ,\n",
              "         -0.01844628, -0.15855344],\n",
              "        [ 0.02624911, -0.09323883, -0.02026742, ..., -0.06582307,\n",
              "         -0.12953876, -0.11125677],\n",
              "        [-0.05219377,  0.20341402,  0.06869599, ...,  0.05788809,\n",
              "          0.12579733,  0.1055554 ]], dtype=float32)>,\n",
              " <tf.Variable 'dense_layer_2/bias:0' shape=(128,) dtype=float32, numpy=\n",
              " array([ 0.09619904,  0.07737818,  0.03711744,  0.08704644,  0.01101809,\n",
              "         0.08240413, -0.04452655, -0.02240147, -0.00358   ,  0.12366036,\n",
              "         0.01548589,  0.10180125,  0.0522674 ,  0.04928119, -0.05824406,\n",
              "         0.01819089,  0.05590056,  0.12786303,  0.10232926,  0.01951582,\n",
              "        -0.0060993 ,  0.06166979,  0.02848146,  0.15867288,  0.06089243,\n",
              "         0.02764153,  0.01946397,  0.01713862,  0.01211705,  0.10946847,\n",
              "         0.11168049, -0.03405861,  0.15100697,  0.02572381,  0.10061335,\n",
              "        -0.00547131, -0.00393086,  0.01421939,  0.059216  ,  0.02517374,\n",
              "         0.04892495,  0.10287729, -0.01134474,  0.10140572,  0.07498788,\n",
              "         0.07394125,  0.04833477,  0.02138964,  0.07497133,  0.06027776,\n",
              "         0.17799674, -0.00909981,  0.07335924,  0.02326373, -0.01225447,\n",
              "         0.09655031,  0.15800194,  0.04132432,  0.17429926, -0.01078996,\n",
              "         0.05969585,  0.03130533,  0.04880597, -0.00091572,  0.08326144,\n",
              "         0.110321  ,  0.12282524,  0.02148903, -0.05792978,  0.0664201 ,\n",
              "         0.06696569,  0.01140466, -0.01928166,  0.06488787, -0.00895203,\n",
              "         0.02698441,  0.09436677,  0.01414057, -0.04877602,  0.07379494,\n",
              "         0.0942322 ,  0.08104451,  0.05803809, -0.01789036, -0.02750681,\n",
              "         0.09813484,  0.07208478,  0.12569915,  0.00489758,  0.02340521,\n",
              "        -0.030683  ,  0.0294479 ,  0.05684024,  0.04189941,  0.04031669,\n",
              "         0.00846944, -0.05296048, -0.02534827,  0.1112059 ,  0.07603167,\n",
              "         0.03011484, -0.01115713,  0.02666398,  0.0768594 , -0.02651157,\n",
              "         0.09439392,  0.03639688,  0.03725446,  0.12680717,  0.04794548,\n",
              "         0.04676836,  0.0160572 ,  0.02812832,  0.02794945,  0.02790583,\n",
              "        -0.02056298,  0.10972651,  0.08244772, -0.02519548,  0.04069949,\n",
              "        -0.02858443,  0.07057287,  0.02817108,  0.09155758,  0.03357913,\n",
              "         0.19271202, -0.01260428,  0.14321996], dtype=float32)>,\n",
              " <tf.Variable 'dense_layer_3/kernel:0' shape=(128, 10) dtype=float32, numpy=\n",
              " array([[-0.18740451,  0.29400477, -0.14808293, ..., -0.04062054,\n",
              "          0.08255307, -0.30266318],\n",
              "        [ 0.11117103, -0.41852987, -0.1504083 , ..., -0.03239339,\n",
              "          0.42206353,  0.310082  ],\n",
              "        [ 0.00726363, -0.11789984, -0.09019077, ..., -0.04855678,\n",
              "         -0.29759347,  0.27953848],\n",
              "        ...,\n",
              "        [-0.35680655,  0.21707793, -0.24305347, ...,  0.12321153,\n",
              "          0.3038269 ,  0.22551498],\n",
              "        [-0.06334976, -0.31463733,  0.23931691, ...,  0.18649131,\n",
              "          0.376397  , -0.42499742],\n",
              "        [ 0.37102085, -0.14681114, -0.17058077, ...,  0.10423787,\n",
              "          0.05898295,  0.37055504]], dtype=float32)>,\n",
              " <tf.Variable 'dense_layer_3/bias:0' shape=(10,) dtype=float32, numpy=\n",
              " array([-0.11158377,  0.17999654, -0.22926809, -0.13854215,  0.13757604,\n",
              "         0.12836187, -0.097685  , -0.10869003,  0.15680471,  0.08302931],\n",
              "       dtype=float32)>]"
            ]
          },
          "metadata": {},
          "execution_count": 31
        }
      ]
    },
    {
      "cell_type": "code",
      "metadata": {
        "outputId": "4573dc42-55b9-4e6f-9ab4-ff33a08fa872",
        "id": "SPzS9VdLgBgK",
        "colab": {
          "base_uri": "https://localhost:8080/"
        }
      },
      "source": [
        "model_2.get_config()"
      ],
      "execution_count": 32,
      "outputs": [
        {
          "output_type": "execute_result",
          "data": {
            "text/plain": [
              "{'layers': [{'class_name': 'InputLayer',\n",
              "   'config': {'batch_input_shape': (None, 784),\n",
              "    'dtype': 'float32',\n",
              "    'name': 'dense_layer_input',\n",
              "    'ragged': False,\n",
              "    'sparse': False}},\n",
              "  {'class_name': 'Dense',\n",
              "   'config': {'activation': 'relu',\n",
              "    'activity_regularizer': None,\n",
              "    'batch_input_shape': (None, 784),\n",
              "    'bias_constraint': None,\n",
              "    'bias_initializer': {'class_name': 'Zeros', 'config': {}},\n",
              "    'bias_regularizer': None,\n",
              "    'dtype': 'float32',\n",
              "    'kernel_constraint': None,\n",
              "    'kernel_initializer': {'class_name': 'GlorotUniform',\n",
              "     'config': {'seed': None}},\n",
              "    'kernel_regularizer': None,\n",
              "    'name': 'dense_layer',\n",
              "    'trainable': True,\n",
              "    'units': 128,\n",
              "    'use_bias': True}},\n",
              "  {'class_name': 'Dropout',\n",
              "   'config': {'dtype': 'float32',\n",
              "    'name': 'dropout',\n",
              "    'noise_shape': None,\n",
              "    'rate': 0.3,\n",
              "    'seed': None,\n",
              "    'trainable': True}},\n",
              "  {'class_name': 'Dense',\n",
              "   'config': {'activation': 'relu',\n",
              "    'activity_regularizer': None,\n",
              "    'bias_constraint': None,\n",
              "    'bias_initializer': {'class_name': 'Zeros', 'config': {}},\n",
              "    'bias_regularizer': None,\n",
              "    'dtype': 'float32',\n",
              "    'kernel_constraint': None,\n",
              "    'kernel_initializer': {'class_name': 'GlorotUniform',\n",
              "     'config': {'seed': None}},\n",
              "    'kernel_regularizer': None,\n",
              "    'name': 'dense_layer_2',\n",
              "    'trainable': True,\n",
              "    'units': 128,\n",
              "    'use_bias': True}},\n",
              "  {'class_name': 'Dropout',\n",
              "   'config': {'dtype': 'float32',\n",
              "    'name': 'dropout_1',\n",
              "    'noise_shape': None,\n",
              "    'rate': 0.3,\n",
              "    'seed': None,\n",
              "    'trainable': True}},\n",
              "  {'class_name': 'Dense',\n",
              "   'config': {'activation': 'softmax',\n",
              "    'activity_regularizer': None,\n",
              "    'bias_constraint': None,\n",
              "    'bias_initializer': {'class_name': 'Zeros', 'config': {}},\n",
              "    'bias_regularizer': None,\n",
              "    'dtype': 'float32',\n",
              "    'kernel_constraint': None,\n",
              "    'kernel_initializer': {'class_name': 'GlorotUniform',\n",
              "     'config': {'seed': None}},\n",
              "    'kernel_regularizer': None,\n",
              "    'name': 'dense_layer_3',\n",
              "    'trainable': True,\n",
              "    'units': 10,\n",
              "    'use_bias': True}}],\n",
              " 'name': 'sequential_2'}"
            ]
          },
          "metadata": {},
          "execution_count": 32
        }
      ]
    },
    {
      "cell_type": "markdown",
      "metadata": {
        "id": "pjps75cBuR1Z"
      },
      "source": [
        "###Improved Model 3: Changing the Optimizer - Adam"
      ]
    },
    {
      "cell_type": "code",
      "metadata": {
        "id": "WmXFwU5puZIF"
      },
      "source": [
        "#Most common type of model is a stack of layers\n",
        "model_3 = tf.keras.Sequential()\n",
        "N_hidden = 64\n",
        "# Adds a densely-connected layer with 64 units to the model:\n",
        "model_3.add(Dense(N_hidden, name='dense_layer', input_shape=(784,), activation = 'relu'))\n",
        "# Now the model will take as input arrays of shape (*, 784)# and output arrays of shape (*, 64)\n",
        "model_3.add(Dropout(0.3))\n",
        "# Adding another dense layer:\n",
        "model_3.add(Dense(N_hidden, name='dense_layer_2', activation='relu'))\n",
        "model_3.add(Dropout(0.3))\n",
        "# After the first layer, you don't need to specify\u000b# the size of the input anymore:\n",
        "# Add an output layer with 10 output units (10 different classes):\n",
        "model_3.add(Dense(10, name='dense_layer_3', activation = 'softmax'))\n"
      ],
      "execution_count": 33,
      "outputs": []
    },
    {
      "cell_type": "code",
      "metadata": {
        "id": "71IzuyLBt3pQ"
      },
      "source": [
        "# Compiling the model.\n",
        "model_3.compile(optimizer='Adam', \n",
        "              loss='categorical_crossentropy',\n",
        "              metrics=['accuracy'])"
      ],
      "execution_count": 34,
      "outputs": []
    },
    {
      "cell_type": "code",
      "metadata": {
        "outputId": "37dd02c8-d626-4d96-b1e9-cf9cd74ef589",
        "id": "KfP4B4Sat3pW",
        "colab": {
          "base_uri": "https://localhost:8080/"
        }
      },
      "source": [
        "# Training the model. \n",
        "training = model_3.fit(X_train, Y_train, batch_size=128, epochs=20, validation_split=0.2) \n"
      ],
      "execution_count": 35,
      "outputs": [
        {
          "output_type": "stream",
          "name": "stdout",
          "text": [
            "Epoch 1/20\n",
            "375/375 [==============================] - 2s 3ms/step - loss: 0.6849 - accuracy: 0.7867 - val_loss: 0.2473 - val_accuracy: 0.9271\n",
            "Epoch 2/20\n",
            "375/375 [==============================] - 1s 3ms/step - loss: 0.3411 - accuracy: 0.8996 - val_loss: 0.1903 - val_accuracy: 0.9438\n",
            "Epoch 3/20\n",
            "375/375 [==============================] - 1s 3ms/step - loss: 0.2839 - accuracy: 0.9172 - val_loss: 0.1608 - val_accuracy: 0.9545\n",
            "Epoch 4/20\n",
            "375/375 [==============================] - 1s 3ms/step - loss: 0.2487 - accuracy: 0.9272 - val_loss: 0.1449 - val_accuracy: 0.9581\n",
            "Epoch 5/20\n",
            "375/375 [==============================] - 1s 3ms/step - loss: 0.2237 - accuracy: 0.9353 - val_loss: 0.1336 - val_accuracy: 0.9602\n",
            "Epoch 6/20\n",
            "375/375 [==============================] - 1s 3ms/step - loss: 0.2018 - accuracy: 0.9405 - val_loss: 0.1259 - val_accuracy: 0.9648\n",
            "Epoch 7/20\n",
            "375/375 [==============================] - 1s 3ms/step - loss: 0.1918 - accuracy: 0.9433 - val_loss: 0.1253 - val_accuracy: 0.9624\n",
            "Epoch 8/20\n",
            "375/375 [==============================] - 1s 3ms/step - loss: 0.1798 - accuracy: 0.9471 - val_loss: 0.1188 - val_accuracy: 0.9657\n",
            "Epoch 9/20\n",
            "375/375 [==============================] - 1s 3ms/step - loss: 0.1729 - accuracy: 0.9483 - val_loss: 0.1172 - val_accuracy: 0.9656\n",
            "Epoch 10/20\n",
            "375/375 [==============================] - 1s 3ms/step - loss: 0.1625 - accuracy: 0.9518 - val_loss: 0.1112 - val_accuracy: 0.9683\n",
            "Epoch 11/20\n",
            "375/375 [==============================] - 1s 3ms/step - loss: 0.1550 - accuracy: 0.9530 - val_loss: 0.1132 - val_accuracy: 0.9676\n",
            "Epoch 12/20\n",
            "375/375 [==============================] - 1s 3ms/step - loss: 0.1486 - accuracy: 0.9551 - val_loss: 0.1094 - val_accuracy: 0.9681\n",
            "Epoch 13/20\n",
            "375/375 [==============================] - 1s 3ms/step - loss: 0.1465 - accuracy: 0.9554 - val_loss: 0.1055 - val_accuracy: 0.9703\n",
            "Epoch 14/20\n",
            "375/375 [==============================] - 1s 3ms/step - loss: 0.1421 - accuracy: 0.9574 - val_loss: 0.1043 - val_accuracy: 0.9690\n",
            "Epoch 15/20\n",
            "375/375 [==============================] - 1s 3ms/step - loss: 0.1400 - accuracy: 0.9578 - val_loss: 0.1051 - val_accuracy: 0.9687\n",
            "Epoch 16/20\n",
            "375/375 [==============================] - 1s 3ms/step - loss: 0.1355 - accuracy: 0.9577 - val_loss: 0.1022 - val_accuracy: 0.9703\n",
            "Epoch 17/20\n",
            "375/375 [==============================] - 1s 3ms/step - loss: 0.1330 - accuracy: 0.9596 - val_loss: 0.1071 - val_accuracy: 0.9692\n",
            "Epoch 18/20\n",
            "375/375 [==============================] - 1s 3ms/step - loss: 0.1265 - accuracy: 0.9613 - val_loss: 0.1015 - val_accuracy: 0.9707\n",
            "Epoch 19/20\n",
            "375/375 [==============================] - 1s 3ms/step - loss: 0.1228 - accuracy: 0.9618 - val_loss: 0.1029 - val_accuracy: 0.9702\n",
            "Epoch 20/20\n",
            "375/375 [==============================] - 1s 3ms/step - loss: 0.1226 - accuracy: 0.9623 - val_loss: 0.0998 - val_accuracy: 0.9716\n"
          ]
        }
      ]
    },
    {
      "cell_type": "code",
      "metadata": {
        "outputId": "1a8e6920-fa05-4913-dd85-338687e4c56a",
        "id": "uuwhbVkxj0iR",
        "colab": {
          "base_uri": "https://localhost:8080/",
          "height": 590
        }
      },
      "source": [
        "import matplotlib.pyplot as plt\n",
        "%matplotlib inline\n",
        "# list all data in training\n",
        "print(training.history.keys())\n",
        "# summarize training for accuracy\n",
        "plt.plot(training.history['accuracy'])\n",
        "plt.plot(training.history['val_accuracy'])\n",
        "plt.title('model accuracy')\n",
        "plt.ylabel('accuracy')\n",
        "plt.xlabel('epoch')\n",
        "plt.legend(['train', 'test'], loc='upper left')\n",
        "plt.show()\n",
        "# summarize traning for loss\n",
        "plt.plot(training.history['loss'])\n",
        "plt.plot(training.history['val_loss'])\n",
        "plt.title('model loss')\n",
        "plt.ylabel('loss')\n",
        "plt.xlabel('epoch')\n",
        "plt.legend(['train', 'test'], loc='upper left')\n",
        "plt.show()"
      ],
      "execution_count": 36,
      "outputs": [
        {
          "output_type": "stream",
          "name": "stdout",
          "text": [
            "dict_keys(['loss', 'accuracy', 'val_loss', 'val_accuracy'])\n"
          ]
        },
        {
          "output_type": "display_data",
          "data": {
            "text/plain": [
              "<Figure size 432x288 with 1 Axes>"
            ],
            "image/png": "[encoded data removed]"
          },
          "metadata": {
            "needs_background": "light"
          }
        },
        {
          "output_type": "display_data",
          "data": {
            "text/plain": [
              "<Figure size 432x288 with 1 Axes>"
            ],
            "image/png": "[encoded data removed]"
          },
          "metadata": {
            "needs_background": "light"
          }
        }
      ]
    },
    {
      "cell_type": "code",
      "metadata": {
        "id": "En35EsWnuHmC",
        "outputId": "086625c0-cba3-481f-9229-23aa828ec7a2",
        "colab": {
          "base_uri": "https://localhost:8080/"
        }
      },
      "source": [
        "#evaluate the model\n",
        "test_loss, test_acc = model_3.evaluate(X_test, Y_test)\n",
        "print('Test accuracy:', test_acc)"
      ],
      "execution_count": 37,
      "outputs": [
        {
          "output_type": "stream",
          "name": "stdout",
          "text": [
            "313/313 [==============================] - 1s 2ms/step - loss: 0.1028 - accuracy: 0.9703\n",
            "Test accuracy: 0.970300018787384\n"
          ]
        }
      ]
    },
    {
      "cell_type": "code",
      "metadata": {
        "outputId": "3610db5b-d310-4cda-82f4-26c0662462d7",
        "id": "Vn7mv0zhj0i2",
        "colab": {
          "base_uri": "https://localhost:8080/"
        }
      },
      "source": [
        "model_3.summary()"
      ],
      "execution_count": 38,
      "outputs": [
        {
          "output_type": "stream",
          "name": "stdout",
          "text": [
            "Model: \"sequential_3\"\n",
            "_________________________________________________________________\n",
            " Layer (type)                Output Shape              Param #   \n",
            "=================================================================\n",
            " dense_layer (Dense)         (None, 64)                50240     \n",
            "                                                                 \n",
            " dropout_2 (Dropout)         (None, 64)                0         \n",
            "                                                                 \n",
            " dense_layer_2 (Dense)       (None, 64)                4160      \n",
            "                                                                 \n",
            " dropout_3 (Dropout)         (None, 64)                0         \n",
            "                                                                 \n",
            " dense_layer_3 (Dense)       (None, 10)                650       \n",
            "                                                                 \n",
            "=================================================================\n",
            "Total params: 55,050\n",
            "Trainable params: 55,050\n",
            "Non-trainable params: 0\n",
            "_________________________________________________________________\n"
          ]
        }
      ]
    },
    {
      "cell_type": "code",
      "metadata": {
        "outputId": "130283fe-e812-4ef0-d0aa-9dd3a4fcd81f",
        "id": "P5eSv_K5j0jK",
        "colab": {
          "base_uri": "https://localhost:8080/"
        }
      },
      "source": [
        "model_3.weights"
      ],
      "execution_count": 39,
      "outputs": [
        {
          "output_type": "execute_result",
          "data": {
            "text/plain": [
              "[<tf.Variable 'dense_layer/kernel:0' shape=(784, 64) dtype=float32, numpy=\n",
              " array([[ 0.00445724, -0.02769434,  0.02520566, ...,  0.01480749,\n",
              "         -0.06948204,  0.01616622],\n",
              "        [ 0.06711484, -0.02076608, -0.05798634, ...,  0.05738296,\n",
              "         -0.02614368,  0.08192787],\n",
              "        [ 0.00721902,  0.07878936,  0.01054169, ...,  0.06753362,\n",
              "         -0.01510632,  0.04625262],\n",
              "        ...,\n",
              "        [ 0.06535458,  0.04065837, -0.02355495, ...,  0.03604968,\n",
              "          0.0583391 ,  0.08289886],\n",
              "        [ 0.0787627 , -0.04482208, -0.04462378, ...,  0.04578128,\n",
              "         -0.07759903,  0.07203952],\n",
              "        [-0.02095975, -0.0318834 , -0.00204095, ...,  0.07527529,\n",
              "         -0.05943555, -0.04661478]], dtype=float32)>,\n",
              " <tf.Variable 'dense_layer/bias:0' shape=(64,) dtype=float32, numpy=\n",
              " array([-0.12649116, -0.36498138, -0.01612254, -0.04372803, -0.20476694,\n",
              "         0.18878518,  0.02989443,  0.01644074,  0.12923627, -0.05764244,\n",
              "         0.12017815,  0.11416829, -0.12790214, -0.15748693,  0.0164611 ,\n",
              "         0.07262627, -0.27408054,  0.23326448, -0.1178324 ,  0.02672847,\n",
              "         0.09453406, -0.01720745,  0.11284813,  0.13640197,  0.06749693,\n",
              "         0.12031727, -0.06734838, -0.00952154,  0.16222636,  0.1621885 ,\n",
              "         0.10955109,  0.20713006, -0.00609881, -0.11425915, -0.32676253,\n",
              "        -0.16451076,  0.04372407, -0.11487713,  0.00376193, -0.21310842,\n",
              "         0.18354417,  0.06898794, -0.01962706, -0.2300842 ,  0.18163131,\n",
              "        -0.19147523,  0.15314941,  0.28818303,  0.07085662,  0.01648943,\n",
              "        -0.13964842,  0.07846195,  0.02049671,  0.02631724, -0.02413041,\n",
              "         0.03616533, -0.09909977,  0.0741217 , -0.16066656, -0.04934786,\n",
              "         0.14580311,  0.22661164, -0.07129809,  0.21264315], dtype=float32)>,\n",
              " <tf.Variable 'dense_layer_2/kernel:0' shape=(64, 64) dtype=float32, numpy=\n",
              " array([[-0.41578496,  0.16491011,  0.26401788, ..., -0.44499788,\n",
              "         -0.14227942, -0.33593118],\n",
              "        [-0.07497156, -0.17112459,  0.08301986, ...,  0.07337358,\n",
              "         -0.16594972, -0.00382096],\n",
              "        [-0.01559991,  0.08427608,  0.10227448, ...,  0.09290481,\n",
              "          0.18345897, -0.03284197],\n",
              "        ...,\n",
              "        [ 0.22232275, -0.19594407,  0.05083084, ...,  0.10008761,\n",
              "         -0.07898921,  0.19204845],\n",
              "        [-0.10759973,  0.00835804,  0.00804554, ..., -0.1546343 ,\n",
              "         -0.3008847 , -0.42726287],\n",
              "        [ 0.37040552, -0.08926172, -0.00462654, ...,  0.11369028,\n",
              "         -0.2865126 ,  0.03714452]], dtype=float32)>,\n",
              " <tf.Variable 'dense_layer_2/bias:0' shape=(64,) dtype=float32, numpy=\n",
              " array([ 0.07781805, -0.07472657, -0.01846569,  0.24413423,  0.03171787,\n",
              "         0.19048654,  0.18975772,  0.15747929, -0.11582395,  0.2022272 ,\n",
              "         0.29418156,  0.3901404 ,  0.06996239,  0.2040005 , -0.15920794,\n",
              "         0.15562403,  0.32812867,  0.12328996,  0.05725999,  0.21672477,\n",
              "         0.03930153,  0.05606475,  0.44499514, -0.01379333, -0.06259722,\n",
              "        -0.0248435 ,  0.5465563 ,  0.15489864,  0.30096337,  0.3838371 ,\n",
              "         0.07403258,  0.09768909, -0.02204544, -0.138262  ,  0.00345119,\n",
              "        -0.05519377, -0.0410784 ,  0.33285093,  0.27047965,  0.18259437,\n",
              "         0.2896971 ,  0.14933214,  0.15196203,  0.01718295,  0.10082265,\n",
              "         0.14643428,  0.15147746,  0.03972155,  0.3462935 ,  0.34018168,\n",
              "         0.2879783 , -0.0259939 , -0.11108622,  0.02765002,  0.3734219 ,\n",
              "         0.14121914,  0.19706985,  0.33752435,  0.2492298 ,  0.15657543,\n",
              "         0.3712364 ,  0.2958931 ,  0.10737932,  0.05755296], dtype=float32)>,\n",
              " <tf.Variable 'dense_layer_3/kernel:0' shape=(64, 10) dtype=float32, numpy=\n",
              " array([[ 2.40915269e-01, -7.38490701e-01, -3.05496573e-01,\n",
              "         -1.95933044e-01,  2.02709198e-01,  1.70811027e-01,\n",
              "          2.76571840e-01,  1.53824642e-01, -4.15103912e-01,\n",
              "         -3.93390179e-01],\n",
              "        [ 1.64560899e-02,  4.19170141e-01, -2.00881481e-01,\n",
              "          3.24471653e-01,  2.92277962e-01, -3.30467075e-01,\n",
              "         -7.60653988e-02,  4.04369205e-01, -5.08835539e-02,\n",
              "         -3.50348562e-01],\n",
              "        [-6.19701028e-01,  1.91014677e-01,  2.41369560e-01,\n",
              "          2.02401385e-01, -5.89084804e-01, -7.35275149e-02,\n",
              "         -4.76042628e-01,  2.21667528e-01,  1.65570155e-01,\n",
              "         -3.72083068e-01],\n",
              "        [ 3.79162282e-01, -7.55887255e-02,  2.96269923e-01,\n",
              "          1.50429562e-01, -3.97807240e-01, -3.25184949e-02,\n",
              "         -2.65182585e-01, -2.52435327e-01,  3.48012686e-01,\n",
              "         -5.04213452e-01],\n",
              "        [-4.01237756e-02, -2.23347202e-01,  4.41813707e-01,\n",
              "         -1.66826665e-01,  2.63184071e-01,  3.78175408e-01,\n",
              "         -3.51058960e-01, -2.97373801e-01, -3.14893007e-01,\n",
              "         -9.45443809e-02],\n",
              "        [ 4.11280721e-01, -3.84813786e-01,  2.45634004e-01,\n",
              "         -2.90620565e-01,  2.71889567e-01, -3.81496966e-01,\n",
              "          2.29838297e-01, -1.85789540e-01, -4.20812249e-01,\n",
              "          2.95210481e-01],\n",
              "        [-1.03988218e+00,  1.93363488e-01, -5.71382403e-01,\n",
              "          1.76208839e-01,  1.01622216e-01,  1.94237843e-01,\n",
              "         -6.75878942e-01, -3.08147073e-01,  3.98931615e-02,\n",
              "          1.89037755e-01],\n",
              "        [ 2.52593756e-01, -3.77358109e-01,  1.24140285e-01,\n",
              "         -1.96192399e-01, -2.93731779e-01, -3.89706343e-01,\n",
              "         -4.78839248e-01,  2.44061142e-01, -1.69858828e-01,\n",
              "          2.22091824e-01],\n",
              "        [-9.72571820e-02, -2.52714753e-01,  2.29730338e-01,\n",
              "          1.09100774e-01,  2.70723104e-01, -5.45833290e-01,\n",
              "         -2.18736351e-01,  3.00218582e-01, -6.10354662e-01,\n",
              "         -2.39520878e-01],\n",
              "        [ 2.48810083e-01, -4.68189120e-01,  2.16590595e-02,\n",
              "         -1.42567232e-01, -6.24858558e-01,  2.71956474e-01,\n",
              "         -2.86787331e-01,  2.59978533e-01,  1.19453236e-01,\n",
              "         -1.07431911e-01],\n",
              "        [-3.35947424e-01,  2.18421578e-01, -4.58501339e-01,\n",
              "         -9.18086395e-02, -4.52522665e-01,  3.69779646e-01,\n",
              "          3.82741630e-01, -5.63243926e-01,  3.82983506e-01,\n",
              "         -2.52515197e-01],\n",
              "        [-6.19401813e-01,  1.54479921e-01, -5.72371840e-01,\n",
              "          1.44173145e-01, -5.05273879e-01,  1.63142994e-01,\n",
              "         -7.38616064e-02, -7.07220435e-01,  1.74365088e-01,\n",
              "         -1.35039553e-01],\n",
              "        [-3.89530838e-01, -4.01583046e-01,  8.33141208e-02,\n",
              "          1.57194003e-01,  1.16811432e-01,  1.44072369e-01,\n",
              "         -1.17443526e+00,  1.27026811e-01,  5.96887842e-02,\n",
              "          1.28581002e-01],\n",
              "        [ 2.43018568e-01, -2.59011239e-01, -1.26102954e-01,\n",
              "          2.83813566e-01, -5.22743225e-01,  2.67313629e-01,\n",
              "          9.17237252e-02, -5.86196840e-01, -1.10501349e-01,\n",
              "          3.28365117e-02],\n",
              "        [ 2.21759364e-01,  1.37217179e-01,  2.44694442e-01,\n",
              "          2.26626724e-01, -2.73593456e-01,  2.04757378e-01,\n",
              "         -4.29668099e-01,  2.13862494e-01, -4.73132133e-01,\n",
              "         -3.36391866e-01],\n",
              "        [-2.28382379e-01,  3.25822383e-01,  9.89222750e-02,\n",
              "          1.94792747e-01, -4.09698963e-01, -9.85283256e-02,\n",
              "         -1.05363536e+00,  2.46816516e-01,  1.26140594e-01,\n",
              "          2.49343157e-01],\n",
              "        [ 3.67845088e-01,  3.23885292e-01, -7.94545338e-02,\n",
              "         -4.37707752e-01,  1.04604118e-01, -5.58085442e-01,\n",
              "          2.88332582e-01,  2.12968230e-01,  1.83205716e-02,\n",
              "          2.53358006e-01],\n",
              "        [ 2.48685211e-01, -4.60626967e-02,  1.26476169e-01,\n",
              "         -3.48429382e-01, -5.80725372e-01,  3.14570338e-01,\n",
              "          2.85656810e-01, -7.21429527e-01,  1.78419635e-01,\n",
              "         -1.67480946e-01],\n",
              "        [-2.82346547e-01,  3.37993145e-01,  2.28296250e-01,\n",
              "         -2.83271879e-01,  3.90764000e-03, -3.73116910e-01,\n",
              "         -2.34468162e-01,  1.70967400e-01, -4.07716304e-01,\n",
              "          2.09298715e-01],\n",
              "        [-6.18141890e-01,  3.84038925e-01, -6.04152739e-01,\n",
              "         -2.05724046e-01,  2.80551285e-01,  2.49411479e-01,\n",
              "          1.56450883e-01, -3.30611199e-01,  5.49411178e-02,\n",
              "         -3.74601245e-01],\n",
              "        [ 3.46674740e-01, -1.40719250e-01,  2.72081673e-01,\n",
              "         -3.31303686e-01,  1.81949183e-01, -2.34849393e-01,\n",
              "          3.15434784e-01, -4.28697109e-01, -2.20227502e-02,\n",
              "         -1.92542553e-01],\n",
              "        [-7.54936099e-01, -7.98706338e-02,  2.54391581e-01,\n",
              "          2.51046747e-01, -5.27363181e-01,  1.82758033e-01,\n",
              "         -4.96130019e-01, -1.06353693e-01,  2.66058207e-01,\n",
              "         -5.31660140e-01],\n",
              "        [ 3.33697587e-01, -6.36191428e-01, -3.50280136e-01,\n",
              "         -3.43261421e-01,  2.63052553e-01,  1.14595301e-01,\n",
              "          2.78216779e-01, -5.45158163e-02,  2.72214353e-01,\n",
              "          2.07936347e-01],\n",
              "        [-6.63496256e-01,  3.21681976e-01, -7.68599436e-02,\n",
              "         -2.88825203e-02, -7.53921717e-02, -4.84942198e-02,\n",
              "          1.38150200e-01,  2.64889598e-01, -2.47247994e-01,\n",
              "          2.52967358e-01],\n",
              "        [-5.18690228e-01,  3.12491536e-01,  3.16537261e-01,\n",
              "          2.99459159e-01, -1.78145990e-01,  3.26348871e-01,\n",
              "         -5.06688468e-02, -4.28753585e-01, -3.75564218e-01,\n",
              "         -3.83048058e-01],\n",
              "        [-3.57712120e-01,  1.23382010e-01, -4.80189204e-01,\n",
              "          1.93181023e-01,  2.65529990e-01, -3.59569401e-01,\n",
              "         -2.10192680e-01,  2.91333824e-01, -3.87935489e-01,\n",
              "          2.64934331e-01],\n",
              "        [ 4.91928369e-01,  3.50022376e-01, -2.29898244e-01,\n",
              "         -2.95862734e-01, -2.25567162e-01, -1.54727563e-01,\n",
              "         -1.53206065e-01, -3.46655577e-01,  5.37821531e-01,\n",
              "         -5.43521404e-01],\n",
              "        [ 3.77561867e-01,  3.37998807e-01, -2.91613489e-01,\n",
              "          1.06289022e-01, -3.20151120e-01,  1.68001220e-01,\n",
              "          1.90518051e-01, -1.10807844e-01, -4.99614388e-01,\n",
              "         -1.01832449e-01],\n",
              "        [-4.37464476e-01,  2.33761638e-01,  1.70766830e-01,\n",
              "          1.53843269e-01, -6.59826100e-01, -6.31967664e-01,\n",
              "         -4.07796293e-01, -1.29891774e-02,  1.88372105e-01,\n",
              "         -3.87521327e-01],\n",
              "        [-2.94739753e-01, -5.53852141e-01, -5.63723035e-02,\n",
              "         -1.31296635e-01,  3.08906674e-01, -6.27638519e-01,\n",
              "         -5.45479715e-01, -2.77517885e-01,  1.95219070e-01,\n",
              "          3.12317014e-01],\n",
              "        [-5.04867285e-02, -2.91290164e-01,  2.83334494e-01,\n",
              "          2.95721769e-01, -3.29333812e-01, -5.63241839e-01,\n",
              "          1.82276398e-01, -3.20236444e-01,  1.94699779e-01,\n",
              "          1.12004191e-01],\n",
              "        [-7.10390747e-01, -3.35537940e-01,  1.81940973e-01,\n",
              "          2.16115847e-01,  2.27418438e-01, -2.25682795e-01,\n",
              "         -8.92725229e-01,  1.85121223e-01,  1.64157823e-01,\n",
              "          1.37237966e-01],\n",
              "        [-4.46418226e-01, -2.72534460e-01, -7.30134472e-02,\n",
              "         -1.14804961e-01, -1.12001680e-01, -4.88246620e-01,\n",
              "         -6.30233958e-02,  4.93099123e-01, -7.11476803e-01,\n",
              "          1.22392498e-01],\n",
              "        [-4.07165259e-01, -4.38068360e-01, -3.49349566e-02,\n",
              "          2.47759566e-01, -5.20578027e-01, -4.64279279e-02,\n",
              "         -5.16857982e-01,  2.63551056e-01, -3.54616523e-01,\n",
              "          1.64633259e-01],\n",
              "        [ 2.34822944e-01,  1.98433459e-01,  1.91328973e-01,\n",
              "         -2.03483805e-01,  2.16548547e-01, -2.66858071e-01,\n",
              "          2.83035696e-01,  1.50311992e-01, -3.93517405e-01,\n",
              "         -5.30429244e-01],\n",
              "        [-3.33358705e-01, -1.97860256e-01, -4.45353866e-01,\n",
              "          1.17051058e-01, -6.46126121e-02,  8.70655775e-02,\n",
              "         -6.51101530e-01, -4.20689076e-01, -6.67425692e-01,\n",
              "          1.00409120e-01],\n",
              "        [-1.08007118e-01, -9.30484012e-03,  1.46427721e-01,\n",
              "          2.68265396e-01, -5.14671087e-01,  3.08885098e-01,\n",
              "          2.91526228e-01, -4.93298680e-01, -1.66032523e-01,\n",
              "         -1.62945375e-01],\n",
              "        [ 2.92579353e-01, -6.13367021e-01, -2.89458007e-01,\n",
              "         -5.37956119e-01,  1.51069820e-01, -5.18587887e-01,\n",
              "         -3.00437063e-01, -3.05422425e-01, -3.29933405e-01,\n",
              "          1.95286602e-01],\n",
              "        [ 1.81677550e-01, -1.54124036e-01, -3.95401061e-01,\n",
              "          3.21963310e-01,  1.75498631e-02,  3.15322727e-01,\n",
              "         -1.89068452e-01, -5.88209271e-01,  1.88877314e-01,\n",
              "          2.21867621e-01],\n",
              "        [-1.80297315e-01,  1.19650081e-01,  2.26160467e-01,\n",
              "         -5.41989543e-02,  1.19038761e-01,  6.90106228e-02,\n",
              "          2.19517365e-01,  5.55790812e-02,  1.56668574e-01,\n",
              "         -7.89839745e-01],\n",
              "        [-2.91561395e-01, -4.16742057e-01,  1.06907122e-01,\n",
              "         -1.77066863e-01,  1.89906016e-01, -1.29238546e-01,\n",
              "          3.06698501e-01, -6.30235851e-01,  3.89062434e-01,\n",
              "         -3.10645163e-01],\n",
              "        [ 2.13140696e-01, -3.76649380e-01,  2.33507648e-01,\n",
              "          2.20117226e-01, -6.72759652e-01,  1.88330501e-01,\n",
              "         -3.73615205e-01,  1.63010359e-01,  2.21512243e-01,\n",
              "          1.96167946e-01],\n",
              "        [-7.62738764e-01,  2.17838526e-01,  2.03787178e-01,\n",
              "         -3.91371131e-01, -1.03779197e-01, -1.34917304e-01,\n",
              "         -1.37680769e-01, -9.37030837e-02,  8.84361193e-02,\n",
              "         -2.55897522e-01],\n",
              "        [ 2.22794533e-01, -7.59475166e-03,  9.23613086e-02,\n",
              "          2.05099717e-01, -7.79300034e-01,  1.96412072e-01,\n",
              "         -1.77032709e-01,  2.84919679e-01, -1.29806429e-01,\n",
              "         -1.57050043e-01],\n",
              "        [-1.60884842e-01, -4.77977574e-01, -2.39479885e-01,\n",
              "         -1.79078162e-01,  3.12127084e-01,  1.62233382e-01,\n",
              "          2.14001551e-01, -3.84376734e-01, -6.47692800e-01,\n",
              "          3.22111160e-01],\n",
              "        [-1.69115528e-01, -5.69216490e-01,  1.55218855e-01,\n",
              "         -3.44575793e-01,  1.16286583e-01, -5.04467189e-01,\n",
              "          1.30775228e-01,  8.56222585e-04, -5.23928702e-01,\n",
              "         -8.30198303e-02],\n",
              "        [ 3.37604545e-02,  3.90878826e-01, -1.83500379e-01,\n",
              "         -5.98128080e-01,  3.83375466e-01, -7.23882556e-01,\n",
              "         -2.71236688e-01, -2.61083096e-02,  3.90751883e-02,\n",
              "         -1.57612801e-01],\n",
              "        [-1.84965044e-01, -4.07366842e-01,  2.52210498e-01,\n",
              "          1.59076393e-01,  8.67549777e-02, -5.42450607e-01,\n",
              "          1.17133491e-01,  2.80326486e-01,  2.78499216e-01,\n",
              "         -2.56058455e-01],\n",
              "        [ 2.61002272e-01,  1.30468294e-01,  1.84456944e-01,\n",
              "          4.87481765e-02, -1.30969942e-01, -3.27212401e-02,\n",
              "         -2.10660607e-01, -5.13978779e-01,  1.78062603e-01,\n",
              "         -7.19036639e-01],\n",
              "        [-3.97612751e-01,  1.68998912e-01, -3.70377094e-01,\n",
              "         -2.15923667e-01,  3.12516510e-01,  1.89118519e-01,\n",
              "         -7.74304032e-01,  2.53476858e-01,  1.80734903e-01,\n",
              "          3.04967225e-01],\n",
              "        [-4.30513263e-01, -1.63522869e-01, -4.64053184e-01,\n",
              "         -3.54425162e-01,  1.26988336e-01,  1.98753312e-01,\n",
              "          2.83400178e-01, -6.18190825e-01,  1.87900782e-01,\n",
              "          2.28476837e-01],\n",
              "        [-2.34617859e-01,  4.54946190e-01, -2.16125906e-01,\n",
              "         -3.59300375e-01, -1.92394868e-01, -3.04817736e-01,\n",
              "         -2.03355476e-01,  2.39418685e-01, -4.92230296e-01,\n",
              "         -2.18232200e-01],\n",
              "        [-6.10176921e-01,  3.21199626e-01,  3.29538465e-01,\n",
              "          3.12092185e-01, -1.53828502e-01, -2.80436218e-01,\n",
              "         -2.52774447e-01,  3.15761417e-01, -1.42863825e-01,\n",
              "         -4.20619667e-01],\n",
              "        [-3.98326702e-02,  2.34498397e-01,  1.96814999e-01,\n",
              "         -4.35893536e-01, -1.29693553e-01, -1.71391815e-01,\n",
              "          3.05273831e-01, -5.62031865e-01, -2.71099359e-01,\n",
              "         -5.96149027e-01],\n",
              "        [-7.06354737e-01,  2.12626070e-01, -3.22629899e-01,\n",
              "          1.29846737e-01,  2.62499511e-01,  8.59452561e-02,\n",
              "         -5.04840910e-01, -3.41744125e-01,  1.69979915e-01,\n",
              "          2.34549537e-01],\n",
              "        [-3.73203680e-02, -3.38620156e-01,  1.31990641e-01,\n",
              "          3.69409382e-01, -4.41736221e-01, -2.11386696e-01,\n",
              "         -4.41967130e-01, -3.94744277e-01,  2.66410083e-01,\n",
              "          5.71791172e-01],\n",
              "        [ 3.21985960e-01, -3.88834804e-01,  2.22304970e-01,\n",
              "          5.81140034e-02, -7.89049983e-01,  2.88478404e-01,\n",
              "          7.81299770e-02, -5.65009154e-02,  2.18773335e-01,\n",
              "          2.75320321e-01],\n",
              "        [-1.74458042e-01,  3.00745666e-01, -2.23096013e-01,\n",
              "         -5.92278779e-01, -3.84928256e-01, -3.06383461e-01,\n",
              "          3.98694366e-01, -3.41365963e-01,  3.32289696e-01,\n",
              "         -5.94689429e-01],\n",
              "        [ 2.21354634e-01, -5.37758470e-01, -1.08935222e-01,\n",
              "          1.58964157e-01, -4.89906132e-01,  2.34447479e-01,\n",
              "          2.15971291e-01,  1.70591578e-01,  1.98680148e-01,\n",
              "          2.13018775e-01],\n",
              "        [-2.10533693e-01,  6.92218095e-02, -5.47326088e-01,\n",
              "         -3.75608861e-01,  2.41545439e-01,  1.20946221e-01,\n",
              "         -3.68461102e-01,  2.64347315e-01,  1.18238725e-01,\n",
              "         -2.96077818e-01],\n",
              "        [ 3.96985471e-01,  2.04830453e-01,  1.84980586e-01,\n",
              "          1.27214238e-01, -2.39178732e-01, -2.06367865e-01,\n",
              "          4.11776334e-01, -5.10145187e-01,  3.54630351e-01,\n",
              "         -4.33363140e-01],\n",
              "        [ 2.14564234e-01, -5.44683039e-01, -2.23693147e-01,\n",
              "         -5.36010385e-01,  2.16829106e-01,  1.95651546e-01,\n",
              "          1.91547185e-01,  1.59389243e-01,  1.91369563e-01,\n",
              "          1.82003602e-01],\n",
              "        [-4.60246623e-01, -3.95643532e-01,  2.24565789e-01,\n",
              "         -2.55579501e-01,  2.78697550e-01, -2.72875637e-01,\n",
              "          1.56924307e-01,  2.13988926e-02, -7.84681141e-01,\n",
              "          2.44164512e-01],\n",
              "        [-1.98346630e-01, -4.10045207e-01, -1.72611266e-01,\n",
              "         -1.06339693e-01,  2.79081106e-01,  2.99624264e-01,\n",
              "          2.71323413e-01, -5.82203388e-01, -1.94191530e-01,\n",
              "         -3.50865006e-01]], dtype=float32)>,\n",
              " <tf.Variable 'dense_layer_3/bias:0' shape=(10,) dtype=float32, numpy=\n",
              " array([ 0.20298192,  0.05080935, -0.3804976 , -0.18938255,  0.04993635,\n",
              "        -0.18519214,  0.03855376, -0.09645085,  0.2954056 ,  0.21973816],\n",
              "       dtype=float32)>]"
            ]
          },
          "metadata": {},
          "execution_count": 39
        }
      ]
    },
    {
      "cell_type": "code",
      "metadata": {
        "outputId": "519a418c-e09b-457f-cd02-53cf7b497afc",
        "id": "OK9ct5w-j0jm",
        "colab": {
          "base_uri": "https://localhost:8080/"
        }
      },
      "source": [
        "model_3.get_config()"
      ],
      "execution_count": 40,
      "outputs": [
        {
          "output_type": "execute_result",
          "data": {
            "text/plain": [
              "{'layers': [{'class_name': 'InputLayer',\n",
              "   'config': {'batch_input_shape': (None, 784),\n",
              "    'dtype': 'float32',\n",
              "    'name': 'dense_layer_input',\n",
              "    'ragged': False,\n",
              "    'sparse': False}},\n",
              "  {'class_name': 'Dense',\n",
              "   'config': {'activation': 'relu',\n",
              "    'activity_regularizer': None,\n",
              "    'batch_input_shape': (None, 784),\n",
              "    'bias_constraint': None,\n",
              "    'bias_initializer': {'class_name': 'Zeros', 'config': {}},\n",
              "    'bias_regularizer': None,\n",
              "    'dtype': 'float32',\n",
              "    'kernel_constraint': None,\n",
              "    'kernel_initializer': {'class_name': 'GlorotUniform',\n",
              "     'config': {'seed': None}},\n",
              "    'kernel_regularizer': None,\n",
              "    'name': 'dense_layer',\n",
              "    'trainable': True,\n",
              "    'units': 64,\n",
              "    'use_bias': True}},\n",
              "  {'class_name': 'Dropout',\n",
              "   'config': {'dtype': 'float32',\n",
              "    'name': 'dropout_2',\n",
              "    'noise_shape': None,\n",
              "    'rate': 0.3,\n",
              "    'seed': None,\n",
              "    'trainable': True}},\n",
              "  {'class_name': 'Dense',\n",
              "   'config': {'activation': 'relu',\n",
              "    'activity_regularizer': None,\n",
              "    'bias_constraint': None,\n",
              "    'bias_initializer': {'class_name': 'Zeros', 'config': {}},\n",
              "    'bias_regularizer': None,\n",
              "    'dtype': 'float32',\n",
              "    'kernel_constraint': None,\n",
              "    'kernel_initializer': {'class_name': 'GlorotUniform',\n",
              "     'config': {'seed': None}},\n",
              "    'kernel_regularizer': None,\n",
              "    'name': 'dense_layer_2',\n",
              "    'trainable': True,\n",
              "    'units': 64,\n",
              "    'use_bias': True}},\n",
              "  {'class_name': 'Dropout',\n",
              "   'config': {'dtype': 'float32',\n",
              "    'name': 'dropout_3',\n",
              "    'noise_shape': None,\n",
              "    'rate': 0.3,\n",
              "    'seed': None,\n",
              "    'trainable': True}},\n",
              "  {'class_name': 'Dense',\n",
              "   'config': {'activation': 'softmax',\n",
              "    'activity_regularizer': None,\n",
              "    'bias_constraint': None,\n",
              "    'bias_initializer': {'class_name': 'Zeros', 'config': {}},\n",
              "    'bias_regularizer': None,\n",
              "    'dtype': 'float32',\n",
              "    'kernel_constraint': None,\n",
              "    'kernel_initializer': {'class_name': 'GlorotUniform',\n",
              "     'config': {'seed': None}},\n",
              "    'kernel_regularizer': None,\n",
              "    'name': 'dense_layer_3',\n",
              "    'trainable': True,\n",
              "    'units': 10,\n",
              "    'use_bias': True}}],\n",
              " 'name': 'sequential_3'}"
            ]
          },
          "metadata": {},
          "execution_count": 40
        }
      ]
    },
    {
      "cell_type": "markdown",
      "metadata": {
        "id": "mBnxm6kkzUYm"
      },
      "source": [
        "###Improved Model 4: Increasing the number of Hidden Layer neuron "
      ]
    },
    {
      "cell_type": "code",
      "metadata": {
        "id": "1tV9x2SNzUYq"
      },
      "source": [
        "#Most common type of model is a stack of layers\n",
        "model_4 = tf.keras.Sequential()\n",
        "N_hidden = 512\n",
        "# Adds a densely-connected layer with 64 units to the model:\n",
        "model_4.add(Dense(N_hidden, name='dense_layer', input_shape=(784,), activation = 'relu'))\n",
        "# Now the model will take as input arrays of shape (*, 784)# and output arrays of shape (*, 64)\n",
        "model_4.add(Dropout(0.3))\n",
        "# Adding another dense layer:\n",
        "model_4.add(Dense(N_hidden, name='dense_layer_2', activation='relu'))\n",
        "model_4.add(Dropout(0.3))\n",
        "# After the first layer, you don't need to specify\u000b# the size of the input anymore:\n",
        "# Add an output layer with 10 output units (10 different classes):\n",
        "model_4.add(Dense(10, name='dense_layer_3', activation = 'softmax'))\n"
      ],
      "execution_count": 41,
      "outputs": []
    },
    {
      "cell_type": "code",
      "metadata": {
        "id": "ODypsK52zUY3"
      },
      "source": [
        "# Compiling the model.\n",
        "model_4.compile(optimizer='Adam', \n",
        "              loss='categorical_crossentropy',\n",
        "              metrics=['accuracy'])"
      ],
      "execution_count": 42,
      "outputs": []
    },
    {
      "cell_type": "code",
      "metadata": {
        "outputId": "2f1248c3-689e-474c-efd0-f17942dea02e",
        "id": "wcbJiQdpzUY_",
        "colab": {
          "base_uri": "https://localhost:8080/"
        }
      },
      "source": [
        "# Training the model. \n",
        "training = model_4.fit(X_train, Y_train, batch_size=128, epochs=31, validation_split=0.2) \n"
      ],
      "execution_count": 43,
      "outputs": [
        {
          "output_type": "stream",
          "name": "stdout",
          "text": [
            "Epoch 1/31\n",
            "375/375 [==============================] - 2s 4ms/step - loss: 0.3064 - accuracy: 0.9069 - val_loss: 0.1263 - val_accuracy: 0.9609\n",
            "Epoch 2/31\n",
            "375/375 [==============================] - 1s 4ms/step - loss: 0.1281 - accuracy: 0.9603 - val_loss: 0.0953 - val_accuracy: 0.9714\n",
            "Epoch 3/31\n",
            "375/375 [==============================] - 1s 3ms/step - loss: 0.0921 - accuracy: 0.9710 - val_loss: 0.0835 - val_accuracy: 0.9749\n",
            "Epoch 4/31\n",
            "375/375 [==============================] - 1s 4ms/step - loss: 0.0731 - accuracy: 0.9779 - val_loss: 0.0844 - val_accuracy: 0.9748\n",
            "Epoch 5/31\n",
            "375/375 [==============================] - 1s 3ms/step - loss: 0.0602 - accuracy: 0.9801 - val_loss: 0.0799 - val_accuracy: 0.9764\n",
            "Epoch 6/31\n",
            "375/375 [==============================] - 1s 4ms/step - loss: 0.0510 - accuracy: 0.9837 - val_loss: 0.0780 - val_accuracy: 0.9786\n",
            "Epoch 7/31\n",
            "375/375 [==============================] - 1s 3ms/step - loss: 0.0468 - accuracy: 0.9848 - val_loss: 0.0806 - val_accuracy: 0.9783\n",
            "Epoch 8/31\n",
            "375/375 [==============================] - 1s 4ms/step - loss: 0.0432 - accuracy: 0.9858 - val_loss: 0.0763 - val_accuracy: 0.9797\n",
            "Epoch 9/31\n",
            "375/375 [==============================] - 1s 3ms/step - loss: 0.0358 - accuracy: 0.9883 - val_loss: 0.0790 - val_accuracy: 0.9803\n",
            "Epoch 10/31\n",
            "375/375 [==============================] - 1s 3ms/step - loss: 0.0348 - accuracy: 0.9884 - val_loss: 0.0830 - val_accuracy: 0.9778\n",
            "Epoch 11/31\n",
            "375/375 [==============================] - 1s 4ms/step - loss: 0.0319 - accuracy: 0.9893 - val_loss: 0.0787 - val_accuracy: 0.9808\n",
            "Epoch 12/31\n",
            "375/375 [==============================] - 1s 3ms/step - loss: 0.0318 - accuracy: 0.9891 - val_loss: 0.0823 - val_accuracy: 0.9790\n",
            "Epoch 13/31\n",
            "375/375 [==============================] - 1s 3ms/step - loss: 0.0273 - accuracy: 0.9910 - val_loss: 0.0851 - val_accuracy: 0.9792\n",
            "Epoch 14/31\n",
            "375/375 [==============================] - 1s 4ms/step - loss: 0.0285 - accuracy: 0.9908 - val_loss: 0.0869 - val_accuracy: 0.9797\n",
            "Epoch 15/31\n",
            "375/375 [==============================] - 1s 4ms/step - loss: 0.0257 - accuracy: 0.9914 - val_loss: 0.0891 - val_accuracy: 0.9788\n",
            "Epoch 16/31\n",
            "375/375 [==============================] - 2s 4ms/step - loss: 0.0245 - accuracy: 0.9919 - val_loss: 0.0877 - val_accuracy: 0.9797\n",
            "Epoch 17/31\n",
            "375/375 [==============================] - 1s 4ms/step - loss: 0.0241 - accuracy: 0.9919 - val_loss: 0.0868 - val_accuracy: 0.9812\n",
            "Epoch 18/31\n",
            "375/375 [==============================] - 1s 4ms/step - loss: 0.0231 - accuracy: 0.9922 - val_loss: 0.0870 - val_accuracy: 0.9815\n",
            "Epoch 19/31\n",
            "375/375 [==============================] - 1s 3ms/step - loss: 0.0231 - accuracy: 0.9925 - val_loss: 0.0798 - val_accuracy: 0.9818\n",
            "Epoch 20/31\n",
            "375/375 [==============================] - 1s 3ms/step - loss: 0.0190 - accuracy: 0.9935 - val_loss: 0.0883 - val_accuracy: 0.9797\n",
            "Epoch 21/31\n",
            "375/375 [==============================] - 1s 3ms/step - loss: 0.0198 - accuracy: 0.9935 - val_loss: 0.0956 - val_accuracy: 0.9791\n",
            "Epoch 22/31\n",
            "375/375 [==============================] - 1s 4ms/step - loss: 0.0220 - accuracy: 0.9924 - val_loss: 0.0850 - val_accuracy: 0.9818\n",
            "Epoch 23/31\n",
            "375/375 [==============================] - 1s 3ms/step - loss: 0.0176 - accuracy: 0.9942 - val_loss: 0.0958 - val_accuracy: 0.9806\n",
            "Epoch 24/31\n",
            "375/375 [==============================] - 1s 3ms/step - loss: 0.0186 - accuracy: 0.9936 - val_loss: 0.0928 - val_accuracy: 0.9805\n",
            "Epoch 25/31\n",
            "375/375 [==============================] - 1s 3ms/step - loss: 0.0197 - accuracy: 0.9938 - val_loss: 0.0888 - val_accuracy: 0.9822\n",
            "Epoch 26/31\n",
            "375/375 [==============================] - 1s 4ms/step - loss: 0.0198 - accuracy: 0.9935 - val_loss: 0.0980 - val_accuracy: 0.9800\n",
            "Epoch 27/31\n",
            "375/375 [==============================] - 1s 3ms/step - loss: 0.0192 - accuracy: 0.9937 - val_loss: 0.0899 - val_accuracy: 0.9822\n",
            "Epoch 28/31\n",
            "375/375 [==============================] - 1s 4ms/step - loss: 0.0160 - accuracy: 0.9945 - val_loss: 0.0988 - val_accuracy: 0.9824\n",
            "Epoch 29/31\n",
            "375/375 [==============================] - 1s 3ms/step - loss: 0.0184 - accuracy: 0.9941 - val_loss: 0.0926 - val_accuracy: 0.9831\n",
            "Epoch 30/31\n",
            "375/375 [==============================] - 1s 3ms/step - loss: 0.0137 - accuracy: 0.9956 - val_loss: 0.0947 - val_accuracy: 0.9827\n",
            "Epoch 31/31\n",
            "375/375 [==============================] - 1s 3ms/step - loss: 0.0156 - accuracy: 0.9949 - val_loss: 0.0928 - val_accuracy: 0.9825\n"
          ]
        }
      ]
    },
    {
      "cell_type": "code",
      "metadata": {
        "outputId": "d1ba6991-5556-4e26-d961-1e9fbbb79519",
        "id": "wIywzScFzUZJ",
        "colab": {
          "base_uri": "https://localhost:8080/"
        }
      },
      "source": [
        "#evaluate the model_4\n",
        "test_loss, test_acc = model_4.evaluate(X_test, Y_test)\n",
        "print('Test accuracy:', test_acc)"
      ],
      "execution_count": 44,
      "outputs": [
        {
          "output_type": "stream",
          "name": "stdout",
          "text": [
            "313/313 [==============================] - 1s 2ms/step - loss: 0.0992 - accuracy: 0.9814\n",
            "Test accuracy: 0.9814000129699707\n"
          ]
        }
      ]
    },
    {
      "cell_type": "code",
      "metadata": {
        "id": "L3tLcpsc3tKz",
        "outputId": "71db0c6a-75c9-47fa-bf02-b36b6d642369",
        "colab": {
          "base_uri": "https://localhost:8080/",
          "height": 590
        }
      },
      "source": [
        "import matplotlib.pyplot as plt\n",
        "%matplotlib inline\n",
        "# list all data in training\n",
        "print(training.history.keys())\n",
        "# summarize training for accuracy\n",
        "plt.plot(training.history['accuracy'])\n",
        "plt.plot(training.history['val_accuracy'])\n",
        "plt.title('model accuracy')\n",
        "plt.ylabel('accuracy')\n",
        "plt.xlabel('epoch')\n",
        "plt.legend(['train', 'test'], loc='upper left')\n",
        "plt.show()\n",
        "# summarize traning for loss\n",
        "plt.plot(training.history['loss'])\n",
        "plt.plot(training.history['val_loss'])\n",
        "plt.title('model loss')\n",
        "plt.ylabel('loss')\n",
        "plt.xlabel('epoch')\n",
        "plt.legend(['train', 'test'], loc='upper left')\n",
        "plt.show()"
      ],
      "execution_count": 45,
      "outputs": [
        {
          "output_type": "stream",
          "name": "stdout",
          "text": [
            "dict_keys(['loss', 'accuracy', 'val_loss', 'val_accuracy'])\n"
          ]
        },
        {
          "output_type": "display_data",
          "data": {
            "text/plain": [
              "<Figure size 432x288 with 1 Axes>"
            ],
            "image/png": "[encoded data removed]"
          },
          "metadata": {
            "needs_background": "light"
          }
        },
        {
          "output_type": "display_data",
          "data": {
            "text/plain": [
              "<Figure size 432x288 with 1 Axes>"
            ],
            "image/png": "[encoded data removed]"
          },
          "metadata": {
            "needs_background": "light"
          }
        }
      ]
    },
    {
      "cell_type": "code",
      "metadata": {
        "outputId": "c3969139-74d3-415d-826d-0d191c76572d",
        "id": "FmDi5zHOkQTK",
        "colab": {
          "base_uri": "https://localhost:8080/"
        }
      },
      "source": [
        "model_4.summary()"
      ],
      "execution_count": 46,
      "outputs": [
        {
          "output_type": "stream",
          "name": "stdout",
          "text": [
            "Model: \"sequential_4\"\n",
            "_________________________________________________________________\n",
            " Layer (type)                Output Shape              Param #   \n",
            "=================================================================\n",
            " dense_layer (Dense)         (None, 512)               401920    \n",
            "                                                                 \n",
            " dropout_4 (Dropout)         (None, 512)               0         \n",
            "                                                                 \n",
            " dense_layer_2 (Dense)       (None, 512)               262656    \n",
            "                                                                 \n",
            " dropout_5 (Dropout)         (None, 512)               0         \n",
            "                                                                 \n",
            " dense_layer_3 (Dense)       (None, 10)                5130      \n",
            "                                                                 \n",
            "=================================================================\n",
            "Total params: 669,706\n",
            "Trainable params: 669,706\n",
            "Non-trainable params: 0\n",
            "_________________________________________________________________\n"
          ]
        }
      ]
    },
    {
      "cell_type": "code",
      "metadata": {
        "outputId": "39dabda0-1f89-4948-bf86-b95113c89602",
        "id": "ogODS59VkQTO",
        "colab": {
          "base_uri": "https://localhost:8080/"
        }
      },
      "source": [
        "model_4.weights"
      ],
      "execution_count": 47,
      "outputs": [
        {
          "output_type": "execute_result",
          "data": {
            "text/plain": [
              "[<tf.Variable 'dense_layer/kernel:0' shape=(784, 512) dtype=float32, numpy=\n",
              " array([[ 0.02269088, -0.03680216,  0.00178924, ..., -0.05126089,\n",
              "          0.01291281,  0.06546023],\n",
              "        [ 0.02258228, -0.0414249 ,  0.02965572, ..., -0.00489943,\n",
              "          0.05229259,  0.05720194],\n",
              "        [ 0.03303387,  0.05040899,  0.02110451, ...,  0.01792431,\n",
              "         -0.00935897, -0.00768439],\n",
              "        ...,\n",
              "        [ 0.04284172, -0.01765893,  0.01390828, ...,  0.04873253,\n",
              "         -0.05337393,  0.03448269],\n",
              "        [ 0.02005247,  0.02045907,  0.05216556, ...,  0.04378284,\n",
              "         -0.01440077,  0.0258687 ],\n",
              "        [-0.05358176,  0.05727485,  0.05082672, ..., -0.00732849,\n",
              "          0.00561627,  0.01390379]], dtype=float32)>,\n",
              " <tf.Variable 'dense_layer/bias:0' shape=(512,) dtype=float32, numpy=\n",
              " array([-2.17996359e-01,  4.16459106e-02, -3.02310847e-02, -1.56562343e-01,\n",
              "        -2.80673858e-02, -1.78172085e-02, -7.09844902e-02,  1.88166704e-02,\n",
              "         1.22457147e-02, -9.21013020e-03, -8.10533389e-02, -8.59190300e-02,\n",
              "         3.29932272e-02, -5.45283742e-02,  2.66008396e-02,  1.99285755e-03,\n",
              "         4.19094302e-02,  3.96417491e-02, -2.77088881e-02, -8.83942917e-02,\n",
              "         9.11617428e-02,  6.71720738e-03,  1.04212202e-02, -2.83138976e-02,\n",
              "        -2.80481596e-02,  1.72682584e-03,  1.23488821e-01, -8.24677050e-02,\n",
              "        -8.98731872e-02,  6.59745783e-02, -3.19682248e-02, -1.75589661e-03,\n",
              "        -1.30331973e-02, -6.66314960e-02, -2.51832437e-02, -2.82899775e-02,\n",
              "        -6.16080575e-02, -2.02533882e-02, -1.99219659e-01,  4.72752266e-02,\n",
              "        -4.15969938e-02, -9.91107710e-03, -8.43806788e-02,  5.97966351e-02,\n",
              "         4.99814749e-02, -1.12301566e-01, -7.09255189e-02, -1.44102452e-02,\n",
              "         3.82041745e-03,  3.60086001e-02,  7.70216901e-03, -1.05895557e-01,\n",
              "        -4.13776711e-02, -3.63151915e-03,  1.26394443e-02,  6.00873446e-03,\n",
              "        -8.67766589e-02, -3.30644101e-02, -1.10791728e-01,  6.58048764e-02,\n",
              "        -1.95469275e-01,  3.40217352e-02, -5.50834648e-03,  2.64869574e-02,\n",
              "        -3.86058316e-02,  1.69041846e-02, -1.64020523e-01,  5.60777038e-02,\n",
              "        -3.17450128e-02,  8.48615095e-02, -6.29466921e-02, -4.40478921e-02,\n",
              "        -1.06561333e-01, -8.32220092e-02, -1.21976240e-02, -2.78204847e-02,\n",
              "        -7.71112517e-02, -1.05138198e-02, -1.02081873e-01, -4.47390974e-02,\n",
              "        -1.55286521e-01,  7.30829760e-02,  8.50002170e-02,  3.64164065e-04,\n",
              "        -5.99362738e-02, -6.88354149e-02, -1.34914503e-01, -4.86476719e-02,\n",
              "        -1.55875264e-02, -4.27002050e-02, -4.02519479e-02, -4.85456921e-03,\n",
              "        -1.05489818e-02, -1.48207977e-01,  5.07936180e-02, -4.99745160e-02,\n",
              "         5.51577099e-02,  7.48555921e-03, -1.04169615e-01, -2.38101296e-02,\n",
              "        -1.90835223e-02, -2.65442599e-02, -4.64345589e-02,  6.06015548e-02,\n",
              "        -3.22619081e-02, -4.27560806e-02,  4.13039289e-02,  1.90432332e-02,\n",
              "        -1.28760874e-01, -1.51568428e-02, -5.97005934e-02,  2.35883631e-02,\n",
              "        -2.17579994e-02, -8.95495936e-02, -1.05528189e-02, -7.35890940e-02,\n",
              "         1.44399377e-02,  7.63633400e-02, -5.91729097e-02,  4.89761084e-02,\n",
              "        -1.12624712e-01,  3.74955349e-02,  5.34924865e-03,  2.75465585e-02,\n",
              "        -7.67784268e-02, -1.35513358e-02, -6.03890233e-02, -3.08568865e-01,\n",
              "        -1.79981459e-02, -8.56073946e-02, -1.35737777e-01, -1.06503852e-01,\n",
              "        -3.40057053e-02,  2.25635208e-02, -5.02144583e-02, -1.17063254e-01,\n",
              "        -7.25895315e-02,  4.52347696e-02,  1.59460921e-02, -3.31960618e-02,\n",
              "        -9.70580727e-02, -7.59544894e-02,  6.13040617e-03, -8.80565643e-02,\n",
              "        -6.68759048e-02, -1.51300371e-01, -5.10773063e-02, -6.04539290e-02,\n",
              "         3.44067812e-02,  5.09412438e-02, -7.68098533e-02,  1.02743648e-01,\n",
              "         9.23261568e-02, -9.63894874e-02, -7.71034509e-02, -2.74661519e-02,\n",
              "        -3.98237035e-02, -7.15537444e-02,  6.88437521e-02,  6.06895126e-02,\n",
              "        -3.05185150e-02, -5.06688505e-02,  6.45542368e-02,  6.46702349e-02,\n",
              "         5.36848791e-02, -1.28262162e-01, -4.05804180e-02, -5.03286310e-02,\n",
              "        -6.39030561e-02, -5.19750081e-02, -9.37629938e-02, -1.62273217e-02,\n",
              "        -1.67743824e-02, -1.14633530e-01, -1.93223897e-02,  6.22054376e-03,\n",
              "         6.81879893e-02, -1.43780783e-01, -3.02844495e-02, -4.05175462e-02,\n",
              "        -1.17784820e-01, -1.91773567e-02,  1.32803954e-02, -6.38370141e-02,\n",
              "        -1.42308958e-02, -2.58117374e-02,  4.70677651e-02, -4.58105132e-02,\n",
              "        -5.21255024e-02,  3.18399407e-02, -1.13473155e-01, -1.24484658e-01,\n",
              "        -2.52843518e-02, -8.05666018e-03,  9.36365053e-02, -1.53622571e-02,\n",
              "        -8.52622911e-02,  2.77701840e-02, -5.72808348e-02, -6.47027269e-02,\n",
              "        -8.04566666e-02,  2.56229360e-02, -8.23537856e-02, -1.41904548e-01,\n",
              "        -1.39384598e-01, -7.61368647e-02, -8.39194730e-02, -1.42547050e-02,\n",
              "         4.50177491e-03,  1.14682387e-03, -2.23707035e-02, -6.43505156e-02,\n",
              "        -1.21290945e-02,  9.12551023e-03, -4.13591824e-02, -5.05880676e-02,\n",
              "        -4.18949574e-02, -4.86083813e-02,  7.35743046e-02,  3.69502641e-02,\n",
              "         5.27863912e-02, -1.43741116e-01,  6.76730871e-02, -3.69158648e-02,\n",
              "        -4.01121527e-02, -1.63879305e-01,  2.70388671e-03, -4.74905744e-02,\n",
              "        -1.33855850e-01, -9.95726734e-02,  2.01445742e-04, -1.65552020e-01,\n",
              "        -1.37263149e-01,  1.11368559e-01, -4.90768552e-02, -4.55608740e-02,\n",
              "        -8.95385910e-03,  6.02292828e-02,  1.82095692e-02, -3.74198966e-02,\n",
              "         4.63543385e-02,  1.32197076e-02, -6.14129864e-02, -4.87840101e-02,\n",
              "         8.54654387e-02, -5.52946068e-02,  3.74338366e-02, -8.23354945e-02,\n",
              "        -6.62391484e-02, -7.58452043e-02,  1.06743693e-01, -4.34768312e-02,\n",
              "        -4.10837447e-03, -3.41133662e-02, -1.27374157e-02,  2.30651051e-02,\n",
              "        -2.18401514e-02, -6.04481669e-04, -1.30799979e-01, -2.85383612e-02,\n",
              "         1.03947252e-01,  3.05906553e-02, -3.84132713e-02, -3.56193259e-02,\n",
              "        -6.75113723e-02, -3.45345736e-02, -1.18224844e-01, -3.81075032e-02,\n",
              "        -2.90245321e-02, -4.48782593e-02, -5.10938875e-02, -1.17600545e-01,\n",
              "        -4.09042723e-02, -1.36234881e-02, -4.39401567e-02, -4.00200337e-02,\n",
              "        -2.38792952e-02, -1.62193738e-02, -9.06321630e-02,  3.65392007e-02,\n",
              "        -3.95351946e-02, -7.01240301e-02, -5.38809001e-02, -2.81636119e-02,\n",
              "         1.56272762e-02,  6.58925176e-02, -5.44930436e-02, -4.24992554e-02,\n",
              "        -7.80953988e-02,  1.93139557e-02, -7.71819707e-03, -1.13960057e-01,\n",
              "        -8.76484141e-02, -4.93406765e-02, -5.92192486e-02,  7.22014830e-02,\n",
              "         2.06129812e-02, -1.12022340e-01, -8.76256675e-02, -4.40410599e-02,\n",
              "         3.06314453e-02, -1.07437007e-01,  3.15191634e-02, -5.91696566e-03,\n",
              "         4.74470854e-02, -8.26172084e-02,  1.96989197e-02, -8.88780057e-02,\n",
              "         1.60190817e-02, -1.10135484e-03, -9.05592889e-02, -8.02471340e-02,\n",
              "        -1.43710688e-01, -6.72022924e-02,  1.99133065e-02, -6.61257282e-02,\n",
              "         4.18083742e-02, -7.44984671e-02, -1.09660521e-01, -3.96712683e-02,\n",
              "         7.61186332e-02, -1.14290774e-01,  8.32621660e-03, -2.03230921e-02,\n",
              "        -6.83861226e-02, -4.91535664e-02,  1.84293929e-02,  4.40447479e-02,\n",
              "        -6.13410436e-02,  6.33346215e-02, -7.53888711e-02, -1.20517360e-02,\n",
              "         1.62680371e-04,  3.26399766e-02,  7.39219785e-03, -1.03032596e-01,\n",
              "        -4.80081793e-03,  1.69462916e-02, -2.00470053e-02, -2.61322055e-02,\n",
              "         1.06989861e-01,  6.98914006e-02, -7.33894333e-02,  1.01098165e-01,\n",
              "         9.35805216e-03, -2.76263915e-02, -6.56955391e-02, -3.93741205e-02,\n",
              "        -7.22569004e-02, -6.66167447e-03, -9.75297838e-02, -4.95500751e-02,\n",
              "        -4.57042195e-02, -2.19099987e-02, -1.20815828e-01,  5.19818999e-02,\n",
              "        -6.67969510e-02,  9.12987217e-02, -1.76886305e-01,  4.23616655e-02,\n",
              "         5.61234616e-02, -7.93339387e-02, -3.53252292e-02, -3.72243188e-02,\n",
              "        -6.96453359e-03,  4.22263816e-02, -6.31583063e-03, -2.04654839e-02,\n",
              "         4.59882915e-02, -1.04280122e-01,  3.57133001e-02, -2.80395038e-02,\n",
              "        -4.86590452e-02, -2.75602844e-02, -1.86121427e-02, -9.84457433e-02,\n",
              "         3.35978866e-02, -4.27757017e-02,  3.06833610e-02,  2.28682104e-02,\n",
              "        -2.12521460e-02, -7.87342563e-02, -2.31930986e-02, -8.95496309e-02,\n",
              "        -1.35581776e-01, -8.27208981e-02, -5.44850044e-02, -2.40960885e-02,\n",
              "        -3.13678873e-03, -2.18161568e-03, -6.44894317e-02, -1.40855042e-02,\n",
              "        -2.28177942e-02, -8.21130071e-03, -1.12037621e-02, -9.72036272e-02,\n",
              "        -7.04326294e-03, -9.33451653e-02, -3.12718078e-02, -1.81638803e-02,\n",
              "        -2.05940515e-01,  1.09377913e-02, -1.11189798e-01, -4.14911434e-02,\n",
              "        -8.98928195e-02, -7.68407993e-03,  1.61582176e-02,  8.02212209e-02,\n",
              "        -5.10435291e-02, -4.64594737e-02, -1.07861333e-01, -2.91467011e-02,\n",
              "         3.69400419e-02, -3.55013385e-02, -6.78398367e-03, -1.40696600e-01,\n",
              "         5.56283556e-02, -5.13243675e-02,  3.22832018e-02, -8.95493254e-02,\n",
              "        -7.33432472e-02, -1.37247488e-01,  8.22440609e-02, -4.97711357e-03,\n",
              "        -8.01371709e-02, -8.91831741e-02,  6.86851144e-02, -5.00463806e-02,\n",
              "        -1.67677067e-02, -3.35264616e-02, -7.82577321e-02,  4.84414473e-02,\n",
              "        -9.06567499e-02, -4.93013933e-02,  4.85631227e-02,  1.30701317e-02,\n",
              "         1.46629801e-02, -9.70280822e-03,  8.50858074e-03,  6.05189614e-02,\n",
              "         7.60928541e-03,  2.52100211e-02, -6.10556789e-02,  4.77517918e-02,\n",
              "        -7.33734062e-03, -9.89789069e-02, -1.52737489e-02,  6.61010891e-02,\n",
              "        -1.01099022e-01,  3.35666351e-02, -3.32509689e-02, -3.52204256e-02,\n",
              "         7.09782392e-02, -3.70364338e-02,  1.67675111e-02, -1.75735638e-01,\n",
              "        -3.75923216e-02, -6.32749125e-02, -1.58921689e-01, -1.13642193e-01,\n",
              "        -7.81570747e-02, -1.40017062e-01, -8.08606818e-02, -1.50290802e-01,\n",
              "         3.57661322e-02,  1.83479432e-02, -1.11787155e-01,  4.50635143e-02,\n",
              "        -1.27128556e-01,  6.27144054e-02,  1.22144818e-02,  2.20344849e-02,\n",
              "        -6.88949451e-02, -5.02459845e-03, -7.48100430e-02, -1.46093983e-02,\n",
              "         4.58510667e-02,  5.75015210e-02, -1.67831108e-02,  4.17293049e-02,\n",
              "        -7.32075423e-02,  3.77652124e-02, -6.48483410e-02,  6.93800077e-02,\n",
              "         2.31991298e-02, -8.48287567e-02, -1.69673637e-01, -1.60361622e-02,\n",
              "        -4.21829000e-02, -9.82326865e-02, -3.63114011e-03,  8.82733986e-02,\n",
              "        -8.22404847e-02,  2.47216485e-02, -1.42503142e-01,  1.61247458e-02,\n",
              "        -8.25893953e-02, -1.89973004e-02,  1.76817849e-01,  2.05601566e-02,\n",
              "        -6.04401017e-03, -1.19018689e-01,  1.17493458e-02, -8.55058059e-02,\n",
              "         2.13227794e-02, -1.07656829e-01,  3.37908715e-02, -7.70671591e-02,\n",
              "        -9.32619423e-02, -2.97140218e-02, -1.32650286e-01,  2.60103203e-04],\n",
              "       dtype=float32)>,\n",
              " <tf.Variable 'dense_layer_2/kernel:0' shape=(512, 512) dtype=float32, numpy=\n",
              " array([[ 0.05196159,  0.03611445, -0.05470113, ...,  0.07834621,\n",
              "         -0.11556966,  0.22301662],\n",
              "        [-0.22884676,  0.14763235, -0.08824152, ..., -0.1245797 ,\n",
              "          0.00873363, -0.09376884],\n",
              "        [-0.02900548,  0.01051059, -0.03765604, ...,  0.04535746,\n",
              "         -0.10716667, -0.01111763],\n",
              "        ...,\n",
              "        [ 0.06391461,  0.12480772,  0.1136395 , ...,  0.06796414,\n",
              "          0.04892409, -0.02226777],\n",
              "        [-0.00740996, -0.17280379, -0.12195016, ..., -0.10248747,\n",
              "         -0.05779   , -0.04341275],\n",
              "        [ 0.15815988, -0.13146774,  0.05029153, ...,  0.21037102,\n",
              "         -0.1234671 , -0.18063973]], dtype=float32)>,\n",
              " <tf.Variable 'dense_layer_2/bias:0' shape=(512,) dtype=float32, numpy=\n",
              " array([ 0.04925849, -0.10088868,  0.06215728, -0.14736983,  0.20532818,\n",
              "         0.01624425,  0.097459  , -0.08315047, -0.05934056, -0.04025726,\n",
              "        -0.02199379, -0.13846381, -0.15214391,  0.15842423, -0.09505924,\n",
              "        -0.10495903, -0.16687098,  0.02188094,  0.07515806, -0.05086675,\n",
              "         0.27839628,  0.16624074,  0.23791432, -0.0992353 , -0.17918198,\n",
              "        -0.06362055, -0.13078491, -0.08949102,  0.11076469, -0.06513299,\n",
              "        -0.16515614, -0.11696383,  0.20317188,  0.04383742, -0.09527262,\n",
              "         0.11438806, -0.07857997,  0.07915284,  0.06444904, -0.08185383,\n",
              "        -0.11956618, -0.03198301,  0.07100371,  0.2001967 ,  0.06787838,\n",
              "         0.09056647, -0.14111967, -0.00999365,  0.02678219, -0.11944578,\n",
              "        -0.07433444,  0.17691559,  0.10268623,  0.03270134,  0.04914874,\n",
              "        -0.0429657 ,  0.03242804, -0.16100286,  0.07324399, -0.11221697,\n",
              "        -0.12219614, -0.13050462, -0.13620171, -0.02302739,  0.04152808,\n",
              "         0.09148102,  0.1903733 , -0.14384894,  0.0824507 , -0.10214479,\n",
              "        -0.0918894 , -0.12156337,  0.19124708, -0.04294441,  0.13624386,\n",
              "         0.15256667, -0.19791216,  0.0594342 , -0.04368434, -0.10443562,\n",
              "        -0.21051812,  0.02719289,  0.16156626,  0.14230917,  0.06178926,\n",
              "         0.02396638, -0.06364908,  0.02123686, -0.09322875,  0.18115145,\n",
              "        -0.13686316, -0.08895725,  0.16965781, -0.13170902,  0.21859244,\n",
              "         0.2461635 ,  0.14747119, -0.04178786, -0.11848822, -0.00836261,\n",
              "        -0.2195972 , -0.15709047, -0.26234215,  0.06950782,  0.0209251 ,\n",
              "        -0.16292329,  0.15048954,  0.03669377, -0.03987875, -0.07953947,\n",
              "         0.08126199,  0.04397087, -0.04631524,  0.08815511,  0.12765257,\n",
              "        -0.0878434 , -0.2475811 , -0.02966522, -0.03223783, -0.20253849,\n",
              "         0.00194317,  0.1698387 ,  0.09796792, -0.09262411, -0.17578399,\n",
              "        -0.20661464,  0.0343285 , -0.14284672,  0.13484357,  0.02144393,\n",
              "        -0.02213169,  0.13799319,  0.20657988, -0.03192769,  0.09768981,\n",
              "        -0.01814028,  0.11399343,  0.17858857,  0.13361825, -0.23157707,\n",
              "         0.11668121, -0.00809768, -0.19706787,  0.18060605, -0.01739332,\n",
              "        -0.11532947, -0.03166149,  0.22500417, -0.03270516,  0.0413136 ,\n",
              "        -0.14977592, -0.15568724, -0.11145387, -0.06844831,  0.08383672,\n",
              "         0.24826737, -0.01858823,  0.00753747,  0.05458776, -0.14935002,\n",
              "        -0.05827773, -0.07204944, -0.0413291 ,  0.00799866,  0.03905991,\n",
              "        -0.1573049 , -0.15203343, -0.26072106, -0.11881433,  0.10307614,\n",
              "         0.00321945, -0.08471289, -0.1096203 , -0.07315604,  0.10999811,\n",
              "        -0.11981633,  0.05624153, -0.23523387, -0.10320897, -0.07064369,\n",
              "         0.07952563, -0.21234329, -0.14151628,  0.06876301,  0.19146216,\n",
              "        -0.11093218,  0.21814154, -0.01086096,  0.04676364, -0.17910905,\n",
              "        -0.01499818, -0.13265654,  0.1953049 ,  0.09320677,  0.16578606,\n",
              "        -0.12702657, -0.02495413, -0.05045348, -0.00983172, -0.15365152,\n",
              "         0.05218059,  0.03471878,  0.06254015,  0.10186702, -0.01339822,\n",
              "        -0.09139487, -0.10692786, -0.07136547,  0.03527455, -0.15758832,\n",
              "         0.08409908,  0.15751949, -0.08224037, -0.11394098, -0.01169315,\n",
              "         0.06308772, -0.10352601, -0.00938166, -0.0515812 , -0.19205965,\n",
              "         0.05213391, -0.10884477,  0.18021709, -0.1249038 ,  0.01006519,\n",
              "        -0.10459771, -0.15068066,  0.03828434, -0.00860251, -0.07003284,\n",
              "        -0.09587719,  0.03979218, -0.03018807, -0.13034002, -0.01300764,\n",
              "        -0.05085182, -0.00499669,  0.18392316, -0.09258842,  0.18031882,\n",
              "        -0.17119215,  0.07597338, -0.14984399, -0.19644085, -0.11814589,\n",
              "         0.03735359, -0.07906072, -0.03325483, -0.07104165, -0.03720236,\n",
              "        -0.21950166,  0.02624496, -0.17084286, -0.13765566,  0.02002361,\n",
              "         0.03774824, -0.17192355,  0.11010142,  0.14422333,  0.09720238,\n",
              "        -0.04617215, -0.14612985,  0.11671746, -0.10785913,  0.08315577,\n",
              "         0.07070057, -0.00190756, -0.10245078, -0.16419494,  0.14578879,\n",
              "         0.11597048,  0.01651755, -0.12877807, -0.07508746, -0.08162269,\n",
              "         0.02828178,  0.1687977 , -0.05341518,  0.06411943, -0.02772757,\n",
              "         0.00436057, -0.07359718,  0.10016598, -0.08397283,  0.02021722,\n",
              "        -0.0384184 ,  0.0110625 ,  0.138881  ,  0.16959673, -0.03431891,\n",
              "         0.00933486, -0.1123376 , -0.07275967,  0.05445495, -0.13313785,\n",
              "         0.0266217 ,  0.0499912 ,  0.08400033,  0.1461239 , -0.01078285,\n",
              "         0.05354918,  0.07470931,  0.21837445, -0.10857169, -0.09212244,\n",
              "         0.12350284,  0.09013677, -0.18345062, -0.17135273, -0.14260647,\n",
              "        -0.093173  , -0.06252553,  0.18027864,  0.02677   , -0.11538779,\n",
              "         0.16313939,  0.11175612,  0.05974407,  0.16696507, -0.19714203,\n",
              "         0.19097282, -0.13464217, -0.15147227, -0.03369095,  0.06502134,\n",
              "        -0.1159754 , -0.14414786,  0.01907948, -0.05081623, -0.09747858,\n",
              "        -0.02722705,  0.20187858,  0.03719341,  0.09923218,  0.05996008,\n",
              "         0.0399911 , -0.06512201, -0.11595071, -0.12890175, -0.11401881,\n",
              "         0.12748206, -0.04336206, -0.13247117, -0.13633399, -0.03393527,\n",
              "         0.00253434, -0.10706218, -0.17058241, -0.09111206, -0.09079307,\n",
              "         0.08840857,  0.0083867 ,  0.13937865, -0.05108361, -0.04191579,\n",
              "         0.1563287 ,  0.20262194, -0.20743641,  0.12977554,  0.13663375,\n",
              "         0.04815879, -0.01916467,  0.12943208, -0.01150763,  0.06999451,\n",
              "         0.01598791, -0.08539046, -0.01473972, -0.06471947, -0.13389534,\n",
              "         0.0224443 , -0.23118183, -0.15429825, -0.1104493 , -0.13406509,\n",
              "        -0.03377948,  0.13758859, -0.12341299, -0.14259326, -0.0808168 ,\n",
              "         0.0113578 , -0.06657279, -0.14288448, -0.12266201, -0.00869579,\n",
              "        -0.03910996, -0.17252901, -0.08137447, -0.06637418,  0.09811957,\n",
              "        -0.02409901,  0.0517085 ,  0.05236891,  0.00456588, -0.06662726,\n",
              "         0.11204955, -0.16845046, -0.01323443, -0.05121676, -0.13768345,\n",
              "        -0.06513575,  0.00581336, -0.24294706, -0.00211608,  0.11541413,\n",
              "         0.14326528, -0.19148238,  0.00972441,  0.03640638, -0.00294725,\n",
              "         0.20658565,  0.05690383,  0.03372397, -0.05204617, -0.05426327,\n",
              "        -0.26694667,  0.15050496, -0.22249095,  0.02109912, -0.06049729,\n",
              "        -0.14770398, -0.00047176,  0.2642417 ,  0.02066567,  0.01738282,\n",
              "         0.11026673, -0.07827228, -0.13177422, -0.04842292,  0.03619124,\n",
              "         0.1016864 ,  0.2375203 , -0.08378958, -0.11462815, -0.13743453,\n",
              "         0.03545999, -0.03734732, -0.07672057, -0.18326068,  0.066502  ,\n",
              "        -0.09117123,  0.08121976,  0.09643612,  0.02118204,  0.0268673 ,\n",
              "        -0.09476766,  0.22681153, -0.03147588, -0.05923072,  0.14833328,\n",
              "        -0.07409262, -0.16852795, -0.10799145, -0.08055711, -0.11128368,\n",
              "        -0.10793985,  0.19440809, -0.14673758, -0.14795913,  0.11338268,\n",
              "        -0.14547156,  0.16496454, -0.13000664, -0.06856206,  0.21892825,\n",
              "        -0.09201446,  0.11945943,  0.13232726,  0.03454957, -0.17813483,\n",
              "         0.08940735, -0.15334159, -0.08589282, -0.09019718, -0.12873232,\n",
              "         0.15732688, -0.09522083,  0.05566666,  0.01309855, -0.11665254,\n",
              "         0.09328845,  0.06818001, -0.11550883, -0.12844837,  0.07619689,\n",
              "        -0.19024827, -0.06845985, -0.03277893,  0.0125972 ,  0.06338996,\n",
              "        -0.05154106, -0.11952389,  0.15729915,  0.0530334 , -0.17447302,\n",
              "         0.13715358, -0.10599788, -0.09727097, -0.16392292, -0.05074428,\n",
              "        -0.10830246, -0.10226841, -0.0846165 ,  0.11584937,  0.03144825,\n",
              "        -0.23525582,  0.0973105 , -0.03817057, -0.11597123, -0.14311321,\n",
              "         0.17430885,  0.05233685], dtype=float32)>,\n",
              " <tf.Variable 'dense_layer_3/kernel:0' shape=(512, 10) dtype=float32, numpy=\n",
              " array([[-0.131894  , -0.04972127,  0.09492137, ..., -0.05105731,\n",
              "          0.16677372, -0.21452533],\n",
              "        [ 0.0839944 ,  0.08797206,  0.0245894 , ...,  0.04753476,\n",
              "         -0.04965527,  0.13323148],\n",
              "        [-0.09195656, -0.0904974 , -0.0212264 , ..., -0.19754213,\n",
              "          0.01585412,  0.09102935],\n",
              "        ...,\n",
              "        [-0.13403971,  0.10183916,  0.10774511, ...,  0.07441609,\n",
              "         -0.24244466,  0.09906637],\n",
              "        [-0.20573723, -0.21355361, -0.15516998, ..., -0.3037871 ,\n",
              "          0.10607311,  0.09272113],\n",
              "        [ 0.12205049,  0.06460795,  0.05205745, ...,  0.06415045,\n",
              "          0.09381724, -0.07930296]], dtype=float32)>,\n",
              " <tf.Variable 'dense_layer_3/bias:0' shape=(10,) dtype=float32, numpy=\n",
              " array([ 0.0922852 , -0.11743897, -0.14150737, -0.04053577, -0.00140989,\n",
              "        -0.13067402, -0.14025302, -0.13640124,  0.37941882,  0.12039299],\n",
              "       dtype=float32)>]"
            ]
          },
          "metadata": {},
          "execution_count": 47
        }
      ]
    },
    {
      "cell_type": "code",
      "metadata": {
        "outputId": "7ec24e7a-956f-4b70-cf4f-4b4227bb5553",
        "id": "MnrRfeyJkQTS",
        "colab": {
          "base_uri": "https://localhost:8080/"
        }
      },
      "source": [
        "model_4.get_config()"
      ],
      "execution_count": 48,
      "outputs": [
        {
          "output_type": "execute_result",
          "data": {
            "text/plain": [
              "{'layers': [{'class_name': 'InputLayer',\n",
              "   'config': {'batch_input_shape': (None, 784),\n",
              "    'dtype': 'float32',\n",
              "    'name': 'dense_layer_input',\n",
              "    'ragged': False,\n",
              "    'sparse': False}},\n",
              "  {'class_name': 'Dense',\n",
              "   'config': {'activation': 'relu',\n",
              "    'activity_regularizer': None,\n",
              "    'batch_input_shape': (None, 784),\n",
              "    'bias_constraint': None,\n",
              "    'bias_initializer': {'class_name': 'Zeros', 'config': {}},\n",
              "    'bias_regularizer': None,\n",
              "    'dtype': 'float32',\n",
              "    'kernel_constraint': None,\n",
              "    'kernel_initializer': {'class_name': 'GlorotUniform',\n",
              "     'config': {'seed': None}},\n",
              "    'kernel_regularizer': None,\n",
              "    'name': 'dense_layer',\n",
              "    'trainable': True,\n",
              "    'units': 512,\n",
              "    'use_bias': True}},\n",
              "  {'class_name': 'Dropout',\n",
              "   'config': {'dtype': 'float32',\n",
              "    'name': 'dropout_4',\n",
              "    'noise_shape': None,\n",
              "    'rate': 0.3,\n",
              "    'seed': None,\n",
              "    'trainable': True}},\n",
              "  {'class_name': 'Dense',\n",
              "   'config': {'activation': 'relu',\n",
              "    'activity_regularizer': None,\n",
              "    'bias_constraint': None,\n",
              "    'bias_initializer': {'class_name': 'Zeros', 'config': {}},\n",
              "    'bias_regularizer': None,\n",
              "    'dtype': 'float32',\n",
              "    'kernel_constraint': None,\n",
              "    'kernel_initializer': {'class_name': 'GlorotUniform',\n",
              "     'config': {'seed': None}},\n",
              "    'kernel_regularizer': None,\n",
              "    'name': 'dense_layer_2',\n",
              "    'trainable': True,\n",
              "    'units': 512,\n",
              "    'use_bias': True}},\n",
              "  {'class_name': 'Dropout',\n",
              "   'config': {'dtype': 'float32',\n",
              "    'name': 'dropout_5',\n",
              "    'noise_shape': None,\n",
              "    'rate': 0.3,\n",
              "    'seed': None,\n",
              "    'trainable': True}},\n",
              "  {'class_name': 'Dense',\n",
              "   'config': {'activation': 'softmax',\n",
              "    'activity_regularizer': None,\n",
              "    'bias_constraint': None,\n",
              "    'bias_initializer': {'class_name': 'Zeros', 'config': {}},\n",
              "    'bias_regularizer': None,\n",
              "    'dtype': 'float32',\n",
              "    'kernel_constraint': None,\n",
              "    'kernel_initializer': {'class_name': 'GlorotUniform',\n",
              "     'config': {'seed': None}},\n",
              "    'kernel_regularizer': None,\n",
              "    'name': 'dense_layer_3',\n",
              "    'trainable': True,\n",
              "    'units': 10,\n",
              "    'use_bias': True}}],\n",
              " 'name': 'sequential_4'}"
            ]
          },
          "metadata": {},
          "execution_count": 48
        }
      ]
    },
    {
      "cell_type": "markdown",
      "metadata": {
        "id": "AFbx6XHI0KyQ"
      },
      "source": [
        "###Improved Model 5: Manipulating the batch size"
      ]
    },
    {
      "cell_type": "code",
      "metadata": {
        "id": "WPaQm2XY0KyV"
      },
      "source": [
        "#Most common type of model is a stack of layers\n",
        "model_5 = tf.keras.Sequential()\n",
        "N_hidden = 512\n",
        "# Adds a densely-connected layer with 64 units to the model:\n",
        "model_5.add(Dense(N_hidden, name='dense_layer', input_shape=(784,), activation = 'relu'))\n",
        "# Now the model will take as input arrays of shape (*, 784)# and output arrays of shape (*, 64)\n",
        "model_5.add(Dropout(0.3))\n",
        "# Adding another dense layer:\n",
        "model_5.add(Dense(N_hidden, name='dense_layer_2', activation='relu'))\n",
        "model_5.add(Dropout(0.3))\n",
        "# After the first layer, you don't need to specify\u000b# the size of the input anymore:\n",
        "# Add an output layer with 10 output units (10 different classes):\n",
        "model_5.add(Dense(10, name='dense_layer_3', activation = 'softmax'))\n"
      ],
      "execution_count": 49,
      "outputs": []
    },
    {
      "cell_type": "code",
      "metadata": {
        "id": "UWFjgHFj0Kyg"
      },
      "source": [
        "# Compiling the model.\n",
        "model_5.compile(optimizer='Adam', \n",
        "              loss='categorical_crossentropy',\n",
        "              metrics=['accuracy'])"
      ],
      "execution_count": 50,
      "outputs": []
    },
    {
      "cell_type": "code",
      "metadata": {
        "outputId": "c0c928e0-734c-4fb3-a5db-28f8c5c775ac",
        "id": "opXV9TbQ0Kyl",
        "colab": {
          "base_uri": "https://localhost:8080/"
        }
      },
      "source": [
        "# Training the model. \n",
        "training = model_5.fit(X_train, Y_train, batch_size=64, epochs=30, validation_split=0.2) \n"
      ],
      "execution_count": 51,
      "outputs": [
        {
          "output_type": "stream",
          "name": "stdout",
          "text": [
            "Epoch 1/30\n",
            "750/750 [==============================] - 3s 3ms/step - loss: 0.2694 - accuracy: 0.9187 - val_loss: 0.1224 - val_accuracy: 0.9639\n",
            "Epoch 2/30\n",
            "750/750 [==============================] - 3s 3ms/step - loss: 0.1240 - accuracy: 0.9618 - val_loss: 0.0960 - val_accuracy: 0.9701\n",
            "Epoch 3/30\n",
            "750/750 [==============================] - 2s 3ms/step - loss: 0.0948 - accuracy: 0.9700 - val_loss: 0.0939 - val_accuracy: 0.9731\n",
            "Epoch 4/30\n",
            "750/750 [==============================] - 3s 3ms/step - loss: 0.0748 - accuracy: 0.9761 - val_loss: 0.0839 - val_accuracy: 0.9750\n",
            "Epoch 5/30\n",
            "750/750 [==============================] - 3s 3ms/step - loss: 0.0671 - accuracy: 0.9784 - val_loss: 0.0864 - val_accuracy: 0.9762\n",
            "Epoch 6/30\n",
            "750/750 [==============================] - 3s 3ms/step - loss: 0.0558 - accuracy: 0.9821 - val_loss: 0.0926 - val_accuracy: 0.9748\n",
            "Epoch 7/30\n",
            "750/750 [==============================] - 3s 3ms/step - loss: 0.0522 - accuracy: 0.9832 - val_loss: 0.0873 - val_accuracy: 0.9772\n",
            "Epoch 8/30\n",
            "750/750 [==============================] - 3s 3ms/step - loss: 0.0483 - accuracy: 0.9843 - val_loss: 0.0798 - val_accuracy: 0.9778\n",
            "Epoch 9/30\n",
            "750/750 [==============================] - 2s 3ms/step - loss: 0.0425 - accuracy: 0.9863 - val_loss: 0.0872 - val_accuracy: 0.9774\n",
            "Epoch 10/30\n",
            "750/750 [==============================] - 2s 3ms/step - loss: 0.0401 - accuracy: 0.9873 - val_loss: 0.0930 - val_accuracy: 0.9788\n",
            "Epoch 11/30\n",
            "750/750 [==============================] - 3s 3ms/step - loss: 0.0392 - accuracy: 0.9876 - val_loss: 0.0873 - val_accuracy: 0.9792\n",
            "Epoch 12/30\n",
            "750/750 [==============================] - 3s 3ms/step - loss: 0.0329 - accuracy: 0.9893 - val_loss: 0.0923 - val_accuracy: 0.9796\n",
            "Epoch 13/30\n",
            "750/750 [==============================] - 2s 3ms/step - loss: 0.0353 - accuracy: 0.9884 - val_loss: 0.0906 - val_accuracy: 0.9797\n",
            "Epoch 14/30\n",
            "750/750 [==============================] - 3s 3ms/step - loss: 0.0324 - accuracy: 0.9894 - val_loss: 0.1018 - val_accuracy: 0.9786\n",
            "Epoch 15/30\n",
            "750/750 [==============================] - 2s 3ms/step - loss: 0.0335 - accuracy: 0.9892 - val_loss: 0.0906 - val_accuracy: 0.9803\n",
            "Epoch 16/30\n",
            "750/750 [==============================] - 3s 3ms/step - loss: 0.0298 - accuracy: 0.9909 - val_loss: 0.0956 - val_accuracy: 0.9795\n",
            "Epoch 17/30\n",
            "750/750 [==============================] - 2s 3ms/step - loss: 0.0298 - accuracy: 0.9906 - val_loss: 0.1007 - val_accuracy: 0.9778\n",
            "Epoch 18/30\n",
            "750/750 [==============================] - 2s 3ms/step - loss: 0.0290 - accuracy: 0.9909 - val_loss: 0.0899 - val_accuracy: 0.9805\n",
            "Epoch 19/30\n",
            "750/750 [==============================] - 2s 3ms/step - loss: 0.0252 - accuracy: 0.9919 - val_loss: 0.0945 - val_accuracy: 0.9802\n",
            "Epoch 20/30\n",
            "750/750 [==============================] - 3s 3ms/step - loss: 0.0260 - accuracy: 0.9917 - val_loss: 0.1096 - val_accuracy: 0.9797\n",
            "Epoch 21/30\n",
            "750/750 [==============================] - 2s 3ms/step - loss: 0.0284 - accuracy: 0.9911 - val_loss: 0.1043 - val_accuracy: 0.9812\n",
            "Epoch 22/30\n",
            "750/750 [==============================] - 3s 3ms/step - loss: 0.0246 - accuracy: 0.9927 - val_loss: 0.0944 - val_accuracy: 0.9807\n",
            "Epoch 23/30\n",
            "750/750 [==============================] - 3s 4ms/step - loss: 0.0258 - accuracy: 0.9923 - val_loss: 0.0957 - val_accuracy: 0.9817\n",
            "Epoch 24/30\n",
            "750/750 [==============================] - 3s 3ms/step - loss: 0.0218 - accuracy: 0.9932 - val_loss: 0.0945 - val_accuracy: 0.9832\n",
            "Epoch 25/30\n",
            "750/750 [==============================] - 2s 3ms/step - loss: 0.0253 - accuracy: 0.9925 - val_loss: 0.0990 - val_accuracy: 0.9808\n",
            "Epoch 26/30\n",
            "750/750 [==============================] - 2s 3ms/step - loss: 0.0232 - accuracy: 0.9926 - val_loss: 0.0906 - val_accuracy: 0.9818\n",
            "Epoch 27/30\n",
            "750/750 [==============================] - 3s 3ms/step - loss: 0.0207 - accuracy: 0.9936 - val_loss: 0.1027 - val_accuracy: 0.9818\n",
            "Epoch 28/30\n",
            "750/750 [==============================] - 3s 3ms/step - loss: 0.0261 - accuracy: 0.9926 - val_loss: 0.1006 - val_accuracy: 0.9818\n",
            "Epoch 29/30\n",
            "750/750 [==============================] - 2s 3ms/step - loss: 0.0205 - accuracy: 0.9936 - val_loss: 0.1182 - val_accuracy: 0.9808\n",
            "Epoch 30/30\n",
            "750/750 [==============================] - 2s 3ms/step - loss: 0.0239 - accuracy: 0.9927 - val_loss: 0.1065 - val_accuracy: 0.9827\n"
          ]
        }
      ]
    },
    {
      "cell_type": "code",
      "metadata": {
        "outputId": "f33a43ae-4b12-4a21-9d8f-5259a51d7d81",
        "id": "UHMf1HAskp9n",
        "colab": {
          "base_uri": "https://localhost:8080/",
          "height": 590
        }
      },
      "source": [
        "import matplotlib.pyplot as plt\n",
        "%matplotlib inline\n",
        "# list all data in training\n",
        "print(training.history.keys())\n",
        "# summarize training for accuracy\n",
        "plt.plot(training.history['accuracy'])\n",
        "plt.plot(training.history['val_accuracy'])\n",
        "plt.title('model accuracy')\n",
        "plt.ylabel('accuracy')\n",
        "plt.xlabel('epoch')\n",
        "plt.legend(['train', 'test'], loc='upper left')\n",
        "plt.show()\n",
        "# summarize traning for loss\n",
        "plt.plot(training.history['loss'])\n",
        "plt.plot(training.history['val_loss'])\n",
        "plt.title('model loss')\n",
        "plt.ylabel('loss')\n",
        "plt.xlabel('epoch')\n",
        "plt.legend(['train', 'test'], loc='upper left')\n",
        "plt.show()"
      ],
      "execution_count": 52,
      "outputs": [
        {
          "output_type": "stream",
          "name": "stdout",
          "text": [
            "dict_keys(['loss', 'accuracy', 'val_loss', 'val_accuracy'])\n"
          ]
        },
        {
          "output_type": "display_data",
          "data": {
            "text/plain": [
              "<Figure size 432x288 with 1 Axes>"
            ],
            "image/png": "[encoded data removed]"
          },
          "metadata": {
            "needs_background": "light"
          }
        },
        {
          "output_type": "display_data",
          "data": {
            "text/plain": [
              "<Figure size 432x288 with 1 Axes>"
            ],
            "image/png": "[encoded data removed]"
          },
          "metadata": {
            "needs_background": "light"
          }
        }
      ]
    },
    {
      "cell_type": "code",
      "metadata": {
        "outputId": "657c7f5d-3912-4fe3-978a-c84757a58ad4",
        "id": "e4kmSKEn0Kyv",
        "colab": {
          "base_uri": "https://localhost:8080/"
        }
      },
      "source": [
        "#evaluate the model\n",
        "test_loss, test_acc = model_5.evaluate(X_test, Y_test)\n",
        "print('Test accuracy:', test_acc)"
      ],
      "execution_count": 53,
      "outputs": [
        {
          "output_type": "stream",
          "name": "stdout",
          "text": [
            "313/313 [==============================] - 1s 2ms/step - loss: 0.0882 - accuracy: 0.9838\n",
            "Test accuracy: 0.9837999939918518\n"
          ]
        }
      ]
    },
    {
      "cell_type": "code",
      "metadata": {
        "outputId": "86c1bedf-92e9-4b6e-8482-9d0a74c74d50",
        "id": "LVr1ZMvnkp92",
        "colab": {
          "base_uri": "https://localhost:8080/"
        }
      },
      "source": [
        "model_5.summary()"
      ],
      "execution_count": 54,
      "outputs": [
        {
          "output_type": "stream",
          "name": "stdout",
          "text": [
            "Model: \"sequential_5\"\n",
            "_________________________________________________________________\n",
            " Layer (type)                Output Shape              Param #   \n",
            "=================================================================\n",
            " dense_layer (Dense)         (None, 512)               401920    \n",
            "                                                                 \n",
            " dropout_6 (Dropout)         (None, 512)               0         \n",
            "                                                                 \n",
            " dense_layer_2 (Dense)       (None, 512)               262656    \n",
            "                                                                 \n",
            " dropout_7 (Dropout)         (None, 512)               0         \n",
            "                                                                 \n",
            " dense_layer_3 (Dense)       (None, 10)                5130      \n",
            "                                                                 \n",
            "=================================================================\n",
            "Total params: 669,706\n",
            "Trainable params: 669,706\n",
            "Non-trainable params: 0\n",
            "_________________________________________________________________\n"
          ]
        }
      ]
    },
    {
      "cell_type": "code",
      "metadata": {
        "outputId": "66c9ea22-c06b-4a42-d50c-0b0d79626af8",
        "id": "j76rvRmxkp-C",
        "colab": {
          "base_uri": "https://localhost:8080/"
        }
      },
      "source": [
        "model_5.weights"
      ],
      "execution_count": 55,
      "outputs": [
        {
          "output_type": "execute_result",
          "data": {
            "text/plain": [
              "[<tf.Variable 'dense_layer/kernel:0' shape=(784, 512) dtype=float32, numpy=\n",
              " array([[ 0.04394645, -0.00300068,  0.03533324, ..., -0.05539639,\n",
              "         -0.00216042, -0.05519775],\n",
              "        [ 0.0035708 , -0.03593446, -0.01844036, ...,  0.06450027,\n",
              "         -0.02739702,  0.06425045],\n",
              "        [ 0.06448463, -0.00565382,  0.01442143, ...,  0.0378619 ,\n",
              "          0.05456398, -0.0087635 ],\n",
              "        ...,\n",
              "        [-0.01047152,  0.00724646,  0.00666467, ...,  0.06741636,\n",
              "         -0.06731737,  0.00345878],\n",
              "        [-0.04674   ,  0.05331641,  0.02680551, ..., -0.00182177,\n",
              "         -0.02559124,  0.05833456],\n",
              "        [-0.00320034,  0.02516536, -0.06739771, ..., -0.02477057,\n",
              "         -0.03667587,  0.03647651]], dtype=float32)>,\n",
              " <tf.Variable 'dense_layer/bias:0' shape=(512,) dtype=float32, numpy=\n",
              " array([-0.15286468, -0.15156125, -0.05559691, -0.06945089, -0.03812766,\n",
              "        -0.01923127, -0.22458388, -0.05117761, -0.15048085,  0.04756449,\n",
              "        -0.18401699, -0.19934101, -0.08882299, -0.23529783,  0.04185417,\n",
              "        -0.07916623, -0.12430943,  0.06696438, -0.17721382, -0.04163767,\n",
              "        -0.12244038, -0.14111875, -0.05841859, -0.01941155, -0.10444535,\n",
              "        -0.02706707, -0.15814713, -0.11637738, -0.16912644, -0.21635349,\n",
              "        -0.1244444 , -0.12699212, -0.12169563,  0.08293288, -0.19718   ,\n",
              "         0.13212854, -0.07831173,  0.17619151, -0.14289598, -0.15167955,\n",
              "        -0.29267532,  0.0700014 , -0.04102597, -0.04671981, -0.12899072,\n",
              "        -0.09717926,  0.01632866, -0.0588144 , -0.17739262, -0.110386  ,\n",
              "        -0.01251305, -0.08249062,  0.02550865,  0.02820968, -0.06643442,\n",
              "        -0.08634742, -0.03151466, -0.10186449, -0.13295367, -0.048061  ,\n",
              "        -0.10637587,  0.01597849,  0.13109976, -0.03083455, -0.00436228,\n",
              "         0.05280409, -0.11029129, -0.10160987, -0.10604422,  0.01998098,\n",
              "         0.0758708 , -0.07923912, -0.06588902, -0.04556671, -0.0543859 ,\n",
              "        -0.07499585,  0.08285979,  0.13197923, -0.1142829 ,  0.09622148,\n",
              "        -0.04832358,  0.03306021,  0.10646714, -0.00426746,  0.05689001,\n",
              "        -0.09867995, -0.21206553, -0.02448166, -0.28848833,  0.05913768,\n",
              "        -0.03535455,  0.02262412, -0.02337734, -0.08370548, -0.13896681,\n",
              "        -0.04241669,  0.01297966, -0.21858642,  0.03031119,  0.01514768,\n",
              "        -0.02718343, -0.10889295,  0.10552175, -0.02630481, -0.19635572,\n",
              "        -0.07070228, -0.20070319,  0.00953604, -0.11803689, -0.08158886,\n",
              "         0.02703269,  0.00522241, -0.09664033, -0.12267502, -0.06110268,\n",
              "         0.10212383, -0.04479208, -0.04079048, -0.10504753,  0.00924509,\n",
              "        -0.14693388, -0.13335098, -0.01554709,  0.02930796,  0.03646618,\n",
              "        -0.16187648,  0.03557353, -0.0657308 , -0.04510733,  0.0295918 ,\n",
              "        -0.11838636,  0.03164896, -0.08183739, -0.04673752, -0.09517349,\n",
              "        -0.01514022, -0.0567202 , -0.04819316,  0.08374629, -0.02806439,\n",
              "        -0.07048975, -0.05136796,  0.13291436, -0.11751348, -0.06792045,\n",
              "        -0.02393896, -0.12215813, -0.05310886, -0.13923606, -0.01679886,\n",
              "        -0.06661199, -0.09142216, -0.09373789,  0.06560451, -0.11407816,\n",
              "         0.00923066, -0.14658572, -0.13655668, -0.01063754, -0.05266307,\n",
              "        -0.0328671 , -0.07472879, -0.04685834, -0.14367922, -0.00854882,\n",
              "        -0.02646282, -0.07259211, -0.22136554, -0.08277576, -0.08296829,\n",
              "        -0.10816112,  0.03365536, -0.09630816, -0.0998367 , -0.02108303,\n",
              "        -0.15699789, -0.04082094, -0.02233155,  0.01028562, -0.06670919,\n",
              "        -0.15060264,  0.00792841, -0.03089873, -0.03423923,  0.06975239,\n",
              "        -0.10581273,  0.01231645, -0.01589134,  0.05888107, -0.05698274,\n",
              "         0.03300682,  0.01078794, -0.02395196, -0.02575019, -0.05488471,\n",
              "         0.00878288, -0.20195192, -0.10952491, -0.0779773 , -0.17903592,\n",
              "        -0.11404254,  0.0616871 ,  0.00893135, -0.02688586, -0.09074721,\n",
              "        -0.03356818, -0.22502504, -0.0286544 , -0.02799843, -0.08334009,\n",
              "         0.03963659, -0.02813857, -0.03441181, -0.10214484, -0.19082513,\n",
              "         0.04467694,  0.08447071, -0.17937794, -0.16842596, -0.06850834,\n",
              "        -0.12050917, -0.01783704, -0.09131901,  0.04895075,  0.00875303,\n",
              "        -0.13172139, -0.1336105 ,  0.07661928, -0.05069295,  0.00376609,\n",
              "        -0.05547295, -0.11208239, -0.22557463, -0.18596208,  0.08631217,\n",
              "        -0.13848922, -0.01773398, -0.1625758 ,  0.03006205, -0.03672407,\n",
              "        -0.01445123,  0.08530197, -0.00309704, -0.03062437,  0.14569187,\n",
              "        -0.13628946, -0.07426536, -0.01815345, -0.12293946, -0.12004668,\n",
              "         0.01240013,  0.02440404, -0.08914024,  0.02279807, -0.07030083,\n",
              "        -0.07888033, -0.10321926, -0.06223411, -0.18216778, -0.10446908,\n",
              "        -0.01673413, -0.01202815,  0.05405898, -0.06527346,  0.01326286,\n",
              "        -0.21997905, -0.00429015, -0.10772363, -0.12181706,  0.03812702,\n",
              "        -0.11765224, -0.05831739, -0.11157002,  0.00236846, -0.20136744,\n",
              "        -0.25520256,  0.00223593,  0.08914797, -0.10663931, -0.09126918,\n",
              "        -0.14720677, -0.09029169, -0.0554965 , -0.10440505, -0.06567966,\n",
              "         0.05693092,  0.18368994, -0.06537709, -0.15390405, -0.01079085,\n",
              "        -0.23913582, -0.11834661, -0.07117467, -0.05801174,  0.01697526,\n",
              "        -0.09099618, -0.08080023,  0.02568116, -0.13062167, -0.06450979,\n",
              "        -0.05325527, -0.21593364, -0.17903441, -0.11707159,  0.06429111,\n",
              "        -0.07614672, -0.12844709, -0.05667981, -0.03944845, -0.17985278,\n",
              "        -0.07919595, -0.09349091, -0.08862977, -0.05677194, -0.19109523,\n",
              "        -0.08446541,  0.01902842,  0.01397641, -0.15192746,  0.02562798,\n",
              "        -0.07962679,  0.08761954, -0.1388809 , -0.0390189 ,  0.04907284,\n",
              "        -0.10264077, -0.01562325, -0.00664157,  0.00459557, -0.13048303,\n",
              "         0.01062138, -0.07905129, -0.00554698,  0.01344482, -0.04456459,\n",
              "        -0.16261613, -0.05591348,  0.00196653, -0.06913606, -0.05753887,\n",
              "        -0.05246404, -0.04842415, -0.00530186, -0.05275282, -0.08873208,\n",
              "        -0.16007744, -0.01937101, -0.026071  , -0.03469256, -0.03790225,\n",
              "        -0.03910253,  0.0490198 ,  0.04209094, -0.0821645 , -0.02206136,\n",
              "         0.02116421, -0.00610766,  0.01297795, -0.09704524, -0.03328508,\n",
              "         0.06689516, -0.01950086, -0.14899936, -0.03994356, -0.00045259,\n",
              "        -0.08678963, -0.05056822, -0.01078778,  0.0547556 , -0.00853975,\n",
              "        -0.02668457, -0.01494855, -0.04761256, -0.0676263 ,  0.00533407,\n",
              "         0.01101449,  0.06251421, -0.15447748,  0.12966454, -0.03743591,\n",
              "        -0.01952976, -0.08966848, -0.09538055, -0.04789809,  0.04140457,\n",
              "         0.05217783,  0.11614062, -0.09420425, -0.09508299, -0.15245005,\n",
              "         0.01695833,  0.0406122 ,  0.04390975,  0.06571533,  0.09393142,\n",
              "        -0.08185989, -0.02850827, -0.05298876,  0.1061805 , -0.0967931 ,\n",
              "         0.01275328, -0.01061586, -0.07124198, -0.17324755, -0.14084451,\n",
              "        -0.04338199, -0.03818694, -0.04122748,  0.04072475,  0.04340975,\n",
              "        -0.22895715, -0.088614  , -0.13605703, -0.07750134, -0.15004021,\n",
              "         0.06634936,  0.05417838, -0.0334123 ,  0.05683264, -0.1644502 ,\n",
              "        -0.02929496, -0.10940766, -0.01362936, -0.06686279, -0.07205578,\n",
              "        -0.10900997, -0.11892942,  0.06458291, -0.00439365, -0.02864645,\n",
              "         0.02964265, -0.16236478, -0.02782245, -0.09005334, -0.04933906,\n",
              "        -0.12485328, -0.02308032,  0.05616616,  0.10155675, -0.0876488 ,\n",
              "        -0.10023071, -0.05872056,  0.09324443, -0.10811285, -0.1707338 ,\n",
              "         0.16760242,  0.05256614, -0.19339712,  0.02228312,  0.01125249,\n",
              "        -0.03315872,  0.01009451, -0.1409203 , -0.09628537,  0.03175247,\n",
              "         0.01749918, -0.09986549, -0.04589036,  0.02084229, -0.10735392,\n",
              "        -0.17157938, -0.2639422 , -0.0407694 ,  0.10083026, -0.07663995,\n",
              "        -0.13616593, -0.01020733, -0.0233095 , -0.07905037, -0.03644081,\n",
              "        -0.12858573, -0.08439221, -0.08132228, -0.02245637,  0.00643   ,\n",
              "        -0.01617575,  0.0075157 , -0.14286126, -0.01231005, -0.00253698,\n",
              "        -0.10714512,  0.02243339, -0.02175351,  0.0303547 , -0.11916642,\n",
              "         0.06800238, -0.18841259, -0.08899944, -0.0595759 , -0.0206828 ,\n",
              "        -0.0091846 , -0.10010624, -0.08847461,  0.05289108,  0.01744598,\n",
              "         0.10652476, -0.09088048,  0.03195146, -0.07568598, -0.00151575,\n",
              "         0.01900765, -0.00267316,  0.03800078,  0.04449787, -0.12001376,\n",
              "         0.12821503, -0.00140318, -0.03357242, -0.17630151,  0.00474211,\n",
              "        -0.16801254, -0.05538849], dtype=float32)>,\n",
              " <tf.Variable 'dense_layer_2/kernel:0' shape=(512, 512) dtype=float32, numpy=\n",
              " array([[-0.04446182, -0.11719213, -0.0279561 , ...,  0.24055177,\n",
              "         -0.00085338,  0.2114808 ],\n",
              "        [-0.24586509, -0.02575319, -0.00276816, ..., -0.08402879,\n",
              "         -0.26224265,  0.07093762],\n",
              "        [-0.13507035, -0.09563965,  0.02605302, ...,  0.13374366,\n",
              "          0.09822951,  0.09948445],\n",
              "        ...,\n",
              "        [ 0.12765945,  0.05981186,  0.00749774, ..., -0.28015435,\n",
              "          0.20446666,  0.0377353 ],\n",
              "        [-0.09233458, -0.10315341, -0.12768222, ...,  0.11631385,\n",
              "         -0.08842154,  0.02922009],\n",
              "        [-0.00302427,  0.1487681 ,  0.09166233, ...,  0.0986594 ,\n",
              "         -0.03427112, -0.11900152]], dtype=float32)>,\n",
              " <tf.Variable 'dense_layer_2/bias:0' shape=(512,) dtype=float32, numpy=\n",
              " array([-4.98717651e-02, -1.48156732e-01, -1.24668323e-01, -1.22887410e-01,\n",
              "         1.38217360e-01, -1.21689945e-01, -1.96504399e-01, -1.81713045e-01,\n",
              "        -1.70272738e-01, -2.32616559e-01, -2.36749023e-01,  8.14599171e-02,\n",
              "        -1.03567816e-01, -1.60281491e-02,  8.05946533e-03, -3.21658663e-02,\n",
              "        -4.99364845e-02, -3.68695527e-01,  3.10662556e-02, -4.17826362e-02,\n",
              "         3.09513509e-01, -2.40113884e-02, -3.49297047e-01, -9.79420394e-02,\n",
              "        -2.51346737e-01, -1.59378350e-01, -3.20402890e-01,  9.99581218e-02,\n",
              "        -1.15787156e-01, -2.39639297e-01,  2.58966595e-01, -1.57462552e-01,\n",
              "        -1.48754613e-02, -1.12651341e-01, -1.59791127e-01, -2.19926775e-01,\n",
              "        -3.16123217e-01, -3.83920997e-01, -1.20037593e-01, -2.84131348e-01,\n",
              "         6.33203164e-02, -6.29059449e-02, -2.26823151e-01, -1.51587114e-01,\n",
              "        -3.45398694e-01,  9.83272344e-02, -5.78088453e-03,  1.11843199e-01,\n",
              "        -2.40759626e-01,  1.29218502e-02,  3.29135627e-01, -9.72049311e-02,\n",
              "        -2.24359721e-01, -1.72044829e-01, -1.31664217e-01, -2.71245658e-01,\n",
              "        -1.93763718e-01, -2.21899580e-02, -6.72999322e-02, -2.05657110e-01,\n",
              "         1.89640194e-01,  2.55211014e-02, -2.37079635e-02,  2.75255710e-01,\n",
              "        -3.77087355e-01, -7.04113096e-02, -1.92471802e-01, -2.39245251e-01,\n",
              "        -1.25315771e-01, -9.91777033e-02, -4.88748774e-02, -1.43148437e-01,\n",
              "        -6.05690293e-02, -9.31268707e-02, -9.06658545e-02,  1.60370588e-01,\n",
              "        -1.23304062e-01, -2.60581821e-01, -3.01484555e-01, -1.79369181e-01,\n",
              "        -1.35598049e-01,  5.71376048e-02, -5.60054630e-02, -2.21366197e-01,\n",
              "         1.51522920e-01, -1.10771827e-04, -2.53888182e-02, -3.83935012e-02,\n",
              "        -8.21537822e-02, -2.09810615e-01, -1.14118792e-01, -2.24159181e-01,\n",
              "        -2.75239404e-02, -1.41382456e-01,  3.84651013e-02, -2.74487793e-01,\n",
              "         9.01297629e-02, -4.88430560e-02, -9.97546986e-02, -1.25700766e-02,\n",
              "        -2.03814641e-01, -3.37176532e-01, -3.21164906e-01,  3.52741638e-03,\n",
              "        -2.60999858e-01,  1.98850725e-02, -3.40307117e-01,  3.66330631e-02,\n",
              "        -2.23080218e-01, -1.25496492e-01, -8.94408673e-02, -1.73309371e-01,\n",
              "         3.61646563e-02, -2.53521860e-01, -2.71185786e-01, -2.80405968e-01,\n",
              "        -9.06203836e-02,  2.63738245e-01, -2.32908100e-01, -1.73979819e-01,\n",
              "        -3.23510259e-01, -1.02959059e-01, -2.10897729e-01, -1.55456349e-01,\n",
              "        -1.95554301e-01, -8.16668123e-02, -2.46211842e-01, -2.31158018e-01,\n",
              "        -3.68409187e-01, -2.07069889e-01,  1.67856172e-01, -4.77491617e-02,\n",
              "        -2.36551046e-01,  3.21530879e-01,  5.38785793e-02, -1.82187662e-01,\n",
              "        -2.08690554e-01, -1.48385182e-01, -1.88771889e-01, -1.93513960e-01,\n",
              "         2.32997179e-01,  1.45640448e-01,  6.27693022e-03, -1.75041541e-01,\n",
              "         4.14164327e-02,  1.85520083e-01, -1.35295287e-01, -2.42274702e-01,\n",
              "        -1.19937874e-01, -2.59656403e-02, -8.71749222e-02, -3.59544694e-01,\n",
              "         6.79618791e-02, -1.35566313e-02, -1.06244966e-01, -1.93272933e-01,\n",
              "        -1.72239244e-01, -7.78288096e-02, -3.40360887e-02, -1.26283646e-01,\n",
              "         3.76266614e-02,  1.33451015e-01, -1.34699091e-01, -1.54912204e-01,\n",
              "        -1.03258945e-01,  3.76724303e-01, -1.92917168e-01, -1.95821542e-02,\n",
              "        -4.07636948e-02, -1.62116706e-01,  3.18225950e-01, -1.81850567e-01,\n",
              "         2.71437485e-02,  9.56361890e-02,  5.68208285e-03,  2.27666005e-01,\n",
              "        -1.27220660e-01, -2.78747201e-01, -1.21941462e-01,  1.02628745e-01,\n",
              "        -3.62496376e-01, -1.56794921e-01,  6.10297434e-02, -7.27533400e-02,\n",
              "        -1.36022836e-01, -4.16084588e-01, -6.41334876e-02, -3.50518197e-01,\n",
              "        -1.25257269e-01, -2.89034635e-01, -3.03715527e-01, -9.29572582e-02,\n",
              "        -3.39730591e-01,  2.17707396e-01, -1.67146638e-01, -2.51489133e-01,\n",
              "        -5.25851957e-02, -2.74597526e-01, -9.61263850e-02, -8.57341220e-04,\n",
              "        -1.10713057e-01, -2.96954811e-01,  6.51032329e-02, -7.19658583e-02,\n",
              "        -1.12948455e-01, -2.52814859e-01, -6.63358271e-02,  6.88827187e-02,\n",
              "        -1.54626355e-01,  2.59457715e-02, -9.47929360e-03, -1.20293431e-01,\n",
              "        -1.31553739e-01, -2.60817651e-02, -2.87968308e-01, -5.14400266e-02,\n",
              "        -7.54788592e-02, -6.40210137e-02, -5.19081540e-02, -2.00827271e-02,\n",
              "         1.99831009e-01, -3.84433866e-01,  2.24931523e-01, -2.99804695e-02,\n",
              "        -1.31695941e-01,  6.93443492e-02, -4.42874469e-02, -2.81748354e-01,\n",
              "        -6.59259111e-02, -3.55892964e-02, -1.53291836e-01, -1.52229533e-01,\n",
              "         3.71707492e-02, -1.46341518e-01, -7.42012113e-02, -1.39781892e-01,\n",
              "         8.74194503e-02, -4.58705686e-02, -9.70764980e-02, -1.62151456e-01,\n",
              "        -2.84319967e-01, -1.84070274e-01, -1.22704118e-01,  2.00099736e-01,\n",
              "         1.12495847e-01,  1.28909543e-01, -3.02643776e-01, -1.30548984e-01,\n",
              "        -1.46524578e-01,  4.53356802e-01, -1.85507178e-01, -1.23756312e-01,\n",
              "        -2.93440074e-01, -3.77226800e-01,  7.19802231e-02, -1.73941944e-02,\n",
              "        -9.26127285e-02, -1.84487924e-01,  9.77058113e-02, -1.41186059e-01,\n",
              "         2.57591218e-01, -1.21270820e-01, -1.06299266e-01, -1.52583480e-01,\n",
              "        -3.04148376e-01,  1.63055360e-01,  4.99876849e-02, -3.07007074e-01,\n",
              "        -7.62895197e-02, -1.87002689e-01,  8.02993551e-02, -2.21347988e-01,\n",
              "         7.42133260e-02, -3.14141899e-01, -3.12195152e-01, -2.47786969e-01,\n",
              "        -1.59581110e-01, -8.19441304e-02, -2.82010496e-01,  5.73888700e-03,\n",
              "        -9.04357247e-03,  2.03116402e-01,  2.54320711e-01, -2.05414042e-01,\n",
              "        -1.67930666e-02, -8.02255198e-02, -2.71477818e-01, -3.58376443e-01,\n",
              "         2.88346529e-01, -1.34639442e-01,  1.21277019e-01, -3.91390026e-01,\n",
              "        -2.48042032e-01, -8.46053660e-02, -2.04119295e-01, -1.65045023e-01,\n",
              "        -1.96597785e-01,  1.25430256e-01, -3.73505175e-01, -1.89987898e-01,\n",
              "        -7.63382241e-02, -8.44576433e-02, -2.08501294e-01, -2.40702808e-01,\n",
              "        -3.40977252e-01, -1.56120025e-02, -2.09657878e-01, -1.79617375e-01,\n",
              "         2.29979813e-01, -1.43550605e-01, -1.93277746e-01, -2.72639155e-01,\n",
              "        -1.79941297e-01,  3.09553921e-01, -7.09348768e-02, -1.26451507e-01,\n",
              "        -7.33662173e-02,  2.86565274e-02,  3.50234732e-02, -1.14760362e-02,\n",
              "        -2.65826821e-01, -3.23195636e-01, -1.60472989e-01,  3.36287208e-02,\n",
              "         9.92530808e-02, -9.70958546e-02, -1.55354515e-01, -2.24150896e-01,\n",
              "        -1.87987193e-01, -2.52236038e-01,  1.35283042e-02, -1.00508898e-01,\n",
              "        -2.63458282e-01,  1.92965403e-01, -2.71913320e-01, -4.66443859e-02,\n",
              "        -2.14287296e-01, -5.11080146e-01,  9.71042663e-02,  1.42684445e-01,\n",
              "         5.45932911e-02, -1.45085409e-01, -6.04062900e-02,  3.74174826e-02,\n",
              "         1.67140648e-01,  7.41998032e-02, -2.28194803e-01, -1.09514348e-01,\n",
              "         2.12534159e-01,  2.66299903e-01,  2.43067164e-02,  1.26559418e-02,\n",
              "        -2.84148395e-01, -1.05743982e-01, -1.25016659e-01, -1.22302927e-01,\n",
              "         3.96212004e-02,  1.18917041e-01, -1.24074258e-01, -2.42234260e-01,\n",
              "         1.28014863e-01,  7.11908937e-02,  2.14234546e-01, -2.77186155e-01,\n",
              "        -8.98013487e-02, -3.15521479e-01, -1.25574678e-01,  6.86436966e-02,\n",
              "         1.16633490e-01, -1.82491109e-01, -2.71428198e-01,  2.34247342e-01,\n",
              "        -2.23200079e-02, -1.73061550e-01, -8.71876068e-03, -2.01634411e-03,\n",
              "         1.43181969e-04,  1.43604487e-01,  2.94377990e-02, -1.94698617e-01,\n",
              "        -3.71644646e-01, -1.60444304e-01, -2.86608100e-01,  2.92417016e-02,\n",
              "        -2.10339203e-01, -2.10221574e-01, -3.22268754e-01, -1.72943309e-01,\n",
              "         3.83217968e-02, -4.63724229e-03, -1.22250140e-01,  9.06465575e-02,\n",
              "        -3.83854881e-02, -1.45933196e-01, -1.29738793e-01, -1.57433227e-02,\n",
              "        -3.02396297e-01,  1.49959847e-01, -1.28888309e-01, -4.10955921e-02,\n",
              "        -1.77462012e-01, -4.47420552e-02,  3.83724310e-02,  3.87041360e-01,\n",
              "        -5.92985936e-02, -2.82918870e-01, -1.12240806e-01, -2.44127676e-01,\n",
              "         2.11291134e-01, -2.94700354e-01, -3.33952233e-02, -1.17580265e-01,\n",
              "        -1.74123317e-01, -2.36887559e-01, -7.19422922e-02, -2.37451330e-01,\n",
              "        -1.35660604e-01, -5.70959002e-02, -1.40838876e-01, -1.68911487e-01,\n",
              "         7.74114858e-03,  7.15907440e-02, -2.87035763e-01, -2.39350989e-01,\n",
              "        -3.43764514e-01, -7.84603953e-02,  6.50311485e-02,  2.68918276e-01,\n",
              "        -2.47644395e-01, -8.11713859e-02, -1.54412806e-01,  5.68316877e-02,\n",
              "        -1.21140964e-01,  9.85576063e-02, -1.56948969e-01, -1.35621969e-02,\n",
              "         3.46365422e-02, -1.38459802e-01, -1.15235247e-01,  8.20151120e-02,\n",
              "        -2.34074846e-01, -1.56781495e-01,  2.39328668e-01, -1.07891820e-01,\n",
              "         7.27873594e-02, -3.75262618e-01,  4.22566459e-02, -6.59819543e-02,\n",
              "        -1.25051528e-01, -2.52217233e-01, -1.04821147e-02, -3.81267607e-01,\n",
              "         8.72469023e-02, -5.11983037e-02, -4.66535687e-02, -2.91347504e-01,\n",
              "         7.22451583e-02, -7.29085878e-02, -2.10537180e-01,  1.38290385e-02,\n",
              "        -1.45606279e-01,  2.15456575e-01, -3.25674266e-01, -1.46299332e-01,\n",
              "        -8.43600333e-02, -8.28982219e-02, -1.72314197e-01, -1.86421782e-01,\n",
              "        -2.52173305e-01, -1.93939637e-02,  1.87400714e-01, -2.04971522e-01,\n",
              "         1.27876222e-01, -6.34341761e-02, -1.92946732e-01, -2.38637835e-01,\n",
              "        -4.55417335e-01, -2.82815039e-01,  7.72073790e-02, -2.98734844e-01,\n",
              "        -2.40752205e-01, -2.65185423e-02, -1.65301219e-01, -1.71257585e-01,\n",
              "        -3.87951553e-01, -6.02315478e-02, -2.22400263e-01, -3.05842996e-01,\n",
              "        -9.07703862e-02, -1.40203303e-02,  1.18057370e-01, -6.86865970e-02,\n",
              "        -2.15703279e-01, -4.50402498e-02, -1.20693550e-01, -1.74884200e-01,\n",
              "         1.68722212e-01, -2.19941959e-01,  2.05336928e-01, -6.27366826e-02,\n",
              "        -1.94435030e-01, -9.57217813e-03, -3.48416954e-01, -3.88356417e-01,\n",
              "        -2.55655590e-02,  1.63353100e-01, -1.19231939e-01, -3.03498376e-02,\n",
              "        -2.53325582e-01, -4.83871512e-02,  9.92375389e-02, -2.04558715e-01],\n",
              "       dtype=float32)>,\n",
              " <tf.Variable 'dense_layer_3/kernel:0' shape=(512, 10) dtype=float32, numpy=\n",
              " array([[-0.13134944, -0.1669066 ,  0.12055307, ..., -0.28794   ,\n",
              "          0.03381959, -0.00726459],\n",
              "        [-0.06899304, -0.14367472,  0.09103339, ..., -0.37896168,\n",
              "          0.05734251, -0.02432683],\n",
              "        [ 0.07218383, -0.15817036,  0.02306039, ...,  0.12958834,\n",
              "         -0.06716516,  0.14825508],\n",
              "        ...,\n",
              "        [ 0.15838364, -0.16133137,  0.10191449, ...,  0.03765681,\n",
              "         -0.01421034, -0.06646257],\n",
              "        [-0.19883366, -0.03961432, -0.23319887, ..., -0.09772148,\n",
              "          0.06493415,  0.08342973],\n",
              "        [-0.19475089,  0.12787816,  0.04498694, ..., -0.17421636,\n",
              "         -0.13989857,  0.07100902]], dtype=float32)>,\n",
              " <tf.Variable 'dense_layer_3/bias:0' shape=(10,) dtype=float32, numpy=\n",
              " array([-0.03429961, -0.21169865, -0.15685622, -0.05673941, -0.04375647,\n",
              "        -0.14323148, -0.12704305, -0.22098607,  0.6162668 ,  0.13951716],\n",
              "       dtype=float32)>]"
            ]
          },
          "metadata": {},
          "execution_count": 55
        }
      ]
    },
    {
      "cell_type": "code",
      "metadata": {
        "outputId": "7e1f6e9e-7ff3-4bcb-bf99-973caafcb65b",
        "id": "0cV3gfkLkp-M",
        "colab": {
          "base_uri": "https://localhost:8080/"
        }
      },
      "source": [
        "model_5.get_config()"
      ],
      "execution_count": 56,
      "outputs": [
        {
          "output_type": "execute_result",
          "data": {
            "text/plain": [
              "{'layers': [{'class_name': 'InputLayer',\n",
              "   'config': {'batch_input_shape': (None, 784),\n",
              "    'dtype': 'float32',\n",
              "    'name': 'dense_layer_input',\n",
              "    'ragged': False,\n",
              "    'sparse': False}},\n",
              "  {'class_name': 'Dense',\n",
              "   'config': {'activation': 'relu',\n",
              "    'activity_regularizer': None,\n",
              "    'batch_input_shape': (None, 784),\n",
              "    'bias_constraint': None,\n",
              "    'bias_initializer': {'class_name': 'Zeros', 'config': {}},\n",
              "    'bias_regularizer': None,\n",
              "    'dtype': 'float32',\n",
              "    'kernel_constraint': None,\n",
              "    'kernel_initializer': {'class_name': 'GlorotUniform',\n",
              "     'config': {'seed': None}},\n",
              "    'kernel_regularizer': None,\n",
              "    'name': 'dense_layer',\n",
              "    'trainable': True,\n",
              "    'units': 512,\n",
              "    'use_bias': True}},\n",
              "  {'class_name': 'Dropout',\n",
              "   'config': {'dtype': 'float32',\n",
              "    'name': 'dropout_6',\n",
              "    'noise_shape': None,\n",
              "    'rate': 0.3,\n",
              "    'seed': None,\n",
              "    'trainable': True}},\n",
              "  {'class_name': 'Dense',\n",
              "   'config': {'activation': 'relu',\n",
              "    'activity_regularizer': None,\n",
              "    'bias_constraint': None,\n",
              "    'bias_initializer': {'class_name': 'Zeros', 'config': {}},\n",
              "    'bias_regularizer': None,\n",
              "    'dtype': 'float32',\n",
              "    'kernel_constraint': None,\n",
              "    'kernel_initializer': {'class_name': 'GlorotUniform',\n",
              "     'config': {'seed': None}},\n",
              "    'kernel_regularizer': None,\n",
              "    'name': 'dense_layer_2',\n",
              "    'trainable': True,\n",
              "    'units': 512,\n",
              "    'use_bias': True}},\n",
              "  {'class_name': 'Dropout',\n",
              "   'config': {'dtype': 'float32',\n",
              "    'name': 'dropout_7',\n",
              "    'noise_shape': None,\n",
              "    'rate': 0.3,\n",
              "    'seed': None,\n",
              "    'trainable': True}},\n",
              "  {'class_name': 'Dense',\n",
              "   'config': {'activation': 'softmax',\n",
              "    'activity_regularizer': None,\n",
              "    'bias_constraint': None,\n",
              "    'bias_initializer': {'class_name': 'Zeros', 'config': {}},\n",
              "    'bias_regularizer': None,\n",
              "    'dtype': 'float32',\n",
              "    'kernel_constraint': None,\n",
              "    'kernel_initializer': {'class_name': 'GlorotUniform',\n",
              "     'config': {'seed': None}},\n",
              "    'kernel_regularizer': None,\n",
              "    'name': 'dense_layer_3',\n",
              "    'trainable': True,\n",
              "    'units': 10,\n",
              "    'use_bias': True}}],\n",
              " 'name': 'sequential_5'}"
            ]
          },
          "metadata": {},
          "execution_count": 56
        }
      ]
    },
    {
      "cell_type": "markdown",
      "metadata": {
        "id": "jX8DXi1jiFYS"
      },
      "source": [
        "###Improved Model 6: Adding Another Hidden Layer to the Model"
      ]
    },
    {
      "cell_type": "code",
      "metadata": {
        "id": "5Ad_vKSRiNq0"
      },
      "source": [
        "import tensorflow as tf\n",
        "\n",
        "#In Keras, layers are assembled to build models \n",
        "from tensorflow.keras.layers import Dense\n",
        "from tensorflow.keras.layers import Dropout\n",
        "\n",
        "#Most common type of model is a stack of layers\n",
        "model_6 = tf.keras.Sequential()\n",
        "N_hidden = 512\n",
        "\n",
        "# Adds a densely-connected layer with 64 units to the model:\n",
        "model_6.add(Dense(N_hidden, name='dense_layer', input_shape=(784,), activation = 'relu'))\n",
        "# Now the model will take as input arrays of shape (*, 784)# and output arrays of shape (*, 64)\n",
        "model_6.add(Dropout(0.3))\n",
        "\n",
        "# Adding another dense layer:\n",
        "model_6.add(Dense(N_hidden, name='dense_layer_2', activation='relu'))\n",
        "model_6.add(Dropout(0.3))\n",
        "\n",
        "# Adding another dense layer:\n",
        "model_6.add(Dense(N_hidden, name='dense_layer_3', activation='relu'))\n",
        "model_6.add(Dropout(0.3))\n",
        "\n",
        "# Add an output layer with 10 output units (10 different classes):\n",
        "model_6.add(Dense(10, name='dense_layer_4', activation = 'softmax'))\n"
      ],
      "execution_count": 57,
      "outputs": []
    },
    {
      "cell_type": "code",
      "metadata": {
        "id": "OgTz-7_Ai03r"
      },
      "source": [
        "# Compiling the model.\n",
        "model_6.compile(optimizer='Adam', \n",
        "              loss='categorical_crossentropy',\n",
        "              metrics=['accuracy'])"
      ],
      "execution_count": 58,
      "outputs": []
    },
    {
      "cell_type": "code",
      "metadata": {
        "outputId": "2f51377b-7691-4389-9d43-17cccd489322",
        "id": "8wlsmatji03-",
        "colab": {
          "base_uri": "https://localhost:8080/"
        }
      },
      "source": [
        "# Training the model. \n",
        "training = model_6.fit(X_train, Y_train, batch_size=64, epochs=30, validation_split=0.2) "
      ],
      "execution_count": 59,
      "outputs": [
        {
          "output_type": "stream",
          "name": "stdout",
          "text": [
            "Epoch 1/30\n",
            "750/750 [==============================] - 3s 4ms/step - loss: 0.2959 - accuracy: 0.9088 - val_loss: 0.1231 - val_accuracy: 0.9632\n",
            "Epoch 2/30\n",
            "750/750 [==============================] - 3s 4ms/step - loss: 0.1408 - accuracy: 0.9567 - val_loss: 0.1028 - val_accuracy: 0.9701\n",
            "Epoch 3/30\n",
            "750/750 [==============================] - 2s 3ms/step - loss: 0.1098 - accuracy: 0.9667 - val_loss: 0.1188 - val_accuracy: 0.9675\n",
            "Epoch 4/30\n",
            "750/750 [==============================] - 3s 4ms/step - loss: 0.0922 - accuracy: 0.9719 - val_loss: 0.0937 - val_accuracy: 0.9747\n",
            "Epoch 5/30\n",
            "750/750 [==============================] - 2s 3ms/step - loss: 0.0810 - accuracy: 0.9753 - val_loss: 0.0913 - val_accuracy: 0.9750\n",
            "Epoch 6/30\n",
            "750/750 [==============================] - 2s 3ms/step - loss: 0.0729 - accuracy: 0.9779 - val_loss: 0.0872 - val_accuracy: 0.9756\n",
            "Epoch 7/30\n",
            "750/750 [==============================] - 2s 3ms/step - loss: 0.0683 - accuracy: 0.9793 - val_loss: 0.0857 - val_accuracy: 0.9781\n",
            "Epoch 8/30\n",
            "750/750 [==============================] - 3s 4ms/step - loss: 0.0605 - accuracy: 0.9807 - val_loss: 0.0931 - val_accuracy: 0.9772\n",
            "Epoch 9/30\n",
            "750/750 [==============================] - 3s 4ms/step - loss: 0.0547 - accuracy: 0.9836 - val_loss: 0.0880 - val_accuracy: 0.9776\n",
            "Epoch 10/30\n",
            "750/750 [==============================] - 3s 4ms/step - loss: 0.0527 - accuracy: 0.9843 - val_loss: 0.0900 - val_accuracy: 0.9778\n",
            "Epoch 11/30\n",
            "750/750 [==============================] - 2s 3ms/step - loss: 0.0507 - accuracy: 0.9849 - val_loss: 0.0859 - val_accuracy: 0.9773\n",
            "Epoch 12/30\n",
            "750/750 [==============================] - 2s 3ms/step - loss: 0.0483 - accuracy: 0.9850 - val_loss: 0.0826 - val_accuracy: 0.9791\n",
            "Epoch 13/30\n",
            "750/750 [==============================] - 3s 4ms/step - loss: 0.0456 - accuracy: 0.9861 - val_loss: 0.0907 - val_accuracy: 0.9792\n",
            "Epoch 14/30\n",
            "750/750 [==============================] - 3s 4ms/step - loss: 0.0416 - accuracy: 0.9870 - val_loss: 0.0918 - val_accuracy: 0.9792\n",
            "Epoch 15/30\n",
            "750/750 [==============================] - 2s 3ms/step - loss: 0.0411 - accuracy: 0.9876 - val_loss: 0.0918 - val_accuracy: 0.9801\n",
            "Epoch 16/30\n",
            "750/750 [==============================] - 2s 3ms/step - loss: 0.0378 - accuracy: 0.9885 - val_loss: 0.1003 - val_accuracy: 0.9793\n",
            "Epoch 17/30\n",
            "750/750 [==============================] - 2s 3ms/step - loss: 0.0392 - accuracy: 0.9882 - val_loss: 0.0943 - val_accuracy: 0.9802\n",
            "Epoch 18/30\n",
            "750/750 [==============================] - 2s 3ms/step - loss: 0.0354 - accuracy: 0.9890 - val_loss: 0.1062 - val_accuracy: 0.9796\n",
            "Epoch 19/30\n",
            "750/750 [==============================] - 2s 3ms/step - loss: 0.0377 - accuracy: 0.9889 - val_loss: 0.1081 - val_accuracy: 0.9773\n",
            "Epoch 20/30\n",
            "750/750 [==============================] - 3s 3ms/step - loss: 0.0340 - accuracy: 0.9899 - val_loss: 0.1106 - val_accuracy: 0.9793\n",
            "Epoch 21/30\n",
            "750/750 [==============================] - 2s 3ms/step - loss: 0.0363 - accuracy: 0.9903 - val_loss: 0.1022 - val_accuracy: 0.9800\n",
            "Epoch 22/30\n",
            "750/750 [==============================] - 3s 4ms/step - loss: 0.0353 - accuracy: 0.9900 - val_loss: 0.0913 - val_accuracy: 0.9800\n",
            "Epoch 23/30\n",
            "750/750 [==============================] - 3s 4ms/step - loss: 0.0314 - accuracy: 0.9914 - val_loss: 0.0928 - val_accuracy: 0.9812\n",
            "Epoch 24/30\n",
            "750/750 [==============================] - 3s 4ms/step - loss: 0.0333 - accuracy: 0.9904 - val_loss: 0.0970 - val_accuracy: 0.9804\n",
            "Epoch 25/30\n",
            "750/750 [==============================] - 2s 3ms/step - loss: 0.0326 - accuracy: 0.9907 - val_loss: 0.1111 - val_accuracy: 0.9798\n",
            "Epoch 26/30\n",
            "750/750 [==============================] - 3s 4ms/step - loss: 0.0342 - accuracy: 0.9907 - val_loss: 0.0933 - val_accuracy: 0.9817\n",
            "Epoch 27/30\n",
            "750/750 [==============================] - 3s 3ms/step - loss: 0.0308 - accuracy: 0.9914 - val_loss: 0.1030 - val_accuracy: 0.9812\n",
            "Epoch 28/30\n",
            "750/750 [==============================] - 3s 4ms/step - loss: 0.0296 - accuracy: 0.9918 - val_loss: 0.1006 - val_accuracy: 0.9815\n",
            "Epoch 29/30\n",
            "750/750 [==============================] - 2s 3ms/step - loss: 0.0261 - accuracy: 0.9926 - val_loss: 0.1147 - val_accuracy: 0.9809\n",
            "Epoch 30/30\n",
            "750/750 [==============================] - 3s 4ms/step - loss: 0.0322 - accuracy: 0.9908 - val_loss: 0.1024 - val_accuracy: 0.9799\n"
          ]
        }
      ]
    },
    {
      "cell_type": "code",
      "metadata": {
        "outputId": "fd0b6194-ce96-49e9-d094-77ecc19c8d36",
        "id": "we2ZBwRui04X",
        "colab": {
          "base_uri": "https://localhost:8080/",
          "height": 590
        }
      },
      "source": [
        "import matplotlib.pyplot as plt\n",
        "%matplotlib inline\n",
        "# list all data in training\n",
        "print(training.history.keys())\n",
        "# summarize training for accuracy\n",
        "plt.plot(training.history['accuracy'])\n",
        "plt.plot(training.history['val_accuracy'])\n",
        "plt.title('model accuracy')\n",
        "plt.ylabel('accuracy')\n",
        "plt.xlabel('epoch')\n",
        "plt.legend(['train', 'test'], loc='upper left')\n",
        "plt.show()\n",
        "# summarize traning for loss\n",
        "plt.plot(training.history['loss'])\n",
        "plt.plot(training.history['val_loss'])\n",
        "plt.title('model loss')\n",
        "plt.ylabel('loss')\n",
        "plt.xlabel('epoch')\n",
        "plt.legend(['train', 'test'], loc='upper left')\n",
        "plt.show()"
      ],
      "execution_count": 60,
      "outputs": [
        {
          "output_type": "stream",
          "name": "stdout",
          "text": [
            "dict_keys(['loss', 'accuracy', 'val_loss', 'val_accuracy'])\n"
          ]
        },
        {
          "output_type": "display_data",
          "data": {
            "text/plain": [
              "<Figure size 432x288 with 1 Axes>"
            ],
            "image/png": "[encoded data removed]"
          },
          "metadata": {
            "needs_background": "light"
          }
        },
        {
          "output_type": "display_data",
          "data": {
            "text/plain": [
              "<Figure size 432x288 with 1 Axes>"
            ],
            "image/png": "[encoded data removed]"
          },
          "metadata": {
            "needs_background": "light"
          }
        }
      ]
    },
    {
      "cell_type": "code",
      "metadata": {
        "outputId": "bf733199-290d-4b44-d38e-7b050bf48635",
        "id": "rW_yiiBci04l",
        "colab": {
          "base_uri": "https://localhost:8080/"
        }
      },
      "source": [
        "#evaluate the model\n",
        "test_loss, test_acc = model_6.evaluate(X_test, Y_test)\n",
        "print('Test accuracy:', test_acc)"
      ],
      "execution_count": 61,
      "outputs": [
        {
          "output_type": "stream",
          "name": "stdout",
          "text": [
            "313/313 [==============================] - 1s 2ms/step - loss: 0.0866 - accuracy: 0.9832\n",
            "Test accuracy: 0.9832000136375427\n"
          ]
        }
      ]
    },
    {
      "cell_type": "code",
      "metadata": {
        "outputId": "5414c5ce-cc5e-48aa-ea58-d91a460cf7c8",
        "id": "-st6PFxmi04q",
        "colab": {
          "base_uri": "https://localhost:8080/"
        }
      },
      "source": [
        "model_6.summary()"
      ],
      "execution_count": 62,
      "outputs": [
        {
          "output_type": "stream",
          "name": "stdout",
          "text": [
            "Model: \"sequential_6\"\n",
            "_________________________________________________________________\n",
            " Layer (type)                Output Shape              Param #   \n",
            "=================================================================\n",
            " dense_layer (Dense)         (None, 512)               401920    \n",
            "                                                                 \n",
            " dropout_8 (Dropout)         (None, 512)               0         \n",
            "                                                                 \n",
            " dense_layer_2 (Dense)       (None, 512)               262656    \n",
            "                                                                 \n",
            " dropout_9 (Dropout)         (None, 512)               0         \n",
            "                                                                 \n",
            " dense_layer_3 (Dense)       (None, 512)               262656    \n",
            "                                                                 \n",
            " dropout_10 (Dropout)        (None, 512)               0         \n",
            "                                                                 \n",
            " dense_layer_4 (Dense)       (None, 10)                5130      \n",
            "                                                                 \n",
            "=================================================================\n",
            "Total params: 932,362\n",
            "Trainable params: 932,362\n",
            "Non-trainable params: 0\n",
            "_________________________________________________________________\n"
          ]
        }
      ]
    },
    {
      "cell_type": "code",
      "metadata": {
        "outputId": "2859c2ed-5291-4454-ec0f-614d25ad1a93",
        "id": "VVS-TuqDi04v",
        "colab": {
          "base_uri": "https://localhost:8080/"
        }
      },
      "source": [
        "model_6.weights"
      ],
      "execution_count": 63,
      "outputs": [
        {
          "output_type": "execute_result",
          "data": {
            "text/plain": [
              "[<tf.Variable 'dense_layer/kernel:0' shape=(784, 512) dtype=float32, numpy=\n",
              " array([[ 0.03635458, -0.01635034,  0.03847137, ..., -0.04061801,\n",
              "          0.0234687 ,  0.02439713],\n",
              "        [ 0.02065951, -0.01286316, -0.00175539, ..., -0.01917565,\n",
              "          0.03148766, -0.02076732],\n",
              "        [ 0.03951145,  0.03477961,  0.06215622, ..., -0.03503507,\n",
              "          0.03889064, -0.00016738],\n",
              "        ...,\n",
              "        [ 0.02968391, -0.06554988,  0.012771  , ..., -0.06185226,\n",
              "         -0.03608841, -0.05654648],\n",
              "        [-0.03618954, -0.04054804, -0.03336007, ...,  0.05110269,\n",
              "         -0.0544772 ,  0.03032526],\n",
              "        [ 0.00261587,  0.01046085, -0.03183193, ...,  0.06387259,\n",
              "         -0.04517721,  0.03953046]], dtype=float32)>,\n",
              " <tf.Variable 'dense_layer/bias:0' shape=(512,) dtype=float32, numpy=\n",
              " array([-0.03149642, -0.2513793 ,  0.02370087, -0.05583332, -0.0880777 ,\n",
              "        -0.07890586, -0.03762795, -0.07068086, -0.0965941 , -0.1819124 ,\n",
              "        -0.10671455, -0.09971683, -0.02988418, -0.08001315,  0.06298979,\n",
              "        -0.04675809, -0.11471004, -0.05590071, -0.1321416 ,  0.09318437,\n",
              "        -0.05283285,  0.09927133,  0.05995048, -0.02215442, -0.04992409,\n",
              "         0.02686528, -0.09420027, -0.0730716 ,  0.02262201, -0.05779563,\n",
              "         0.07259668,  0.09485319,  0.04449902, -0.03677251, -0.04172212,\n",
              "         0.03215569, -0.17418508, -0.10175023, -0.08290995, -0.03185618,\n",
              "        -0.06324891, -0.01425047,  0.03685315, -0.17732814,  0.0302085 ,\n",
              "         0.03711303, -0.13644668, -0.04710745, -0.00112819, -0.05741203,\n",
              "        -0.0322981 , -0.00227687,  0.08807276, -0.08240119,  0.0252564 ,\n",
              "        -0.04363638,  0.00702412, -0.06779673, -0.09228313, -0.09811231,\n",
              "        -0.05162009, -0.01078882, -0.03624947, -0.11925636, -0.09078953,\n",
              "         0.03418618, -0.13309093, -0.06521866, -0.047621  , -0.16769816,\n",
              "        -0.13275006,  0.16533855,  0.01358726, -0.18839459, -0.1398948 ,\n",
              "        -0.05017443, -0.10681465,  0.11581784,  0.05843916, -0.04830028,\n",
              "        -0.09221543, -0.13495377, -0.01727764, -0.06087522, -0.05883043,\n",
              "         0.00111016,  0.08369391,  0.01274782,  0.00802533, -0.06169149,\n",
              "        -0.05831916,  0.01366609, -0.11633919, -0.13505794, -0.16727337,\n",
              "        -0.10368972, -0.16003954, -0.06931519, -0.03011727,  0.11519713,\n",
              "         0.04383196, -0.07503683, -0.13578834, -0.08269033, -0.09887978,\n",
              "        -0.11157605, -0.08983639, -0.09094839, -0.0624872 , -0.08639045,\n",
              "        -0.1387686 , -0.1751647 , -0.06059776, -0.08062888, -0.15318982,\n",
              "        -0.04475432, -0.05210616, -0.09805662, -0.08721625, -0.04795054,\n",
              "        -0.1194122 , -0.08840043, -0.08263068,  0.03232555, -0.11307934,\n",
              "        -0.02907574,  0.1478181 , -0.12389715, -0.01332292,  0.08707524,\n",
              "        -0.09752069, -0.03168976,  0.02467131, -0.04166711, -0.00928128,\n",
              "        -0.19264375, -0.01525141,  0.07909676,  0.01511051,  0.01273636,\n",
              "        -0.05848623, -0.02164822, -0.13447021, -0.00292622, -0.22819048,\n",
              "        -0.1020771 , -0.05170818, -0.0695946 , -0.13651475, -0.03943555,\n",
              "         0.03309472,  0.08794969,  0.04487044, -0.00456743,  0.02769915,\n",
              "         0.01671107, -0.04069089, -0.06140697, -0.11689209,  0.11888523,\n",
              "        -0.09385947, -0.04214102, -0.02428089,  0.0669491 , -0.1444104 ,\n",
              "        -0.07166919, -0.02352745,  0.00739806, -0.12560835, -0.04904157,\n",
              "        -0.01980972, -0.02764561, -0.07026969, -0.0562546 , -0.08819795,\n",
              "        -0.02286573, -0.014496  ,  0.01833708,  0.01563503, -0.06283818,\n",
              "         0.07162046, -0.13940634, -0.01602595, -0.04869359, -0.07512641,\n",
              "         0.11580045, -0.00366655, -0.12656075, -0.01615194, -0.16451576,\n",
              "        -0.12864512, -0.07548469,  0.04458788, -0.09499419, -0.11143427,\n",
              "        -0.05299446, -0.1395664 , -0.00844881, -0.0614494 , -0.18192019,\n",
              "        -0.01587846, -0.08416041, -0.16949424, -0.18364044, -0.02486487,\n",
              "        -0.03744524,  0.09436438,  0.00597358, -0.15279712,  0.02565311,\n",
              "        -0.05504535, -0.15313335, -0.10865846, -0.05350234, -0.05484863,\n",
              "        -0.06842664, -0.04087905, -0.11526164, -0.0910682 , -0.0331515 ,\n",
              "         0.02108821, -0.18693022, -0.11843348, -0.07816712, -0.18656918,\n",
              "         0.02834997, -0.06572856,  0.05353545, -0.000868  , -0.00618078,\n",
              "         0.03705516, -0.04781982, -0.16141352,  0.02586876, -0.11875001,\n",
              "         0.02686623, -0.17401585,  0.09771254, -0.15264177, -0.1155222 ,\n",
              "        -0.05924222,  0.03169105, -0.04428313, -0.03972834, -0.01985904,\n",
              "        -0.09089697, -0.00093139, -0.08051524, -0.0746082 , -0.0090835 ,\n",
              "         0.00077284, -0.05659586, -0.11660321, -0.15183209, -0.05642023,\n",
              "        -0.10206795, -0.07487278, -0.07611232, -0.03010773, -0.02908974,\n",
              "        -0.09995024, -0.07343981, -0.05667254, -0.04823065, -0.08545776,\n",
              "        -0.13684624, -0.21328269, -0.03883219, -0.21169193, -0.10574277,\n",
              "        -0.05693026, -0.06982966,  0.06213785, -0.11176494, -0.17176114,\n",
              "        -0.16626854,  0.01475661, -0.0644224 , -0.00823394, -0.0298168 ,\n",
              "         0.10825817, -0.03834718, -0.03661643, -0.10162198, -0.02720359,\n",
              "         0.02452677, -0.02804202, -0.03321819, -0.19339664, -0.21678115,\n",
              "         0.00040704, -0.03760736, -0.11632915, -0.03717007, -0.16143496,\n",
              "        -0.18206389,  0.10101305,  0.10605177, -0.03007845, -0.0624364 ,\n",
              "        -0.0003495 , -0.113203  , -0.13656537, -0.09408475, -0.11892655,\n",
              "        -0.0868223 ,  0.06609387, -0.05814963, -0.07132126,  0.03194463,\n",
              "        -0.1279239 , -0.09999891, -0.25569502, -0.11543947, -0.17649919,\n",
              "        -0.02668307, -0.14102437,  0.06172745, -0.02314446, -0.03309025,\n",
              "        -0.06954205, -0.00865472, -0.11079966, -0.01223389, -0.04188181,\n",
              "        -0.06204225, -0.02827342, -0.12693985, -0.25627372, -0.03404034,\n",
              "        -0.08305192, -0.09990864, -0.05265644, -0.06122072, -0.08791467,\n",
              "        -0.01969237,  0.06204368, -0.18210518, -0.02968476,  0.0208398 ,\n",
              "        -0.00167406, -0.03921372, -0.05463357,  0.0135339 , -0.03435218,\n",
              "        -0.07120093, -0.10142489, -0.12051746, -0.00368176,  0.00068259,\n",
              "        -0.14447165, -0.10977702, -0.19564655, -0.09224483, -0.13322559,\n",
              "        -0.06556342, -0.14277728, -0.1221994 , -0.09960415, -0.09822835,\n",
              "         0.06323986, -0.14769569, -0.07507685,  0.04349049,  0.08259035,\n",
              "        -0.16986997, -0.04837144, -0.05804341, -0.07312531, -0.08690747,\n",
              "        -0.1058135 , -0.02223956, -0.07566901,  0.03088111, -0.13914832,\n",
              "        -0.01021554,  0.09169202, -0.08849023, -0.04705794,  0.07385387,\n",
              "        -0.0687307 ,  0.04108571, -0.29215857,  0.08595984, -0.04723724,\n",
              "         0.04837996, -0.04963928, -0.03921343, -0.08261453, -0.10793853,\n",
              "        -0.00730177, -0.09843655, -0.04877159, -0.10072488, -0.10471331,\n",
              "        -0.06727455,  0.03077612,  0.01710911, -0.00530957,  0.02250736,\n",
              "        -0.13567102, -0.04167745, -0.03513962, -0.06691303, -0.0083685 ,\n",
              "        -0.13528843,  0.01169565, -0.05391493, -0.08275885, -0.11002786,\n",
              "        -0.09953583, -0.13270298, -0.1419601 ,  0.05809698, -0.14870444,\n",
              "         0.02994148, -0.23536377, -0.06028559,  0.09600155, -0.0968255 ,\n",
              "        -0.08950929, -0.02737826, -0.11541758, -0.05666219, -0.03470503,\n",
              "        -0.04877702,  0.01592974, -0.17095128,  0.03091424,  0.09196373,\n",
              "         0.08660576, -0.06166231, -0.07353292, -0.10660867, -0.09741095,\n",
              "        -0.10024423,  0.06110722, -0.05426532, -0.02816968,  0.04367056,\n",
              "        -0.03671924,  0.00427864, -0.04553289,  0.07402869, -0.0633141 ,\n",
              "        -0.16931424, -0.01905998, -0.07780063,  0.044332  ,  0.00598594,\n",
              "         0.04724762,  0.05108959, -0.13822135, -0.06428687, -0.13682723,\n",
              "         0.02561203,  0.08443384,  0.09057707, -0.00252253,  0.05123855,\n",
              "        -0.03380859, -0.13360067,  0.15032832, -0.1354941 , -0.11913306,\n",
              "        -0.06490942, -0.04705542, -0.07662252, -0.14323643, -0.12120364,\n",
              "        -0.01036431, -0.07973392, -0.03615785, -0.12657306, -0.0501763 ,\n",
              "        -0.06461286,  0.02334884,  0.00781905, -0.04281727,  0.08296085,\n",
              "         0.01883066,  0.03503991, -0.05530823,  0.03491303,  0.01206703,\n",
              "        -0.01385783, -0.08984713,  0.01464244,  0.04892581, -0.00875366,\n",
              "        -0.11147206,  0.00973163,  0.00925645, -0.067224  , -0.11252941,\n",
              "         0.01945956, -0.04442583,  0.04422566, -0.1284802 , -0.05824051,\n",
              "        -0.0034051 , -0.10969   , -0.12311603,  0.04055499, -0.0730897 ,\n",
              "        -0.05950626, -0.00752988, -0.03391713, -0.06793182, -0.04783895,\n",
              "        -0.0560937 , -0.19320823], dtype=float32)>,\n",
              " <tf.Variable 'dense_layer_2/kernel:0' shape=(512, 512) dtype=float32, numpy=\n",
              " array([[ 0.0111431 , -0.19999197,  0.16365571, ..., -0.07430219,\n",
              "          0.06317765, -0.05807133],\n",
              "        [ 0.02894317, -0.13176793, -0.1111824 , ...,  0.08813363,\n",
              "          0.01815214, -0.09178524],\n",
              "        [ 0.01761993, -0.07684392, -0.20346445, ...,  0.00547472,\n",
              "          0.03830449, -0.21030144],\n",
              "        ...,\n",
              "        [ 0.00303964, -0.00231396, -0.00842553, ...,  0.01638116,\n",
              "         -0.07377225,  0.04902155],\n",
              "        [-0.0366751 , -0.17549707,  0.18196785, ...,  0.24032965,\n",
              "         -0.04801711,  0.14560421],\n",
              "        [-0.17785434, -0.08848724, -0.14187917, ..., -0.07503853,\n",
              "          0.06928131,  0.1431259 ]], dtype=float32)>,\n",
              " <tf.Variable 'dense_layer_2/bias:0' shape=(512,) dtype=float32, numpy=\n",
              " array([-8.24473947e-02, -1.07823402e-01, -1.20055079e-01, -3.17674220e-01,\n",
              "        -1.39431939e-01,  2.08711594e-01,  2.11105958e-01,  1.21689225e-02,\n",
              "        -2.49389738e-01, -1.02824531e-01, -1.97431058e-01, -2.06617173e-02,\n",
              "        -1.97614074e-01,  1.19703881e-01, -2.88185269e-01,  2.47247275e-02,\n",
              "         7.28916526e-02, -1.69702962e-01, -1.28675923e-01,  2.09557369e-01,\n",
              "        -1.06043048e-01, -1.94385692e-01, -1.05881706e-01, -1.50449589e-01,\n",
              "        -4.67351787e-02,  8.44088718e-02, -1.16487853e-01, -1.96103394e-01,\n",
              "        -2.25470528e-01, -2.66955912e-01, -1.48867115e-01, -1.64637789e-01,\n",
              "         1.06494883e-02,  1.01058207e-01,  4.91996147e-02,  3.79180498e-02,\n",
              "         6.29634038e-02, -1.78725943e-01, -2.07994342e-01, -1.23486400e-01,\n",
              "         1.17879227e-01, -2.93636471e-01, -3.37815434e-02, -3.46621312e-02,\n",
              "        -7.39521871e-04, -1.05343178e-01, -1.00291558e-01, -1.57971486e-01,\n",
              "        -1.86818182e-01, -1.77076206e-01, -3.10608655e-01, -1.31022543e-01,\n",
              "        -2.21092533e-03, -3.25894624e-01, -7.06313327e-02, -1.53553426e-01,\n",
              "        -1.46886036e-01, -2.33647451e-01, -1.11009568e-01, -1.16705887e-01,\n",
              "        -1.41421437e-01, -1.25370502e-01, -9.77589097e-03, -1.14121139e-01,\n",
              "         1.87145710e-01, -2.34477669e-01, -9.43847895e-02, -5.67770153e-02,\n",
              "        -1.91459402e-01,  1.20211743e-01, -3.36661667e-01, -4.01643803e-03,\n",
              "        -2.56441504e-01, -2.34024823e-01, -6.29498810e-02, -2.54777133e-01,\n",
              "        -1.75523143e-02,  1.18824214e-01, -2.28867039e-01, -2.00372562e-01,\n",
              "        -1.01258941e-01, -1.07546173e-01, -1.26868531e-01, -3.79137322e-02,\n",
              "        -1.43719301e-01, -1.69554520e-02,  9.89899039e-02, -2.14731157e-01,\n",
              "         1.90889820e-01, -1.39759764e-01, -2.74153978e-01, -7.69364163e-02,\n",
              "        -1.15392789e-01, -7.89133683e-02, -1.98023349e-01, -2.30043009e-01,\n",
              "        -2.76576549e-01, -3.93181860e-01,  5.02832644e-02, -2.58381814e-01,\n",
              "        -4.27549899e-01, -1.35655850e-01,  2.05354393e-02, -2.46108502e-01,\n",
              "        -1.49767816e-01, -1.59992546e-01, -2.02673435e-01, -2.06594616e-01,\n",
              "        -1.95977777e-01, -1.59586549e-01, -6.21938482e-02, -8.19268152e-02,\n",
              "        -2.83600509e-01, -2.26487979e-01,  7.05423132e-02, -2.37071171e-01,\n",
              "        -8.94452184e-02, -2.63555020e-01, -8.21978822e-02,  1.26509869e-03,\n",
              "         1.28483638e-01,  1.67625308e-01, -3.81818235e-01, -9.79990661e-02,\n",
              "        -7.12831318e-02, -2.60809630e-01, -1.49593219e-01, -5.52048385e-02,\n",
              "        -4.43033241e-02, -2.75598079e-01, -3.16087365e-01, -1.00850686e-01,\n",
              "        -1.35473445e-01, -2.34684080e-01, -3.49018387e-02, -3.19927990e-01,\n",
              "        -1.28288731e-01, -2.40539655e-01, -3.17958593e-02, -2.33188868e-01,\n",
              "        -1.33354083e-01,  1.51996285e-01,  5.09979874e-02, -1.70294344e-01,\n",
              "         8.42901785e-03,  1.04351774e-01, -1.27505094e-01,  1.31111950e-01,\n",
              "         1.79402560e-01, -1.76962569e-01, -2.70569056e-01, -1.01150401e-01,\n",
              "        -1.31238932e-02,  3.25209498e-02, -1.52438805e-01, -1.05334550e-01,\n",
              "        -2.08930328e-01,  3.44806552e-01,  8.92940536e-02, -2.02298611e-01,\n",
              "        -3.21260504e-02, -2.19252229e-01,  2.25241885e-01, -1.87945262e-01,\n",
              "         1.52538776e-01, -7.38635734e-02, -7.08169341e-02,  6.31708875e-02,\n",
              "         1.67111665e-01,  7.57287368e-02,  6.46577552e-02, -3.26509476e-01,\n",
              "        -1.77711755e-01, -1.12317577e-01, -8.44653323e-02, -9.17516723e-02,\n",
              "        -1.57674462e-01,  6.84039369e-02,  2.07094789e-01, -4.21186648e-02,\n",
              "        -3.12682599e-01, -7.96753820e-03, -1.17980586e-02, -2.44729325e-01,\n",
              "        -9.02322084e-02, -1.93725735e-01, -2.12471440e-01, -1.22954234e-01,\n",
              "        -2.20158547e-01,  1.95640907e-01, -2.28341863e-01, -1.94843069e-01,\n",
              "        -9.46127921e-02, -5.16180042e-03,  4.52391095e-02, -2.12472931e-01,\n",
              "        -1.06051080e-01,  1.00323878e-01, -2.61467487e-01, -3.40633065e-01,\n",
              "        -4.06629257e-02,  6.08763508e-02, -3.35458905e-01, -5.71217500e-02,\n",
              "        -8.45301971e-02, -8.28353986e-02,  2.68149793e-01, -1.50497615e-01,\n",
              "        -1.05470596e-02,  1.96500272e-01, -2.38477319e-01, -1.63750216e-01,\n",
              "         1.56755269e-01, -1.50452539e-01, -3.71502370e-01,  1.33661956e-01,\n",
              "        -9.21921805e-02, -1.44371659e-01, -4.84234430e-02, -3.61665726e-01,\n",
              "         8.44883267e-03, -9.98376757e-02, -1.98091581e-01,  2.06950307e-03,\n",
              "        -3.52532834e-01, -2.21597165e-01, -2.11574987e-01, -8.33956897e-02,\n",
              "        -1.97294146e-01, -2.94139266e-01, -1.56145588e-01, -3.12560201e-01,\n",
              "        -3.00172232e-02, -1.94500178e-01,  6.34929240e-02, -1.23718001e-01,\n",
              "        -2.41794134e-03, -1.27939507e-01, -1.11204743e-01, -1.65185779e-01,\n",
              "        -1.26538768e-01,  1.13369681e-01, -1.78713292e-01, -2.80444801e-01,\n",
              "        -1.94443002e-01, -1.23200618e-01,  4.00263220e-01, -1.57106683e-01,\n",
              "        -7.64159532e-03,  7.09355921e-02,  1.41412750e-01, -1.22325726e-01,\n",
              "        -1.92582726e-01, -2.87853479e-02, -1.58092871e-01, -5.38048558e-02,\n",
              "         2.16357216e-01, -2.32254878e-01,  2.82609373e-01, -4.95446734e-02,\n",
              "        -6.58573359e-02,  1.29740298e-01, -1.86765239e-01, -1.88911721e-01,\n",
              "         1.09176666e-01, -1.73508584e-01, -3.68084788e-01, -1.97407901e-01,\n",
              "        -8.95836726e-02, -2.72405148e-02, -4.05663773e-02, -2.73781508e-01,\n",
              "        -2.27769360e-01, -1.34422064e-01, -5.80945089e-02, -2.49649584e-01,\n",
              "        -1.56054497e-01, -2.91919857e-01,  2.49062832e-02, -1.09735392e-02,\n",
              "        -1.09106377e-01, -3.70453537e-01, -1.90913118e-02,  1.90356508e-01,\n",
              "         2.23853085e-02, -1.88205257e-01, -3.48000467e-01, -2.76339263e-01,\n",
              "         5.08399606e-02, -3.57728034e-01,  5.54480478e-02, -2.37486899e-01,\n",
              "        -1.19892173e-01, -2.22291723e-01, -1.13714024e-01,  1.62423894e-01,\n",
              "        -3.29673469e-01, -1.23866238e-01, -1.48546234e-01,  3.45966406e-03,\n",
              "        -2.12442651e-01, -2.44933575e-01, -3.68613780e-01,  2.30880976e-02,\n",
              "        -1.28634185e-01, -7.93945417e-03, -5.19821458e-02, -2.68146873e-01,\n",
              "        -7.29514286e-02, -4.50392105e-02, -2.71102160e-01, -3.14810984e-02,\n",
              "        -2.75753438e-01, -1.07546277e-01, -1.58276156e-01, -9.31208283e-02,\n",
              "        -3.25484633e-01, -1.12960547e-01, -1.67371601e-01, -2.77588908e-02,\n",
              "        -3.01325411e-01,  2.42792457e-01,  8.03843793e-03,  1.40362289e-02,\n",
              "        -1.72382191e-01, -1.43536434e-01, -1.51839972e-01, -1.69426039e-01,\n",
              "        -1.03826672e-01, -1.91843763e-01, -1.19278885e-01, -2.79162109e-01,\n",
              "        -1.57814965e-01, -2.73748249e-01, -1.67434271e-02, -7.48239011e-02,\n",
              "        -3.99932325e-01, -1.63966224e-01, -2.20742106e-01,  2.12730259e-01,\n",
              "         3.75554003e-02, -1.45819247e-01,  1.46334648e-01, -4.00310099e-01,\n",
              "         2.98802312e-02, -1.34207875e-01,  1.85404360e-01, -1.48679599e-01,\n",
              "        -1.98612154e-01,  8.84360597e-02, -2.54998982e-01, -1.41765386e-01,\n",
              "        -2.34335065e-01, -1.65178552e-01, -2.60257185e-01,  8.13293606e-02,\n",
              "         1.19301394e-01,  8.02858248e-02,  9.13296789e-02, -2.63460398e-01,\n",
              "        -1.46641448e-01, -5.23137264e-02, -2.86281914e-01, -8.64404142e-02,\n",
              "        -1.76923126e-01,  9.74117138e-04, -3.08411509e-01, -1.77868500e-01,\n",
              "        -1.75807223e-01, -1.31720572e-03, -2.02625841e-01, -2.80795276e-01,\n",
              "         2.33994737e-01, -8.69438648e-02, -3.53907824e-01, -2.60513693e-01,\n",
              "         3.70044500e-01,  3.26283574e-02, -2.26805791e-01,  1.96543917e-01,\n",
              "        -4.71538231e-02, -1.82028189e-01, -1.56260401e-01, -2.88285553e-01,\n",
              "         3.85231264e-02,  9.03812647e-02, -1.64348990e-01, -2.49354959e-01,\n",
              "         2.63004517e-03, -2.18627945e-01, -1.75176293e-01,  2.50518858e-01,\n",
              "         1.28615960e-01, -3.24241370e-01, -1.31637320e-01, -5.94769493e-02,\n",
              "        -1.88388497e-01, -5.68835437e-02,  3.89084965e-02,  7.88788870e-02,\n",
              "        -2.92164683e-02, -2.72860289e-01, -7.24283531e-02, -1.92224607e-01,\n",
              "        -5.48396399e-03, -2.98794270e-01, -2.25457281e-01,  1.69318542e-02,\n",
              "        -3.36798638e-01,  1.60181932e-02, -1.55446336e-01, -3.07410717e-01,\n",
              "        -9.47605446e-03, -1.83133677e-01, -7.56775513e-02,  6.13092855e-02,\n",
              "        -2.14793205e-01,  1.08736619e-01, -2.64459938e-01, -3.56676914e-02,\n",
              "        -6.42532334e-02,  2.97989070e-01,  2.37835455e-04, -2.68538564e-01,\n",
              "        -1.59414336e-01,  1.29255027e-01, -1.55029044e-01, -1.99277028e-02,\n",
              "        -3.04634035e-01,  3.42171602e-02, -6.37205392e-02,  8.90137106e-02,\n",
              "        -2.27352589e-01, -9.27327871e-02, -3.00098598e-01,  1.77822977e-01,\n",
              "        -2.84821123e-01,  2.89977521e-01, -3.23978692e-01,  1.32394835e-01,\n",
              "        -2.14272305e-01,  4.93569300e-02, -1.03327885e-01, -1.70205534e-01,\n",
              "        -1.45077199e-01,  1.32544160e-01, -2.81410247e-01, -1.82708696e-01,\n",
              "        -3.94240320e-02, -1.25853628e-01, -1.74148038e-01, -1.67124584e-01,\n",
              "         7.67932981e-02,  1.02567807e-01, -1.96457103e-01, -1.79360718e-01,\n",
              "        -4.93890885e-03, -3.00601840e-01, -2.86090344e-01,  1.73621595e-01,\n",
              "         1.44192263e-01,  1.29274324e-01, -4.52315947e-03, -2.13005990e-01,\n",
              "        -1.94863334e-01, -1.60592258e-01, -5.61482608e-02, -9.67063233e-02,\n",
              "         3.07080541e-02,  2.19909456e-02, -2.31721416e-01, -3.41042489e-01,\n",
              "         2.28230014e-01, -1.71875447e-01,  8.47172551e-03, -1.29392728e-01,\n",
              "        -5.45105431e-04,  2.05453530e-01,  7.99461305e-02, -4.12812084e-02,\n",
              "        -5.96982427e-02,  1.32293142e-02, -1.95384100e-01,  3.19809198e-01,\n",
              "        -1.59353808e-01, -2.06799954e-02, -5.72851487e-02,  1.55477822e-01,\n",
              "        -2.12720826e-01, -2.69969046e-01, -9.95607823e-02, -2.16519967e-01,\n",
              "        -2.00993359e-01, -2.66105264e-01, -2.00473934e-01, -2.67939597e-01,\n",
              "        -8.98119137e-02, -1.97083846e-01, -1.82037085e-01, -2.16850385e-01,\n",
              "        -2.53931433e-02, -9.44482833e-02, -1.20165527e-01,  2.44408473e-01,\n",
              "        -8.78431723e-02,  3.13059762e-02, -4.49624881e-02,  1.44222528e-01,\n",
              "        -1.70526773e-01, -1.13972858e-01, -1.11845769e-01, -1.27058193e-01],\n",
              "       dtype=float32)>,\n",
              " <tf.Variable 'dense_layer_3/kernel:0' shape=(512, 512) dtype=float32, numpy=\n",
              " array([[-0.15363607, -0.21694973, -0.09279063, ...,  0.09293603,\n",
              "          0.10407829, -0.10539787],\n",
              "        [-0.12123389,  0.07906308,  0.15314183, ..., -0.02552395,\n",
              "          0.11300035,  0.17153916],\n",
              "        [ 0.01338014,  0.04945337, -0.03946284, ...,  0.04275892,\n",
              "         -0.2904511 , -0.1927497 ],\n",
              "        ...,\n",
              "        [ 0.15961489,  0.00325275, -0.19479066, ..., -0.03455558,\n",
              "         -0.10102747, -0.1134863 ],\n",
              "        [ 0.02350157, -0.22132854,  0.11048731, ..., -0.02877335,\n",
              "          0.01895244, -0.02204897],\n",
              "        [ 0.30447453,  0.08355571, -0.05993171, ..., -0.0480074 ,\n",
              "          0.01489672,  0.02556466]], dtype=float32)>,\n",
              " <tf.Variable 'dense_layer_3/bias:0' shape=(512,) dtype=float32, numpy=\n",
              " array([-3.39877121e-02,  1.03806652e-01, -1.55606553e-01, -7.81450123e-02,\n",
              "        -2.27088168e-01,  1.18795536e-01, -9.98525098e-02,  1.47730529e-01,\n",
              "        -9.40510184e-02, -3.22684385e-02, -1.78450093e-01, -1.69338927e-01,\n",
              "        -1.92135856e-01, -1.96230665e-01, -7.74668306e-02, -9.76425409e-02,\n",
              "        -2.04273328e-01,  2.28969708e-01,  1.75514132e-01, -1.38667256e-01,\n",
              "        -2.17420787e-01,  1.16805367e-01, -1.48790628e-02,  1.35962933e-01,\n",
              "        -1.41495978e-02, -4.73603755e-02, -1.17763104e-02, -1.12199828e-01,\n",
              "        -8.62439871e-02,  2.09602844e-02, -2.11478859e-01, -1.22835517e-01,\n",
              "        -1.13267586e-01,  1.03202961e-01, -1.38084367e-01,  4.70837206e-02,\n",
              "        -1.75614953e-01, -2.60066032e-01,  7.19210953e-02, -2.77512688e-02,\n",
              "         3.16808447e-02, -1.34102046e-01, -8.32337812e-02,  4.92642447e-02,\n",
              "        -1.01755917e-01, -1.90276399e-01,  1.21393561e-01, -1.78048536e-01,\n",
              "         9.80279744e-02, -2.61765927e-01, -1.82752669e-01, -1.93351105e-01,\n",
              "         2.81321853e-01,  8.91047120e-02,  1.72414586e-01, -5.21592796e-02,\n",
              "         2.66397804e-01,  5.10357833e-03, -8.27814341e-02, -1.99982554e-01,\n",
              "        -1.62382096e-01, -4.05369401e-02, -1.15434460e-01, -4.70662750e-02,\n",
              "         4.11045086e-03, -9.87061784e-02,  1.28009185e-01, -2.07186848e-01,\n",
              "         1.71950698e-01, -3.92802507e-02, -2.73420662e-01, -1.53446421e-01,\n",
              "        -9.09387916e-02,  6.85119703e-02, -1.88225076e-01,  2.09214419e-01,\n",
              "        -1.12112038e-01,  9.42235589e-02, -1.06732793e-01, -1.89878464e-01,\n",
              "        -6.32489100e-03, -1.98560998e-01, -2.59985626e-01, -1.56026915e-01,\n",
              "        -1.97248518e-01, -5.63225755e-03, -2.13140368e-01, -2.14826226e-01,\n",
              "         7.46789500e-02,  1.81416422e-01,  4.98676579e-03, -1.97980441e-02,\n",
              "        -7.57351145e-02,  1.56191498e-01, -1.18783720e-01,  2.30106428e-01,\n",
              "        -2.16176793e-01,  5.37667423e-03,  4.25642356e-02,  5.73618896e-03,\n",
              "        -6.25108033e-02,  7.07113296e-02, -2.53651947e-01, -1.38807669e-01,\n",
              "        -9.21402499e-02,  3.12574953e-02,  3.13244462e-02, -1.78150162e-01,\n",
              "         6.43093362e-02, -2.03562304e-01,  2.15444326e-01, -5.52285761e-02,\n",
              "        -1.83478057e-01, -5.25457337e-02,  2.43680775e-01,  1.00712880e-01,\n",
              "         1.50020927e-01, -2.18727231e-01, -1.81562841e-01, -1.23761073e-01,\n",
              "        -9.16987211e-02, -1.14298895e-01, -1.76694781e-01, -7.03794584e-02,\n",
              "        -1.63827986e-01,  6.44987971e-02, -9.69317555e-02,  1.32100321e-02,\n",
              "        -7.20381290e-02,  4.53513190e-02, -1.57766163e-01, -1.65048197e-01,\n",
              "         8.23245421e-02, -1.17554717e-01, -1.85898751e-01, -2.23241910e-01,\n",
              "        -1.80654138e-01, -2.64577083e-02, -8.38816091e-02,  3.21542211e-02,\n",
              "        -5.76899387e-02, -1.26431614e-01, -6.90167472e-02, -1.81800112e-01,\n",
              "        -1.45201027e-01, -9.19122249e-02,  1.13659084e-01,  4.60229628e-03,\n",
              "         7.54328594e-02,  9.47380960e-02, -1.46555990e-01,  2.24111248e-02,\n",
              "        -4.22723852e-02,  1.57848865e-01,  1.87426537e-01,  8.01810920e-02,\n",
              "         4.69024107e-02,  1.28014758e-01, -6.90628141e-02, -7.24085048e-02,\n",
              "        -1.38175949e-01, -9.37565491e-02, -2.35273335e-02, -1.39995273e-02,\n",
              "        -1.54278204e-01, -1.04486279e-01, -1.39169976e-01, -4.80108410e-02,\n",
              "        -1.35338694e-01, -1.18694119e-01, -6.74191564e-02,  1.48004204e-01,\n",
              "        -1.41310841e-01,  2.42691785e-01, -2.20149830e-01, -1.56429961e-01,\n",
              "         4.55627665e-02, -1.24183193e-01,  2.46774524e-01,  2.12867752e-01,\n",
              "        -8.13014656e-02, -3.25157255e-01, -5.73016070e-02, -9.20618474e-02,\n",
              "        -1.15784451e-01, -1.09356746e-01, -1.11823790e-01, -1.64977372e-01,\n",
              "        -8.05556178e-02, -2.90243834e-01, -1.72702134e-01, -1.60526633e-01,\n",
              "        -2.00204074e-01, -1.14528798e-01, -2.05434844e-01, -1.19005464e-01,\n",
              "        -2.28733532e-02, -5.57872728e-02, -1.16379656e-01,  2.29817837e-01,\n",
              "        -1.62646860e-01, -4.19881605e-02,  1.10967375e-01, -1.92177698e-01,\n",
              "        -1.95975274e-01, -4.85916734e-02, -2.41191909e-02, -2.20945813e-02,\n",
              "        -1.70113921e-01, -1.61906913e-01, -2.11800590e-01, -6.75220340e-02,\n",
              "         9.78870690e-02,  1.19912595e-01,  8.49448517e-03,  7.79530033e-02,\n",
              "         1.89806465e-02, -1.30068988e-01, -7.61551932e-02, -1.44375026e-01,\n",
              "        -5.97422086e-02,  2.07825884e-01,  1.31438375e-01, -9.44560394e-02,\n",
              "         1.35790175e-02, -4.90606464e-02, -1.43524855e-01, -3.74607407e-02,\n",
              "        -8.34686384e-02,  1.00394279e-01,  1.54979512e-01, -2.06907928e-01,\n",
              "        -1.66085944e-01, -1.79864705e-01, -1.76565632e-01, -2.47527093e-01,\n",
              "         1.80040345e-01, -1.13065310e-01, -2.42854282e-03, -7.95318559e-03,\n",
              "        -1.53595865e-01, -9.77779925e-02, -6.09165803e-02,  3.71031575e-02,\n",
              "        -1.86089486e-01,  1.80974364e-01,  1.46542219e-02, -6.39830008e-02,\n",
              "        -1.06487937e-01, -5.38361967e-02,  1.02512471e-01, -1.30431801e-01,\n",
              "        -1.48863345e-01, -1.01525389e-01, -7.87194446e-02, -1.97279334e-01,\n",
              "        -1.74501538e-01,  2.04764560e-01, -1.28445663e-02, -1.36243338e-02,\n",
              "        -5.30738980e-02, -2.05705702e-01, -2.13003844e-01, -2.15176374e-01,\n",
              "         4.41831090e-02,  1.70415297e-01, -4.68639620e-02, -3.45753804e-02,\n",
              "        -1.44931659e-01, -1.64244808e-02, -1.19303852e-01, -1.21134639e-01,\n",
              "        -7.46980682e-02,  3.61281522e-02, -1.53415456e-01, -1.48012802e-01,\n",
              "        -2.10352942e-01, -2.52628207e-01,  1.21214285e-01, -2.53681868e-01,\n",
              "        -1.52500123e-01, -1.23617351e-01, -5.44307455e-02,  1.57778054e-01,\n",
              "         1.12530977e-01, -2.17362642e-01, -6.71831891e-02,  2.23010719e-01,\n",
              "         4.78380034e-03, -2.33480036e-01,  7.03690425e-02, -9.62331071e-02,\n",
              "        -2.08421294e-02, -2.18949392e-02, -1.71089038e-01,  1.36132598e-01,\n",
              "         2.92428508e-02, -9.56436526e-03, -2.14334965e-01, -1.92594141e-01,\n",
              "        -1.81882307e-01, -5.99876605e-02,  9.86403897e-02, -2.06090927e-01,\n",
              "        -2.16627687e-01, -4.61575650e-02, -3.86056341e-02,  8.97967815e-03,\n",
              "        -1.56174213e-01, -8.70473534e-02, -1.38895109e-01, -1.30904928e-01,\n",
              "        -2.02698052e-01,  2.51921378e-02,  9.02977064e-02, -1.84665635e-01,\n",
              "        -4.80197519e-02,  2.22123355e-01, -7.92305171e-02, -1.74455598e-01,\n",
              "        -2.74237424e-01, -6.21784888e-02, -1.46824762e-01, -9.98648107e-02,\n",
              "        -2.34195441e-02, -1.40105277e-01,  5.14610298e-03, -1.50400877e-01,\n",
              "        -2.08020732e-01, -6.27241135e-02, -1.95580840e-01,  6.33681044e-02,\n",
              "        -1.80868775e-01, -2.18049735e-01,  2.07210898e-01, -1.00205287e-01,\n",
              "        -4.37841974e-02, -1.45746961e-01, -2.21025214e-01, -1.83604896e-01,\n",
              "        -1.84629813e-01, -1.03050761e-01,  6.73119852e-04, -5.83552271e-02,\n",
              "        -1.27121031e-01, -5.36425505e-04, -1.53748125e-01, -7.25622773e-02,\n",
              "        -2.24716086e-02, -2.08751723e-01, -1.23176865e-01, -1.08669356e-01,\n",
              "        -9.88655984e-02,  2.07538083e-01, -1.09511249e-01, -1.39120027e-01,\n",
              "        -4.36770245e-02, -1.75386384e-01,  2.16059815e-02, -2.18388379e-01,\n",
              "        -2.63911001e-02, -4.11159322e-02, -1.12666883e-01,  1.45495579e-01,\n",
              "         1.25935584e-01, -7.82473683e-02,  1.88275287e-03, -1.10070735e-01,\n",
              "        -1.01481415e-01, -7.84918442e-02,  4.49206233e-02, -1.48741037e-01,\n",
              "        -9.22883581e-03,  1.40403852e-01, -4.03037556e-02,  1.30937815e-01,\n",
              "        -1.67948350e-01, -1.30113229e-01, -1.79891720e-01,  1.62322998e-01,\n",
              "        -1.35805622e-01,  2.51937215e-03,  2.55763441e-01, -8.93045515e-02,\n",
              "        -5.43848909e-02, -1.88024297e-01,  2.02322975e-01,  3.30942422e-01,\n",
              "        -2.30813950e-01, -2.58228928e-01, -5.77500425e-02, -2.57986605e-01,\n",
              "        -9.56659392e-02,  1.08128637e-01,  7.02628419e-02,  5.16525730e-02,\n",
              "         4.47776169e-02, -1.96158350e-01, -1.54829845e-01, -1.08934142e-01,\n",
              "        -1.60871118e-01, -1.22239500e-01, -1.23225316e-01,  2.99430996e-01,\n",
              "        -9.14828777e-02, -3.12984258e-01, -1.84848115e-01, -3.17456305e-01,\n",
              "        -8.12969133e-02,  6.46253750e-02,  3.60256247e-02, -1.09492019e-01,\n",
              "         8.89949426e-02, -1.87003911e-01,  6.32098094e-02, -1.10836126e-01,\n",
              "         1.07813897e-02, -2.03721911e-01,  8.12314451e-02, -9.66042429e-02,\n",
              "         9.75691825e-02, -1.01442136e-01,  1.65798709e-01, -9.80025679e-02,\n",
              "         5.10326102e-02, -1.07072666e-01,  6.52422337e-03, -6.76876083e-02,\n",
              "        -1.04338117e-01, -1.17208891e-01, -1.48677453e-01,  6.64735064e-02,\n",
              "        -6.45442754e-02, -3.39750610e-02,  1.50741749e-02, -1.80487633e-01,\n",
              "         8.38943124e-02,  4.33940083e-01, -1.08728640e-01, -5.34648225e-02,\n",
              "        -2.21692398e-01, -9.57998857e-02, -1.11650333e-01, -1.46679386e-01,\n",
              "        -8.53607208e-02, -1.87241182e-01, -1.28472924e-01, -7.31068850e-02,\n",
              "        -2.10043967e-01, -1.34974733e-01, -8.99562240e-02,  9.92429927e-02,\n",
              "        -1.50882468e-01, -1.83648497e-01, -7.87774026e-02,  3.93979996e-02,\n",
              "        -6.78507239e-02, -1.01656981e-01, -4.69364673e-02, -1.85444191e-01,\n",
              "         3.31116021e-02, -1.51380658e-01, -7.66687170e-02, -1.72134832e-01,\n",
              "        -5.61092272e-02, -2.39354953e-01,  3.60597074e-01,  1.01169772e-01,\n",
              "         3.19093429e-02, -2.23693192e-01,  2.01004729e-01,  6.43370971e-02,\n",
              "        -1.60721675e-01, -1.41701013e-01, -1.10358767e-01, -3.19777541e-02,\n",
              "         1.68434426e-01, -9.08799022e-02,  1.67051196e-01, -1.22990660e-01,\n",
              "         5.84256910e-02, -2.62939513e-01, -1.35477632e-01,  2.84315914e-01,\n",
              "        -1.56685606e-01, -4.27286811e-02, -9.66665819e-02, -1.15125522e-01,\n",
              "        -1.55501947e-01, -1.63833305e-01, -2.92478036e-02,  1.15393549e-01,\n",
              "        -4.36042883e-02,  1.94061771e-01,  6.37248065e-03,  5.80885895e-02,\n",
              "         3.65753425e-04, -1.47581667e-01, -2.89899677e-01, -1.79115534e-01,\n",
              "        -9.15983319e-02,  9.20099020e-02, -1.31088808e-01,  4.21620905e-02,\n",
              "        -1.85120687e-01, -1.40770957e-01, -1.43896520e-01, -4.46331985e-02,\n",
              "        -4.00072634e-02, -1.66803494e-01, -1.13026910e-02, -2.04492927e-01],\n",
              "       dtype=float32)>,\n",
              " <tf.Variable 'dense_layer_4/kernel:0' shape=(512, 10) dtype=float32, numpy=\n",
              " array([[-0.16639543, -0.1589008 ,  0.05307963, ..., -0.26486978,\n",
              "          0.03452381, -0.13743529],\n",
              "        [ 0.03003532,  0.06263421, -0.10131969, ..., -0.31014636,\n",
              "          0.09477893, -0.21390565],\n",
              "        [-0.01377127,  0.09735493, -0.10224368, ..., -0.0061449 ,\n",
              "          0.02143074, -0.20714374],\n",
              "        ...,\n",
              "        [-0.25156245, -0.05841918,  0.00107577, ...,  0.02832177,\n",
              "          0.01042083,  0.06441296],\n",
              "        [-0.31512895,  0.02517595, -0.17508695, ...,  0.06303889,\n",
              "          0.02589708,  0.08791137],\n",
              "        [ 0.05501967, -0.00138994,  0.02911868, ...,  0.11928917,\n",
              "          0.01778535, -0.04831162]], dtype=float32)>,\n",
              " <tf.Variable 'dense_layer_4/bias:0' shape=(10,) dtype=float32, numpy=\n",
              " array([ 0.05147671, -0.0416306 , -0.13730508, -0.19545494, -0.14343788,\n",
              "        -0.14220549, -0.20066136, -0.21707866,  0.5110556 ,  0.30541295],\n",
              "       dtype=float32)>]"
            ]
          },
          "metadata": {},
          "execution_count": 63
        }
      ]
    },
    {
      "cell_type": "code",
      "metadata": {
        "outputId": "6436ecc8-e5bf-423a-c7b2-4ce48b39d4ea",
        "id": "V5lg_PNsi041",
        "colab": {
          "base_uri": "https://localhost:8080/"
        }
      },
      "source": [
        "model_6.get_config()"
      ],
      "execution_count": 64,
      "outputs": [
        {
          "output_type": "execute_result",
          "data": {
            "text/plain": [
              "{'layers': [{'class_name': 'InputLayer',\n",
              "   'config': {'batch_input_shape': (None, 784),\n",
              "    'dtype': 'float32',\n",
              "    'name': 'dense_layer_input',\n",
              "    'ragged': False,\n",
              "    'sparse': False}},\n",
              "  {'class_name': 'Dense',\n",
              "   'config': {'activation': 'relu',\n",
              "    'activity_regularizer': None,\n",
              "    'batch_input_shape': (None, 784),\n",
              "    'bias_constraint': None,\n",
              "    'bias_initializer': {'class_name': 'Zeros', 'config': {}},\n",
              "    'bias_regularizer': None,\n",
              "    'dtype': 'float32',\n",
              "    'kernel_constraint': None,\n",
              "    'kernel_initializer': {'class_name': 'GlorotUniform',\n",
              "     'config': {'seed': None}},\n",
              "    'kernel_regularizer': None,\n",
              "    'name': 'dense_layer',\n",
              "    'trainable': True,\n",
              "    'units': 512,\n",
              "    'use_bias': True}},\n",
              "  {'class_name': 'Dropout',\n",
              "   'config': {'dtype': 'float32',\n",
              "    'name': 'dropout_8',\n",
              "    'noise_shape': None,\n",
              "    'rate': 0.3,\n",
              "    'seed': None,\n",
              "    'trainable': True}},\n",
              "  {'class_name': 'Dense',\n",
              "   'config': {'activation': 'relu',\n",
              "    'activity_regularizer': None,\n",
              "    'bias_constraint': None,\n",
              "    'bias_initializer': {'class_name': 'Zeros', 'config': {}},\n",
              "    'bias_regularizer': None,\n",
              "    'dtype': 'float32',\n",
              "    'kernel_constraint': None,\n",
              "    'kernel_initializer': {'class_name': 'GlorotUniform',\n",
              "     'config': {'seed': None}},\n",
              "    'kernel_regularizer': None,\n",
              "    'name': 'dense_layer_2',\n",
              "    'trainable': True,\n",
              "    'units': 512,\n",
              "    'use_bias': True}},\n",
              "  {'class_name': 'Dropout',\n",
              "   'config': {'dtype': 'float32',\n",
              "    'name': 'dropout_9',\n",
              "    'noise_shape': None,\n",
              "    'rate': 0.3,\n",
              "    'seed': None,\n",
              "    'trainable': True}},\n",
              "  {'class_name': 'Dense',\n",
              "   'config': {'activation': 'relu',\n",
              "    'activity_regularizer': None,\n",
              "    'bias_constraint': None,\n",
              "    'bias_initializer': {'class_name': 'Zeros', 'config': {}},\n",
              "    'bias_regularizer': None,\n",
              "    'dtype': 'float32',\n",
              "    'kernel_constraint': None,\n",
              "    'kernel_initializer': {'class_name': 'GlorotUniform',\n",
              "     'config': {'seed': None}},\n",
              "    'kernel_regularizer': None,\n",
              "    'name': 'dense_layer_3',\n",
              "    'trainable': True,\n",
              "    'units': 512,\n",
              "    'use_bias': True}},\n",
              "  {'class_name': 'Dropout',\n",
              "   'config': {'dtype': 'float32',\n",
              "    'name': 'dropout_10',\n",
              "    'noise_shape': None,\n",
              "    'rate': 0.3,\n",
              "    'seed': None,\n",
              "    'trainable': True}},\n",
              "  {'class_name': 'Dense',\n",
              "   'config': {'activation': 'softmax',\n",
              "    'activity_regularizer': None,\n",
              "    'bias_constraint': None,\n",
              "    'bias_initializer': {'class_name': 'Zeros', 'config': {}},\n",
              "    'bias_regularizer': None,\n",
              "    'dtype': 'float32',\n",
              "    'kernel_constraint': None,\n",
              "    'kernel_initializer': {'class_name': 'GlorotUniform',\n",
              "     'config': {'seed': None}},\n",
              "    'kernel_regularizer': None,\n",
              "    'name': 'dense_layer_4',\n",
              "    'trainable': True,\n",
              "    'units': 10,\n",
              "    'use_bias': True}}],\n",
              " 'name': 'sequential_6'}"
            ]
          },
          "metadata": {},
          "execution_count": 64
        }
      ]
    },
    {
      "cell_type": "markdown",
      "source": [
        "#**Prediction**"
      ],
      "metadata": {
        "id": "mO1LHLcaDuLm"
      }
    },
    {
      "cell_type": "code",
      "source": [
        "plt.matshow(X_TRAIN[0])"
      ],
      "metadata": {
        "colab": {
          "base_uri": "https://localhost:8080/",
          "height": 292
        },
        "id": "lYe-WVpc6cYb",
        "outputId": "a96a77a2-0c20-4f19-efe2-80b7e6a99db7"
      },
      "execution_count": 65,
      "outputs": [
        {
          "output_type": "execute_result",
          "data": {
            "text/plain": [
              "<matplotlib.image.AxesImage at 0x7f9979bc2ad0>"
            ]
          },
          "metadata": {},
          "execution_count": 65
        },
        {
          "output_type": "display_data",
          "data": {
            "text/plain": [
              "<Figure size 288x288 with 1 Axes>"
            ],
            "image/png": "[encoded data removed]"
          },
          "metadata": {
            "needs_background": "light"
          }
        }
      ]
    },
    {
      "cell_type": "code",
      "source": [
        "Y_TRAIN[0]"
      ],
      "metadata": {
        "colab": {
          "base_uri": "https://localhost:8080/"
        },
        "id": "N_yNrL3SEIMX",
        "outputId": "2ff1b411-a4b0-45de-b5d7-ef6d0708538b"
      },
      "execution_count": 66,
      "outputs": [
        {
          "output_type": "execute_result",
          "data": {
            "text/plain": [
              "5"
            ]
          },
          "metadata": {},
          "execution_count": 66
        }
      ]
    },
    {
      "cell_type": "code",
      "source": [
        "plt.matshow(X_TEST[0])"
      ],
      "metadata": {
        "colab": {
          "base_uri": "https://localhost:8080/",
          "height": 292
        },
        "id": "owfYVdqvG15e",
        "outputId": "45a17f33-a12e-4228-f00e-cf3da056a305"
      },
      "execution_count": 67,
      "outputs": [
        {
          "output_type": "execute_result",
          "data": {
            "text/plain": [
              "<matplotlib.image.AxesImage at 0x7f9979b86110>"
            ]
          },
          "metadata": {},
          "execution_count": 67
        },
        {
          "output_type": "display_data",
          "data": {
            "text/plain": [
              "<Figure size 288x288 with 1 Axes>"
            ],
            "image/png": "[encoded data removed]"
          },
          "metadata": {
            "needs_background": "light"
          }
        }
      ]
    },
    {
      "cell_type": "code",
      "source": [
        "y_predicted_0 = model_0.predict(X_test)\n",
        "y_predicted_0[0]"
      ],
      "metadata": {
        "colab": {
          "base_uri": "https://localhost:8080/"
        },
        "id": "iFoeK0q0HHID",
        "outputId": "0f9d45bf-eb62-4984-960f-839b58c1411b"
      },
      "execution_count": 68,
      "outputs": [
        {
          "output_type": "execute_result",
          "data": {
            "text/plain": [
              "array([3.8873721e-05, 5.8404854e-09, 1.2400930e-04, 3.7659314e-03,\n",
              "       2.0158373e-06, 2.6046715e-05, 2.5431392e-08, 9.9549013e-01,\n",
              "       3.6729409e-05, 5.1627541e-04], dtype=float32)"
            ]
          },
          "metadata": {},
          "execution_count": 68
        }
      ]
    },
    {
      "cell_type": "code",
      "source": [
        "import numpy as np\n",
        "np.argmax(y_predicted_0[0])"
      ],
      "metadata": {
        "colab": {
          "base_uri": "https://localhost:8080/"
        },
        "id": "HTFcjdupHUnm",
        "outputId": "e27706da-611e-4a10-e1c2-e2913547ca6d"
      },
      "execution_count": 69,
      "outputs": [
        {
          "output_type": "execute_result",
          "data": {
            "text/plain": [
              "7"
            ]
          },
          "metadata": {},
          "execution_count": 69
        }
      ]
    },
    {
      "cell_type": "markdown",
      "source": [
        "## Prediction with different models"
      ],
      "metadata": {
        "id": "SdMi3zqPXyeF"
      }
    },
    {
      "cell_type": "code",
      "source": [
        "y_predicted_1 = model_1.predict(X_test)\n",
        "y_predicted_1[0]"
      ],
      "metadata": {
        "colab": {
          "base_uri": "https://localhost:8080/"
        },
        "id": "icmiI7SJPmDU",
        "outputId": "5b014203-2656-4516-fcf0-1f2e0b9f8f7c"
      },
      "execution_count": 70,
      "outputs": [
        {
          "output_type": "execute_result",
          "data": {
            "text/plain": [
              "array([1.3178901e-07, 1.4365168e-07, 1.3756738e-05, 6.5367966e-04,\n",
              "       1.3573870e-09, 2.1093250e-05, 1.6532313e-09, 9.9929953e-01,\n",
              "       1.0892692e-05, 8.2277057e-07], dtype=float32)"
            ]
          },
          "metadata": {},
          "execution_count": 70
        }
      ]
    },
    {
      "cell_type": "code",
      "source": [
        "np.argmax(y_predicted_1[0])"
      ],
      "metadata": {
        "colab": {
          "base_uri": "https://localhost:8080/"
        },
        "id": "nBa_bsLKW6_l",
        "outputId": "c0e95d66-3412-4cfb-de32-2459c8985488"
      },
      "execution_count": 71,
      "outputs": [
        {
          "output_type": "execute_result",
          "data": {
            "text/plain": [
              "7"
            ]
          },
          "metadata": {},
          "execution_count": 71
        }
      ]
    },
    {
      "cell_type": "code",
      "source": [
        "y_predicted_2 = model_2.predict(X_test)\n",
        "y_predicted_2[0]"
      ],
      "metadata": {
        "colab": {
          "base_uri": "https://localhost:8080/"
        },
        "id": "MUmRBrWeW-GC",
        "outputId": "fd51339e-b4ff-4a45-8b57-a7833ca665c7"
      },
      "execution_count": 76,
      "outputs": [
        {
          "output_type": "execute_result",
          "data": {
            "text/plain": [
              "array([1.92023393e-07, 9.26906012e-07, 1.08590386e-04, 1.29008142e-04,\n",
              "       7.94216337e-09, 4.49602489e-08, 7.34405037e-10, 9.99745429e-01,\n",
              "       3.64416692e-08, 1.58640123e-05], dtype=float32)"
            ]
          },
          "metadata": {},
          "execution_count": 76
        }
      ]
    },
    {
      "cell_type": "code",
      "source": [
        "np.argmax(y_predicted_2[0])"
      ],
      "metadata": {
        "colab": {
          "base_uri": "https://localhost:8080/"
        },
        "id": "YdVLXa4CXQvz",
        "outputId": "9e981672-e418-4a77-aec7-61463a90d58d"
      },
      "execution_count": 77,
      "outputs": [
        {
          "output_type": "execute_result",
          "data": {
            "text/plain": [
              "7"
            ]
          },
          "metadata": {},
          "execution_count": 77
        }
      ]
    },
    {
      "cell_type": "code",
      "source": [
        "y_predicted_3 = model_3.predict(X_test)\n",
        "y_predicted_3[0]"
      ],
      "metadata": {
        "colab": {
          "base_uri": "https://localhost:8080/"
        },
        "id": "2NkMLnECXC9M",
        "outputId": "35e3e1c1-144a-4998-d33f-49b2dc68ccaf"
      },
      "execution_count": 78,
      "outputs": [
        {
          "output_type": "execute_result",
          "data": {
            "text/plain": [
              "array([8.1813456e-10, 2.9387023e-08, 1.7531043e-05, 4.0925112e-05,\n",
              "       4.0092435e-12, 1.8078905e-08, 2.4397918e-14, 9.9994063e-01,\n",
              "       3.1711662e-09, 8.3068755e-07], dtype=float32)"
            ]
          },
          "metadata": {},
          "execution_count": 78
        }
      ]
    },
    {
      "cell_type": "code",
      "source": [
        "np.argmax(y_predicted_3[0])"
      ],
      "metadata": {
        "colab": {
          "base_uri": "https://localhost:8080/"
        },
        "id": "miv85RaPXXfN",
        "outputId": "fc763e68-2104-4d83-939e-4f4ce8eb25a6"
      },
      "execution_count": 79,
      "outputs": [
        {
          "output_type": "execute_result",
          "data": {
            "text/plain": [
              "7"
            ]
          },
          "metadata": {},
          "execution_count": 79
        }
      ]
    },
    {
      "cell_type": "code",
      "source": [
        "y_predicted_4 = model_4.predict(X_test)\n",
        "y_predicted_4[0]"
      ],
      "metadata": {
        "colab": {
          "base_uri": "https://localhost:8080/"
        },
        "id": "OCV3knewXEcf",
        "outputId": "0d881433-b90d-43eb-94d3-8f39056cfe4b"
      },
      "execution_count": 80,
      "outputs": [
        {
          "output_type": "execute_result",
          "data": {
            "text/plain": [
              "array([3.0214883e-18, 2.8065308e-13, 1.7325245e-15, 7.1935384e-14,\n",
              "       1.0823781e-19, 3.7707152e-19, 3.8438881e-24, 1.0000000e+00,\n",
              "       1.0482487e-19, 1.3413967e-10], dtype=float32)"
            ]
          },
          "metadata": {},
          "execution_count": 80
        }
      ]
    },
    {
      "cell_type": "code",
      "source": [
        "y_predicted_1 = model_1.predict(X_test)\n",
        "y_predicted_1[0]"
      ],
      "metadata": {
        "colab": {
          "base_uri": "https://localhost:8080/"
        },
        "id": "Eji5wUVeXGGu",
        "outputId": "23cbb1ba-04a1-421b-a2b6-c724066a2edd"
      },
      "execution_count": 75,
      "outputs": [
        {
          "output_type": "execute_result",
          "data": {
            "text/plain": [
              "array([1.3178901e-07, 1.4365168e-07, 1.3756738e-05, 6.5367966e-04,\n",
              "       1.3573870e-09, 2.1093250e-05, 1.6532313e-09, 9.9929953e-01,\n",
              "       1.0892692e-05, 8.2277057e-07], dtype=float32)"
            ]
          },
          "metadata": {},
          "execution_count": 75
        }
      ]
    },
    {
      "cell_type": "code",
      "source": [
        "np.argmax(y_predicted_4[0])"
      ],
      "metadata": {
        "colab": {
          "base_uri": "https://localhost:8080/"
        },
        "id": "nLG7Fw6aXcv6",
        "outputId": "25488821-55e9-41d4-87e4-716707334d4a"
      },
      "execution_count": 81,
      "outputs": [
        {
          "output_type": "execute_result",
          "data": {
            "text/plain": [
              "7"
            ]
          },
          "metadata": {},
          "execution_count": 81
        }
      ]
    },
    {
      "cell_type": "code",
      "source": [
        "y_predicted_5 = model_5.predict(X_test)\n",
        "y_predicted_5[0]"
      ],
      "metadata": {
        "colab": {
          "base_uri": "https://localhost:8080/"
        },
        "id": "shiM2wsbXIhG",
        "outputId": "b70fee7c-0592-4cb4-b163-a040035c68d3"
      },
      "execution_count": 82,
      "outputs": [
        {
          "output_type": "execute_result",
          "data": {
            "text/plain": [
              "array([8.7795575e-19, 1.0354136e-16, 3.5708368e-16, 9.1703754e-12,\n",
              "       5.6789842e-19, 1.9245665e-16, 1.4097495e-27, 1.0000000e+00,\n",
              "       3.3681301e-18, 2.2012647e-11], dtype=float32)"
            ]
          },
          "metadata": {},
          "execution_count": 82
        }
      ]
    },
    {
      "cell_type": "code",
      "source": [
        "np.argmax(y_predicted_5[0])"
      ],
      "metadata": {
        "colab": {
          "base_uri": "https://localhost:8080/"
        },
        "id": "594SAdnsXiag",
        "outputId": "3b4ce844-1459-4958-aa85-8f22c25d26d1"
      },
      "execution_count": 83,
      "outputs": [
        {
          "output_type": "execute_result",
          "data": {
            "text/plain": [
              "7"
            ]
          },
          "metadata": {},
          "execution_count": 83
        }
      ]
    },
    {
      "cell_type": "code",
      "source": [
        "y_predicted_6 = model_6.predict(X_test)\n",
        "y_predicted_6[0]"
      ],
      "metadata": {
        "colab": {
          "base_uri": "https://localhost:8080/"
        },
        "id": "H4aXy-MtXpBc",
        "outputId": "4da50254-85be-477c-f23c-9023cb92a27e"
      },
      "execution_count": 84,
      "outputs": [
        {
          "output_type": "execute_result",
          "data": {
            "text/plain": [
              "array([2.7726009e-24, 5.2450028e-12, 7.6173378e-13, 2.1584905e-15,\n",
              "       1.1744959e-15, 1.0261988e-19, 5.9278266e-33, 9.9999988e-01,\n",
              "       1.4525766e-18, 1.6521686e-07], dtype=float32)"
            ]
          },
          "metadata": {},
          "execution_count": 84
        }
      ]
    },
    {
      "cell_type": "code",
      "source": [
        "np.argmax(y_predicted_6[0])"
      ],
      "metadata": {
        "colab": {
          "base_uri": "https://localhost:8080/"
        },
        "id": "uXZQXaH9XkNk",
        "outputId": "93f85141-c6f3-419d-bef5-776ca9eff3c0"
      },
      "execution_count": 85,
      "outputs": [
        {
          "output_type": "execute_result",
          "data": {
            "text/plain": [
              "7"
            ]
          },
          "metadata": {},
          "execution_count": 85
        }
      ]
    },
    {
      "cell_type": "code",
      "source": [
        ""
      ],
      "metadata": {
        "id": "1qx11nQWXt-O"
      },
      "execution_count": null,
      "outputs": []
    }
  ]
}